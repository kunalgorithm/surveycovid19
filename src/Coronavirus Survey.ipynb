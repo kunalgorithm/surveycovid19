{
 "cells": [
  {
   "cell_type": "code",
   "execution_count": null,
   "metadata": {},
   "outputs": [],
   "source": [
    "import seaborn as sns\n",
    "import re\n",
    "import matplotlib.pyplot as plt\n",
    "import pandas as pd\n",
    "import matplotlib.pyplot as plt\n",
    "from datetime import datetime\n",
    "import math\n",
    "import plotly.graph_objs as go \n",
    "from plotly.offline import download_plotlyjs, init_notebook_mode, plot, iplot\n",
    "import matplotlib.font_manager\n",
    "%matplotlib inline"
   ]
  },
  {
   "cell_type": "code",
   "execution_count": 1034,
   "metadata": {},
   "outputs": [],
   "source": [
    "#data = pd.read_csv('Master.csv')\n",
    "data = pd.read_excel('Master.xlsx',sheet_name='Master',converters={'TimeFinished': str,' On a scale of 1 to 10, how reasonable do you think the public reaction is to COVID-19 now? (1 is under-reacting and 10 is overreacting)':str,'On a scale of 1 to 10, how much do you trust the government to respond to COVID-19 effectively? (1 is strongly distrust and 10 is strongly trust)':str,ds:str})\n",
    "for col in data.columns:\n",
    "    if data[col].dtype == 'O':\n",
    "        data[col] = data[col].str.lstrip()\n",
    "data['Datetime'] = pd.to_datetime(data.TimeFinished)\n",
    "data['Day'] = data['Datetime'].dt.strftime(\"%b-%d\")\n"
   ]
  },
  {
   "cell_type": "code",
   "execution_count": null,
   "metadata": {},
   "outputs": [],
   "source": [
    "data"
   ]
  },
  {
   "cell_type": "code",
   "execution_count": 41,
   "metadata": {},
   "outputs": [],
   "source": [
    "def piechart(data,col,time1=None,time2=None):    \n",
    "    if (time1 is not None and time2 is not None):\n",
    "        data = data[(data.Datetime >= time1) & (data.Datetime < time2)]\n",
    "    series = data[col]   \n",
    "    labels = ['Yes','No']\n",
    "    explode = (0, 0.05)  # only \"explode\" the \"No\" slice \n",
    "    plt.rcParams.update({'font.size': 11})\n",
    "    fig1, ax1 = plt.subplots()\n",
    "    ax1.pie(series.value_counts(dropna=False), labels=labels, explode=explode, autopct='%1.1f%%',\n",
    "            shadow=False,startangle=180, colors = ['Silver','Grey'],pctdistance=.5,labeldistance=.68)\n",
    "    ax1.axis('equal')\n",
    "    #csfont = {'fontname':'Calibri'}\n",
    "    #plt.title(re.sub('^Yes,', 'Loved ones affected -',col + \" (\"+time1.strftime(\"%b-%d\") +\" to \" + time2.strftime(\"%b-%d\"))+')',**csfont)\n",
    "    #direc = 'Images'\n",
    "    #plt.savefig(direc+'/'+series.name+'.png')\n"
   ]
  },
  {
   "cell_type": "code",
   "execution_count": 62,
   "metadata": {},
   "outputs": [
    {
     "ename": "SyntaxError",
     "evalue": "invalid syntax (<ipython-input-62-649c31858c9b>, line 23)",
     "output_type": "error",
     "traceback": [
      "\u001b[0;36m  File \u001b[0;32m\"<ipython-input-62-649c31858c9b>\"\u001b[0;36m, line \u001b[0;32m23\u001b[0m\n\u001b[0;31m    pullData = open(\"sampleText.txt\",\"r\").read()\u001b[0m\n\u001b[0m           ^\u001b[0m\n\u001b[0;31mSyntaxError\u001b[0m\u001b[0;31m:\u001b[0m invalid syntax\n"
     ]
    }
   ],
   "source": [
    "import matplotlib.pyplot as plt\n",
    "import matplotlib.animation as animation\n",
    "import time\n",
    "\n",
    "fig = plt.figure()\n",
    "ax1 = fig.add_subplot(1,1,1)\n",
    "\n",
    "#def piechart(data,col,time1=None,time2=None):    \n",
    "    #if (time1 is not None and time2 is not None):\n",
    "    #    data = data[(data.Datetime >= time1) & (data.Datetime < time2)]\n",
    "series = data[col]   \n",
    "labels = ['Yes','No']\n",
    "explode = (0, 0.05)  # only \"explode\" the \"No\" slice \n",
    "plt.rcParams.update({'font.size': 11})\n",
    "fig1, ax1 = plt.subplots()\n",
    "ax1.pie(series.value_counts(dropna=False), labels=labels, explode=explode, autopct='%1.1f%%',\n",
    "        shadow=False,startangle=180, colors = ['Silver','Grey'],pctdistance=.5,labeldistance=.68)\n",
    "ax1.axis('equal')\n",
    "\n",
    "def animate(i):\n",
    "    if (time1 is not None and time2 is not None):\n",
    "        data = data[(data.Datetime >= time1) & (data.Datetime < time2)\n",
    "    pullData = data\n",
    "    dataArray = pullData.split('\\n')\n",
    "    xar = []\n",
    "    yar = []\n",
    "    for eachLine in dataArray:\n",
    "        if len(eachLine)>1:\n",
    "            x,y = eachLine.split(',')\n",
    "            xar.append(int(x))\n",
    "            yar.append(int(y))\n",
    "    ax1.clear()\n",
    "    ax1.plot.pie(xar,yar)\n",
    "ani = animation.FuncAnimation(fig, animate, interval=10000)\n",
    "plt.show()"
   ]
  },
  {
   "cell_type": "code",
   "execution_count": 222,
   "metadata": {},
   "outputs": [
    {
     "data": {
      "application/javascript": [
       "/* Put everything inside the global mpl namespace */\n",
       "window.mpl = {};\n",
       "\n",
       "\n",
       "mpl.get_websocket_type = function() {\n",
       "    if (typeof(WebSocket) !== 'undefined') {\n",
       "        return WebSocket;\n",
       "    } else if (typeof(MozWebSocket) !== 'undefined') {\n",
       "        return MozWebSocket;\n",
       "    } else {\n",
       "        alert('Your browser does not have WebSocket support.' +\n",
       "              'Please try Chrome, Safari or Firefox ≥ 6. ' +\n",
       "              'Firefox 4 and 5 are also supported but you ' +\n",
       "              'have to enable WebSockets in about:config.');\n",
       "    };\n",
       "}\n",
       "\n",
       "mpl.figure = function(figure_id, websocket, ondownload, parent_element) {\n",
       "    this.id = figure_id;\n",
       "\n",
       "    this.ws = websocket;\n",
       "\n",
       "    this.supports_binary = (this.ws.binaryType != undefined);\n",
       "\n",
       "    if (!this.supports_binary) {\n",
       "        var warnings = document.getElementById(\"mpl-warnings\");\n",
       "        if (warnings) {\n",
       "            warnings.style.display = 'block';\n",
       "            warnings.textContent = (\n",
       "                \"This browser does not support binary websocket messages. \" +\n",
       "                    \"Performance may be slow.\");\n",
       "        }\n",
       "    }\n",
       "\n",
       "    this.imageObj = new Image();\n",
       "\n",
       "    this.context = undefined;\n",
       "    this.message = undefined;\n",
       "    this.canvas = undefined;\n",
       "    this.rubberband_canvas = undefined;\n",
       "    this.rubberband_context = undefined;\n",
       "    this.format_dropdown = undefined;\n",
       "\n",
       "    this.image_mode = 'full';\n",
       "\n",
       "    this.root = $('<div/>');\n",
       "    this._root_extra_style(this.root)\n",
       "    this.root.attr('style', 'display: inline-block');\n",
       "\n",
       "    $(parent_element).append(this.root);\n",
       "\n",
       "    this._init_header(this);\n",
       "    this._init_canvas(this);\n",
       "    this._init_toolbar(this);\n",
       "\n",
       "    var fig = this;\n",
       "\n",
       "    this.waiting = false;\n",
       "\n",
       "    this.ws.onopen =  function () {\n",
       "            fig.send_message(\"supports_binary\", {value: fig.supports_binary});\n",
       "            fig.send_message(\"send_image_mode\", {});\n",
       "            if (mpl.ratio != 1) {\n",
       "                fig.send_message(\"set_dpi_ratio\", {'dpi_ratio': mpl.ratio});\n",
       "            }\n",
       "            fig.send_message(\"refresh\", {});\n",
       "        }\n",
       "\n",
       "    this.imageObj.onload = function() {\n",
       "            if (fig.image_mode == 'full') {\n",
       "                // Full images could contain transparency (where diff images\n",
       "                // almost always do), so we need to clear the canvas so that\n",
       "                // there is no ghosting.\n",
       "                fig.context.clearRect(0, 0, fig.canvas.width, fig.canvas.height);\n",
       "            }\n",
       "            fig.context.drawImage(fig.imageObj, 0, 0);\n",
       "        };\n",
       "\n",
       "    this.imageObj.onunload = function() {\n",
       "        fig.ws.close();\n",
       "    }\n",
       "\n",
       "    this.ws.onmessage = this._make_on_message_function(this);\n",
       "\n",
       "    this.ondownload = ondownload;\n",
       "}\n",
       "\n",
       "mpl.figure.prototype._init_header = function() {\n",
       "    var titlebar = $(\n",
       "        '<div class=\"ui-dialog-titlebar ui-widget-header ui-corner-all ' +\n",
       "        'ui-helper-clearfix\"/>');\n",
       "    var titletext = $(\n",
       "        '<div class=\"ui-dialog-title\" style=\"width: 100%; ' +\n",
       "        'text-align: center; padding: 3px;\"/>');\n",
       "    titlebar.append(titletext)\n",
       "    this.root.append(titlebar);\n",
       "    this.header = titletext[0];\n",
       "}\n",
       "\n",
       "\n",
       "\n",
       "mpl.figure.prototype._canvas_extra_style = function(canvas_div) {\n",
       "\n",
       "}\n",
       "\n",
       "\n",
       "mpl.figure.prototype._root_extra_style = function(canvas_div) {\n",
       "\n",
       "}\n",
       "\n",
       "mpl.figure.prototype._init_canvas = function() {\n",
       "    var fig = this;\n",
       "\n",
       "    var canvas_div = $('<div/>');\n",
       "\n",
       "    canvas_div.attr('style', 'position: relative; clear: both; outline: 0');\n",
       "\n",
       "    function canvas_keyboard_event(event) {\n",
       "        return fig.key_event(event, event['data']);\n",
       "    }\n",
       "\n",
       "    canvas_div.keydown('key_press', canvas_keyboard_event);\n",
       "    canvas_div.keyup('key_release', canvas_keyboard_event);\n",
       "    this.canvas_div = canvas_div\n",
       "    this._canvas_extra_style(canvas_div)\n",
       "    this.root.append(canvas_div);\n",
       "\n",
       "    var canvas = $('<canvas/>');\n",
       "    canvas.addClass('mpl-canvas');\n",
       "    canvas.attr('style', \"left: 0; top: 0; z-index: 0; outline: 0\")\n",
       "\n",
       "    this.canvas = canvas[0];\n",
       "    this.context = canvas[0].getContext(\"2d\");\n",
       "\n",
       "    var backingStore = this.context.backingStorePixelRatio ||\n",
       "\tthis.context.webkitBackingStorePixelRatio ||\n",
       "\tthis.context.mozBackingStorePixelRatio ||\n",
       "\tthis.context.msBackingStorePixelRatio ||\n",
       "\tthis.context.oBackingStorePixelRatio ||\n",
       "\tthis.context.backingStorePixelRatio || 1;\n",
       "\n",
       "    mpl.ratio = (window.devicePixelRatio || 1) / backingStore;\n",
       "\n",
       "    var rubberband = $('<canvas/>');\n",
       "    rubberband.attr('style', \"position: absolute; left: 0; top: 0; z-index: 1;\")\n",
       "\n",
       "    var pass_mouse_events = true;\n",
       "\n",
       "    canvas_div.resizable({\n",
       "        start: function(event, ui) {\n",
       "            pass_mouse_events = false;\n",
       "        },\n",
       "        resize: function(event, ui) {\n",
       "            fig.request_resize(ui.size.width, ui.size.height);\n",
       "        },\n",
       "        stop: function(event, ui) {\n",
       "            pass_mouse_events = true;\n",
       "            fig.request_resize(ui.size.width, ui.size.height);\n",
       "        },\n",
       "    });\n",
       "\n",
       "    function mouse_event_fn(event) {\n",
       "        if (pass_mouse_events)\n",
       "            return fig.mouse_event(event, event['data']);\n",
       "    }\n",
       "\n",
       "    rubberband.mousedown('button_press', mouse_event_fn);\n",
       "    rubberband.mouseup('button_release', mouse_event_fn);\n",
       "    // Throttle sequential mouse events to 1 every 20ms.\n",
       "    rubberband.mousemove('motion_notify', mouse_event_fn);\n",
       "\n",
       "    rubberband.mouseenter('figure_enter', mouse_event_fn);\n",
       "    rubberband.mouseleave('figure_leave', mouse_event_fn);\n",
       "\n",
       "    canvas_div.on(\"wheel\", function (event) {\n",
       "        event = event.originalEvent;\n",
       "        event['data'] = 'scroll'\n",
       "        if (event.deltaY < 0) {\n",
       "            event.step = 1;\n",
       "        } else {\n",
       "            event.step = -1;\n",
       "        }\n",
       "        mouse_event_fn(event);\n",
       "    });\n",
       "\n",
       "    canvas_div.append(canvas);\n",
       "    canvas_div.append(rubberband);\n",
       "\n",
       "    this.rubberband = rubberband;\n",
       "    this.rubberband_canvas = rubberband[0];\n",
       "    this.rubberband_context = rubberband[0].getContext(\"2d\");\n",
       "    this.rubberband_context.strokeStyle = \"#000000\";\n",
       "\n",
       "    this._resize_canvas = function(width, height) {\n",
       "        // Keep the size of the canvas, canvas container, and rubber band\n",
       "        // canvas in synch.\n",
       "        canvas_div.css('width', width)\n",
       "        canvas_div.css('height', height)\n",
       "\n",
       "        canvas.attr('width', width * mpl.ratio);\n",
       "        canvas.attr('height', height * mpl.ratio);\n",
       "        canvas.attr('style', 'width: ' + width + 'px; height: ' + height + 'px;');\n",
       "\n",
       "        rubberband.attr('width', width);\n",
       "        rubberband.attr('height', height);\n",
       "    }\n",
       "\n",
       "    // Set the figure to an initial 600x600px, this will subsequently be updated\n",
       "    // upon first draw.\n",
       "    this._resize_canvas(600, 600);\n",
       "\n",
       "    // Disable right mouse context menu.\n",
       "    $(this.rubberband_canvas).bind(\"contextmenu\",function(e){\n",
       "        return false;\n",
       "    });\n",
       "\n",
       "    function set_focus () {\n",
       "        canvas.focus();\n",
       "        canvas_div.focus();\n",
       "    }\n",
       "\n",
       "    window.setTimeout(set_focus, 100);\n",
       "}\n",
       "\n",
       "mpl.figure.prototype._init_toolbar = function() {\n",
       "    var fig = this;\n",
       "\n",
       "    var nav_element = $('<div/>')\n",
       "    nav_element.attr('style', 'width: 100%');\n",
       "    this.root.append(nav_element);\n",
       "\n",
       "    // Define a callback function for later on.\n",
       "    function toolbar_event(event) {\n",
       "        return fig.toolbar_button_onclick(event['data']);\n",
       "    }\n",
       "    function toolbar_mouse_event(event) {\n",
       "        return fig.toolbar_button_onmouseover(event['data']);\n",
       "    }\n",
       "\n",
       "    for(var toolbar_ind in mpl.toolbar_items) {\n",
       "        var name = mpl.toolbar_items[toolbar_ind][0];\n",
       "        var tooltip = mpl.toolbar_items[toolbar_ind][1];\n",
       "        var image = mpl.toolbar_items[toolbar_ind][2];\n",
       "        var method_name = mpl.toolbar_items[toolbar_ind][3];\n",
       "\n",
       "        if (!name) {\n",
       "            // put a spacer in here.\n",
       "            continue;\n",
       "        }\n",
       "        var button = $('<button/>');\n",
       "        button.addClass('ui-button ui-widget ui-state-default ui-corner-all ' +\n",
       "                        'ui-button-icon-only');\n",
       "        button.attr('role', 'button');\n",
       "        button.attr('aria-disabled', 'false');\n",
       "        button.click(method_name, toolbar_event);\n",
       "        button.mouseover(tooltip, toolbar_mouse_event);\n",
       "\n",
       "        var icon_img = $('<span/>');\n",
       "        icon_img.addClass('ui-button-icon-primary ui-icon');\n",
       "        icon_img.addClass(image);\n",
       "        icon_img.addClass('ui-corner-all');\n",
       "\n",
       "        var tooltip_span = $('<span/>');\n",
       "        tooltip_span.addClass('ui-button-text');\n",
       "        tooltip_span.html(tooltip);\n",
       "\n",
       "        button.append(icon_img);\n",
       "        button.append(tooltip_span);\n",
       "\n",
       "        nav_element.append(button);\n",
       "    }\n",
       "\n",
       "    var fmt_picker_span = $('<span/>');\n",
       "\n",
       "    var fmt_picker = $('<select/>');\n",
       "    fmt_picker.addClass('mpl-toolbar-option ui-widget ui-widget-content');\n",
       "    fmt_picker_span.append(fmt_picker);\n",
       "    nav_element.append(fmt_picker_span);\n",
       "    this.format_dropdown = fmt_picker[0];\n",
       "\n",
       "    for (var ind in mpl.extensions) {\n",
       "        var fmt = mpl.extensions[ind];\n",
       "        var option = $(\n",
       "            '<option/>', {selected: fmt === mpl.default_extension}).html(fmt);\n",
       "        fmt_picker.append(option)\n",
       "    }\n",
       "\n",
       "    // Add hover states to the ui-buttons\n",
       "    $( \".ui-button\" ).hover(\n",
       "        function() { $(this).addClass(\"ui-state-hover\");},\n",
       "        function() { $(this).removeClass(\"ui-state-hover\");}\n",
       "    );\n",
       "\n",
       "    var status_bar = $('<span class=\"mpl-message\"/>');\n",
       "    nav_element.append(status_bar);\n",
       "    this.message = status_bar[0];\n",
       "}\n",
       "\n",
       "mpl.figure.prototype.request_resize = function(x_pixels, y_pixels) {\n",
       "    // Request matplotlib to resize the figure. Matplotlib will then trigger a resize in the client,\n",
       "    // which will in turn request a refresh of the image.\n",
       "    this.send_message('resize', {'width': x_pixels, 'height': y_pixels});\n",
       "}\n",
       "\n",
       "mpl.figure.prototype.send_message = function(type, properties) {\n",
       "    properties['type'] = type;\n",
       "    properties['figure_id'] = this.id;\n",
       "    this.ws.send(JSON.stringify(properties));\n",
       "}\n",
       "\n",
       "mpl.figure.prototype.send_draw_message = function() {\n",
       "    if (!this.waiting) {\n",
       "        this.waiting = true;\n",
       "        this.ws.send(JSON.stringify({type: \"draw\", figure_id: this.id}));\n",
       "    }\n",
       "}\n",
       "\n",
       "\n",
       "mpl.figure.prototype.handle_save = function(fig, msg) {\n",
       "    var format_dropdown = fig.format_dropdown;\n",
       "    var format = format_dropdown.options[format_dropdown.selectedIndex].value;\n",
       "    fig.ondownload(fig, format);\n",
       "}\n",
       "\n",
       "\n",
       "mpl.figure.prototype.handle_resize = function(fig, msg) {\n",
       "    var size = msg['size'];\n",
       "    if (size[0] != fig.canvas.width || size[1] != fig.canvas.height) {\n",
       "        fig._resize_canvas(size[0], size[1]);\n",
       "        fig.send_message(\"refresh\", {});\n",
       "    };\n",
       "}\n",
       "\n",
       "mpl.figure.prototype.handle_rubberband = function(fig, msg) {\n",
       "    var x0 = msg['x0'] / mpl.ratio;\n",
       "    var y0 = (fig.canvas.height - msg['y0']) / mpl.ratio;\n",
       "    var x1 = msg['x1'] / mpl.ratio;\n",
       "    var y1 = (fig.canvas.height - msg['y1']) / mpl.ratio;\n",
       "    x0 = Math.floor(x0) + 0.5;\n",
       "    y0 = Math.floor(y0) + 0.5;\n",
       "    x1 = Math.floor(x1) + 0.5;\n",
       "    y1 = Math.floor(y1) + 0.5;\n",
       "    var min_x = Math.min(x0, x1);\n",
       "    var min_y = Math.min(y0, y1);\n",
       "    var width = Math.abs(x1 - x0);\n",
       "    var height = Math.abs(y1 - y0);\n",
       "\n",
       "    fig.rubberband_context.clearRect(\n",
       "        0, 0, fig.canvas.width, fig.canvas.height);\n",
       "\n",
       "    fig.rubberband_context.strokeRect(min_x, min_y, width, height);\n",
       "}\n",
       "\n",
       "mpl.figure.prototype.handle_figure_label = function(fig, msg) {\n",
       "    // Updates the figure title.\n",
       "    fig.header.textContent = msg['label'];\n",
       "}\n",
       "\n",
       "mpl.figure.prototype.handle_cursor = function(fig, msg) {\n",
       "    var cursor = msg['cursor'];\n",
       "    switch(cursor)\n",
       "    {\n",
       "    case 0:\n",
       "        cursor = 'pointer';\n",
       "        break;\n",
       "    case 1:\n",
       "        cursor = 'default';\n",
       "        break;\n",
       "    case 2:\n",
       "        cursor = 'crosshair';\n",
       "        break;\n",
       "    case 3:\n",
       "        cursor = 'move';\n",
       "        break;\n",
       "    }\n",
       "    fig.rubberband_canvas.style.cursor = cursor;\n",
       "}\n",
       "\n",
       "mpl.figure.prototype.handle_message = function(fig, msg) {\n",
       "    fig.message.textContent = msg['message'];\n",
       "}\n",
       "\n",
       "mpl.figure.prototype.handle_draw = function(fig, msg) {\n",
       "    // Request the server to send over a new figure.\n",
       "    fig.send_draw_message();\n",
       "}\n",
       "\n",
       "mpl.figure.prototype.handle_image_mode = function(fig, msg) {\n",
       "    fig.image_mode = msg['mode'];\n",
       "}\n",
       "\n",
       "mpl.figure.prototype.updated_canvas_event = function() {\n",
       "    // Called whenever the canvas gets updated.\n",
       "    this.send_message(\"ack\", {});\n",
       "}\n",
       "\n",
       "// A function to construct a web socket function for onmessage handling.\n",
       "// Called in the figure constructor.\n",
       "mpl.figure.prototype._make_on_message_function = function(fig) {\n",
       "    return function socket_on_message(evt) {\n",
       "        if (evt.data instanceof Blob) {\n",
       "            /* FIXME: We get \"Resource interpreted as Image but\n",
       "             * transferred with MIME type text/plain:\" errors on\n",
       "             * Chrome.  But how to set the MIME type?  It doesn't seem\n",
       "             * to be part of the websocket stream */\n",
       "            evt.data.type = \"image/png\";\n",
       "\n",
       "            /* Free the memory for the previous frames */\n",
       "            if (fig.imageObj.src) {\n",
       "                (window.URL || window.webkitURL).revokeObjectURL(\n",
       "                    fig.imageObj.src);\n",
       "            }\n",
       "\n",
       "            fig.imageObj.src = (window.URL || window.webkitURL).createObjectURL(\n",
       "                evt.data);\n",
       "            fig.updated_canvas_event();\n",
       "            fig.waiting = false;\n",
       "            return;\n",
       "        }\n",
       "        else if (typeof evt.data === 'string' && evt.data.slice(0, 21) == \"data:image/png;base64\") {\n",
       "            fig.imageObj.src = evt.data;\n",
       "            fig.updated_canvas_event();\n",
       "            fig.waiting = false;\n",
       "            return;\n",
       "        }\n",
       "\n",
       "        var msg = JSON.parse(evt.data);\n",
       "        var msg_type = msg['type'];\n",
       "\n",
       "        // Call the  \"handle_{type}\" callback, which takes\n",
       "        // the figure and JSON message as its only arguments.\n",
       "        try {\n",
       "            var callback = fig[\"handle_\" + msg_type];\n",
       "        } catch (e) {\n",
       "            console.log(\"No handler for the '\" + msg_type + \"' message type: \", msg);\n",
       "            return;\n",
       "        }\n",
       "\n",
       "        if (callback) {\n",
       "            try {\n",
       "                // console.log(\"Handling '\" + msg_type + \"' message: \", msg);\n",
       "                callback(fig, msg);\n",
       "            } catch (e) {\n",
       "                console.log(\"Exception inside the 'handler_\" + msg_type + \"' callback:\", e, e.stack, msg);\n",
       "            }\n",
       "        }\n",
       "    };\n",
       "}\n",
       "\n",
       "// from http://stackoverflow.com/questions/1114465/getting-mouse-location-in-canvas\n",
       "mpl.findpos = function(e) {\n",
       "    //this section is from http://www.quirksmode.org/js/events_properties.html\n",
       "    var targ;\n",
       "    if (!e)\n",
       "        e = window.event;\n",
       "    if (e.target)\n",
       "        targ = e.target;\n",
       "    else if (e.srcElement)\n",
       "        targ = e.srcElement;\n",
       "    if (targ.nodeType == 3) // defeat Safari bug\n",
       "        targ = targ.parentNode;\n",
       "\n",
       "    // jQuery normalizes the pageX and pageY\n",
       "    // pageX,Y are the mouse positions relative to the document\n",
       "    // offset() returns the position of the element relative to the document\n",
       "    var x = e.pageX - $(targ).offset().left;\n",
       "    var y = e.pageY - $(targ).offset().top;\n",
       "\n",
       "    return {\"x\": x, \"y\": y};\n",
       "};\n",
       "\n",
       "/*\n",
       " * return a copy of an object with only non-object keys\n",
       " * we need this to avoid circular references\n",
       " * http://stackoverflow.com/a/24161582/3208463\n",
       " */\n",
       "function simpleKeys (original) {\n",
       "  return Object.keys(original).reduce(function (obj, key) {\n",
       "    if (typeof original[key] !== 'object')\n",
       "        obj[key] = original[key]\n",
       "    return obj;\n",
       "  }, {});\n",
       "}\n",
       "\n",
       "mpl.figure.prototype.mouse_event = function(event, name) {\n",
       "    var canvas_pos = mpl.findpos(event)\n",
       "\n",
       "    if (name === 'button_press')\n",
       "    {\n",
       "        this.canvas.focus();\n",
       "        this.canvas_div.focus();\n",
       "    }\n",
       "\n",
       "    var x = canvas_pos.x * mpl.ratio;\n",
       "    var y = canvas_pos.y * mpl.ratio;\n",
       "\n",
       "    this.send_message(name, {x: x, y: y, button: event.button,\n",
       "                             step: event.step,\n",
       "                             guiEvent: simpleKeys(event)});\n",
       "\n",
       "    /* This prevents the web browser from automatically changing to\n",
       "     * the text insertion cursor when the button is pressed.  We want\n",
       "     * to control all of the cursor setting manually through the\n",
       "     * 'cursor' event from matplotlib */\n",
       "    event.preventDefault();\n",
       "    return false;\n",
       "}\n",
       "\n",
       "mpl.figure.prototype._key_event_extra = function(event, name) {\n",
       "    // Handle any extra behaviour associated with a key event\n",
       "}\n",
       "\n",
       "mpl.figure.prototype.key_event = function(event, name) {\n",
       "\n",
       "    // Prevent repeat events\n",
       "    if (name == 'key_press')\n",
       "    {\n",
       "        if (event.which === this._key)\n",
       "            return;\n",
       "        else\n",
       "            this._key = event.which;\n",
       "    }\n",
       "    if (name == 'key_release')\n",
       "        this._key = null;\n",
       "\n",
       "    var value = '';\n",
       "    if (event.ctrlKey && event.which != 17)\n",
       "        value += \"ctrl+\";\n",
       "    if (event.altKey && event.which != 18)\n",
       "        value += \"alt+\";\n",
       "    if (event.shiftKey && event.which != 16)\n",
       "        value += \"shift+\";\n",
       "\n",
       "    value += 'k';\n",
       "    value += event.which.toString();\n",
       "\n",
       "    this._key_event_extra(event, name);\n",
       "\n",
       "    this.send_message(name, {key: value,\n",
       "                             guiEvent: simpleKeys(event)});\n",
       "    return false;\n",
       "}\n",
       "\n",
       "mpl.figure.prototype.toolbar_button_onclick = function(name) {\n",
       "    if (name == 'download') {\n",
       "        this.handle_save(this, null);\n",
       "    } else {\n",
       "        this.send_message(\"toolbar_button\", {name: name});\n",
       "    }\n",
       "};\n",
       "\n",
       "mpl.figure.prototype.toolbar_button_onmouseover = function(tooltip) {\n",
       "    this.message.textContent = tooltip;\n",
       "};\n",
       "mpl.toolbar_items = [[\"Home\", \"Reset original view\", \"fa fa-home icon-home\", \"home\"], [\"Back\", \"Back to previous view\", \"fa fa-arrow-left icon-arrow-left\", \"back\"], [\"Forward\", \"Forward to next view\", \"fa fa-arrow-right icon-arrow-right\", \"forward\"], [\"\", \"\", \"\", \"\"], [\"Pan\", \"Pan axes with left mouse, zoom with right\", \"fa fa-arrows icon-move\", \"pan\"], [\"Zoom\", \"Zoom to rectangle\", \"fa fa-square-o icon-check-empty\", \"zoom\"], [\"\", \"\", \"\", \"\"], [\"Download\", \"Download plot\", \"fa fa-floppy-o icon-save\", \"download\"]];\n",
       "\n",
       "mpl.extensions = [\"eps\", \"jpeg\", \"pdf\", \"png\", \"ps\", \"raw\", \"svg\", \"tif\"];\n",
       "\n",
       "mpl.default_extension = \"png\";var comm_websocket_adapter = function(comm) {\n",
       "    // Create a \"websocket\"-like object which calls the given IPython comm\n",
       "    // object with the appropriate methods. Currently this is a non binary\n",
       "    // socket, so there is still some room for performance tuning.\n",
       "    var ws = {};\n",
       "\n",
       "    ws.close = function() {\n",
       "        comm.close()\n",
       "    };\n",
       "    ws.send = function(m) {\n",
       "        //console.log('sending', m);\n",
       "        comm.send(m);\n",
       "    };\n",
       "    // Register the callback with on_msg.\n",
       "    comm.on_msg(function(msg) {\n",
       "        //console.log('receiving', msg['content']['data'], msg);\n",
       "        // Pass the mpl event to the overridden (by mpl) onmessage function.\n",
       "        ws.onmessage(msg['content']['data'])\n",
       "    });\n",
       "    return ws;\n",
       "}\n",
       "\n",
       "mpl.mpl_figure_comm = function(comm, msg) {\n",
       "    // This is the function which gets called when the mpl process\n",
       "    // starts-up an IPython Comm through the \"matplotlib\" channel.\n",
       "\n",
       "    var id = msg.content.data.id;\n",
       "    // Get hold of the div created by the display call when the Comm\n",
       "    // socket was opened in Python.\n",
       "    var element = $(\"#\" + id);\n",
       "    var ws_proxy = comm_websocket_adapter(comm)\n",
       "\n",
       "    function ondownload(figure, format) {\n",
       "        window.open(figure.imageObj.src);\n",
       "    }\n",
       "\n",
       "    var fig = new mpl.figure(id, ws_proxy,\n",
       "                           ondownload,\n",
       "                           element.get(0));\n",
       "\n",
       "    // Call onopen now - mpl needs it, as it is assuming we've passed it a real\n",
       "    // web socket which is closed, not our websocket->open comm proxy.\n",
       "    ws_proxy.onopen();\n",
       "\n",
       "    fig.parent_element = element.get(0);\n",
       "    fig.cell_info = mpl.find_output_cell(\"<div id='\" + id + \"'></div>\");\n",
       "    if (!fig.cell_info) {\n",
       "        console.error(\"Failed to find cell for figure\", id, fig);\n",
       "        return;\n",
       "    }\n",
       "\n",
       "    var output_index = fig.cell_info[2]\n",
       "    var cell = fig.cell_info[0];\n",
       "\n",
       "};\n",
       "\n",
       "mpl.figure.prototype.handle_close = function(fig, msg) {\n",
       "    var width = fig.canvas.width/mpl.ratio\n",
       "    fig.root.unbind('remove')\n",
       "\n",
       "    // Update the output cell to use the data from the current canvas.\n",
       "    fig.push_to_output();\n",
       "    var dataURL = fig.canvas.toDataURL();\n",
       "    // Re-enable the keyboard manager in IPython - without this line, in FF,\n",
       "    // the notebook keyboard shortcuts fail.\n",
       "    IPython.keyboard_manager.enable()\n",
       "    $(fig.parent_element).html('<img src=\"' + dataURL + '\" width=\"' + width + '\">');\n",
       "    fig.close_ws(fig, msg);\n",
       "}\n",
       "\n",
       "mpl.figure.prototype.close_ws = function(fig, msg){\n",
       "    fig.send_message('closing', msg);\n",
       "    // fig.ws.close()\n",
       "}\n",
       "\n",
       "mpl.figure.prototype.push_to_output = function(remove_interactive) {\n",
       "    // Turn the data on the canvas into data in the output cell.\n",
       "    var width = this.canvas.width/mpl.ratio\n",
       "    var dataURL = this.canvas.toDataURL();\n",
       "    this.cell_info[1]['text/html'] = '<img src=\"' + dataURL + '\" width=\"' + width + '\">';\n",
       "}\n",
       "\n",
       "mpl.figure.prototype.updated_canvas_event = function() {\n",
       "    // Tell IPython that the notebook contents must change.\n",
       "    IPython.notebook.set_dirty(true);\n",
       "    this.send_message(\"ack\", {});\n",
       "    var fig = this;\n",
       "    // Wait a second, then push the new image to the DOM so\n",
       "    // that it is saved nicely (might be nice to debounce this).\n",
       "    setTimeout(function () { fig.push_to_output() }, 1000);\n",
       "}\n",
       "\n",
       "mpl.figure.prototype._init_toolbar = function() {\n",
       "    var fig = this;\n",
       "\n",
       "    var nav_element = $('<div/>')\n",
       "    nav_element.attr('style', 'width: 100%');\n",
       "    this.root.append(nav_element);\n",
       "\n",
       "    // Define a callback function for later on.\n",
       "    function toolbar_event(event) {\n",
       "        return fig.toolbar_button_onclick(event['data']);\n",
       "    }\n",
       "    function toolbar_mouse_event(event) {\n",
       "        return fig.toolbar_button_onmouseover(event['data']);\n",
       "    }\n",
       "\n",
       "    for(var toolbar_ind in mpl.toolbar_items){\n",
       "        var name = mpl.toolbar_items[toolbar_ind][0];\n",
       "        var tooltip = mpl.toolbar_items[toolbar_ind][1];\n",
       "        var image = mpl.toolbar_items[toolbar_ind][2];\n",
       "        var method_name = mpl.toolbar_items[toolbar_ind][3];\n",
       "\n",
       "        if (!name) { continue; };\n",
       "\n",
       "        var button = $('<button class=\"btn btn-default\" href=\"#\" title=\"' + name + '\"><i class=\"fa ' + image + ' fa-lg\"></i></button>');\n",
       "        button.click(method_name, toolbar_event);\n",
       "        button.mouseover(tooltip, toolbar_mouse_event);\n",
       "        nav_element.append(button);\n",
       "    }\n",
       "\n",
       "    // Add the status bar.\n",
       "    var status_bar = $('<span class=\"mpl-message\" style=\"text-align:right; float: right;\"/>');\n",
       "    nav_element.append(status_bar);\n",
       "    this.message = status_bar[0];\n",
       "\n",
       "    // Add the close button to the window.\n",
       "    var buttongrp = $('<div class=\"btn-group inline pull-right\"></div>');\n",
       "    var button = $('<button class=\"btn btn-mini btn-primary\" href=\"#\" title=\"Stop Interaction\"><i class=\"fa fa-power-off icon-remove icon-large\"></i></button>');\n",
       "    button.click(function (evt) { fig.handle_close(fig, {}); } );\n",
       "    button.mouseover('Stop Interaction', toolbar_mouse_event);\n",
       "    buttongrp.append(button);\n",
       "    var titlebar = this.root.find($('.ui-dialog-titlebar'));\n",
       "    titlebar.prepend(buttongrp);\n",
       "}\n",
       "\n",
       "mpl.figure.prototype._root_extra_style = function(el){\n",
       "    var fig = this\n",
       "    el.on(\"remove\", function(){\n",
       "\tfig.close_ws(fig, {});\n",
       "    });\n",
       "}\n",
       "\n",
       "mpl.figure.prototype._canvas_extra_style = function(el){\n",
       "    // this is important to make the div 'focusable\n",
       "    el.attr('tabindex', 0)\n",
       "    // reach out to IPython and tell the keyboard manager to turn it's self\n",
       "    // off when our div gets focus\n",
       "\n",
       "    // location in version 3\n",
       "    if (IPython.notebook.keyboard_manager) {\n",
       "        IPython.notebook.keyboard_manager.register_events(el);\n",
       "    }\n",
       "    else {\n",
       "        // location in version 2\n",
       "        IPython.keyboard_manager.register_events(el);\n",
       "    }\n",
       "\n",
       "}\n",
       "\n",
       "mpl.figure.prototype._key_event_extra = function(event, name) {\n",
       "    var manager = IPython.notebook.keyboard_manager;\n",
       "    if (!manager)\n",
       "        manager = IPython.keyboard_manager;\n",
       "\n",
       "    // Check for shift+enter\n",
       "    if (event.shiftKey && event.which == 13) {\n",
       "        this.canvas_div.blur();\n",
       "        event.shiftKey = false;\n",
       "        // Send a \"J\" for go to next cell\n",
       "        event.which = 74;\n",
       "        event.keyCode = 74;\n",
       "        manager.command_mode();\n",
       "        manager.handle_keydown(event);\n",
       "    }\n",
       "}\n",
       "\n",
       "mpl.figure.prototype.handle_save = function(fig, msg) {\n",
       "    fig.ondownload(fig, null);\n",
       "}\n",
       "\n",
       "\n",
       "mpl.find_output_cell = function(html_output) {\n",
       "    // Return the cell and output element which can be found *uniquely* in the notebook.\n",
       "    // Note - this is a bit hacky, but it is done because the \"notebook_saving.Notebook\"\n",
       "    // IPython event is triggered only after the cells have been serialised, which for\n",
       "    // our purposes (turning an active figure into a static one), is too late.\n",
       "    var cells = IPython.notebook.get_cells();\n",
       "    var ncells = cells.length;\n",
       "    for (var i=0; i<ncells; i++) {\n",
       "        var cell = cells[i];\n",
       "        if (cell.cell_type === 'code'){\n",
       "            for (var j=0; j<cell.output_area.outputs.length; j++) {\n",
       "                var data = cell.output_area.outputs[j];\n",
       "                if (data.data) {\n",
       "                    // IPython >= 3 moved mimebundle to data attribute of output\n",
       "                    data = data.data;\n",
       "                }\n",
       "                if (data['text/html'] == html_output) {\n",
       "                    return [cell, data, j];\n",
       "                }\n",
       "            }\n",
       "        }\n",
       "    }\n",
       "}\n",
       "\n",
       "// Register the function which deals with the matplotlib target/channel.\n",
       "// The kernel may be null if the page has been refreshed.\n",
       "if (IPython.notebook.kernel != null) {\n",
       "    IPython.notebook.kernel.comm_manager.register_target('matplotlib', mpl.mpl_figure_comm);\n",
       "}\n"
      ],
      "text/plain": [
       "<IPython.core.display.Javascript object>"
      ]
     },
     "metadata": {},
     "output_type": "display_data"
    },
    {
     "data": {
      "text/html": [
       "<img src=\"data:image/png;base64,iVBORw0KGgoAAAANSUhEUgAAA2AAAAJACAYAAADrSQUmAAAAAXNSR0IArs4c6QAAQABJREFUeAHsnQeYJFXVhovNS1hgiUvaIWfJOQ0gIIiCShADjAHXiIoiShzSgoKgKIiAPyMgCAaSShBkEJQlR8lhSIKEZVni5v/7mrpLTW93T/d0qu56z/Ocqaobz31v1e06c6tuRRECAQhAAAIQgAAEIAABCEAAAhCAAAQgAAEIQAACEIAABCAAAQhAAAIQgAAEIAABCEAAAhCAAAQgAAEIQAACEIAABCAAAQhAAAIQgAAEIAABCEAAAhCAAAQgAAEIQAACEIAABCAAAQhAAAIQgAAEIAABCEAAAhCAAAQgAAEIQAACEIAABCAAAQhAAAIQgAAEIAABCEAAAhCAAAQgAAEIQAACEIAABCAAAQhAAAIQgAAEIAABCEAAAhCAAAQgAAEIQAACEIAABCAAAQhAAAIQgAAEIAABCEAAAhCAAAQgAAEIQAACEIAABCAAAQhAAAIQgAAEIAABCEAAAhCAAAQgAAEIQAACEIAABCAAAQhAAAIQgAAEIAABCEAAAhCAAAQgAAEIQAACEIAABCAAAQhAAAIQgAAEIAABCEAAAhCAAAQgAAEIQAACEIAABCAAAQhAAAIQgAAEIAABCEAAAhCAAAQgAAEIQAACEIAABCAAAQhAAAIQgAAEIAABCEAAAhCAAAQgAAEIQAACEIAABCAAAQhAAAIQgAAEIAABCEAAAhCAAAQgAAEIQAACEIAABCAAAQhAAAIQgAAEIAABCEAAAhCAAAQgAAEIQAACEIAABCAAAQhAAAIQgAAEIAABCEAAAhCAAAQgAAEIQAACEIAABCAAAQhAAAIQgAAEIAABCEAAAhCAAAQgAAEIQAACEIAABCAAAQhAAAIQgAAEIAABCEAAAhCAAAQgAAEIQAACEIAABCAAAQhAAAIQgAAEIAABCEAAAhCAAAQgAAEIQAACEIAABCAAAQhAAAIQgAAEIAABCEAAAhCAAAQgAAEIQAACEIAABCAAAQhAAAIQgAAEIAABCEAAAhCAAAQgAAEIQAACEIAABCAAAQhAAAIQgAAEIAABCEAAAhCAAAQgAAEIQAACEIAABCAAAQhAAAIQgEB1BHqVfY60S9pI6VVlg6m3J87XrS0CgUYT8Dlr7Wh0xWXUZ5uCfWUkJ0kKCHTIhmr6rDfO36Vtq8gmMvQq6avS2VK3v1vajtKhRlXTv+3IJL9NfTGjzvyIOh/3qXz3Tae0UulWBuftkSIQGJDAkAFTtHeCPdW8MBBeV0ZT11eabmmXtJR8R5Hd0g4pAgEItCaBcq/31mwdVldLYBEV0B1rtWVlOf+qanyvdHfpolI7Yf+TviVFIJB1Ap0CEO5TvT14ACDDFP9yIk/vAOmbFT1aFe8t/Y30Aamv92nSZ6W/l24rLSZfVkSSSan9x4sV0uxwd1SW5YBE43fU/nLS5xNh+bu+ITtaepO0R1pM7ICNl/ZK+6RIfQm8qOIflfqHG4FArQiUe73Xqr56lDNDhfraQGpPwA6Yfw8s3bm/tfmTtT77irDNL71Z+nHpFCkCAQgUJrC/gk8tHJUL3U1/lygRn5aov8mQzoQx72nfY9/y0n1j/am235fmyzsK8D9pSslSceTdpRI1My7LM2CLCfxHpe7Ii6Rm8Tkp0noEfiST15D+svVMx2II1JXACyrd14YVaQ0CWeuzteNuuVRbnK/WOEexsjkEPDu0nvRDJaq3g2Z55v1Nav8Ol2WPSQ+R+vfJM2ILSleV/llq+Z7U/6DJF9+zL11CP5bI0JPYT9Vulh2wz6gnfAJcIf113CvJGbE4iA0EIAABCEAAAnUi4BsvC48cvs+BvxAoRuDCOOLzRRJ4Vt6P8r4tvbxImrQEHypD1pSeIk0+pfGEjv1o4j+lFjtolUq4l/fTUeW8XlRp+TVJn2UHLHTQ70TSjz74Pwv2wjeVFpI5CjwvjthOWx8ntVPH3XHYeG0tN0qTaXodmCf2+A+T3iF9Q+ppWD+zerrUU7GFpFeBLrdL6h+vbqlP4Helfvb391L/F6GUfESR/5C6zqnSSdJiF7Wi+skIHX1Tam6TpdOk/m/L/0l9QZWSauotVm6PIsyjW5qUDh0E/g5fR2o2L0nN+RHpkVK3ZzDSpUwuv1dqOUBqjuZprjdI3d6BxP+t8T8CbNd0qfvQL6TvIi0kXQpM1vtZHfux2Nfi8D21DbKddv4ofV7qsm2Xzy8PzhOkhcYAh31J6jLdv2b1tPRs6SrSQtKpQNvUJ7VsJf2L9FWpz8v7pD5n5pMOVlzmX6W2yT8wLvM7UtvbI3X93dJ8cb+7n8N17vPVrHqlX5YOleaLyzovDtxOWx8ntTOOy9+soIBzpObtep6WniIdIy0lttHXj9Ob9xTpv6RflQ6X5kuHAoI9jttc+kepf3BmSX8mtXRIk+kcFqRHO47rlpqBWZqpnwowY/ffxtJSMtg+WVGF/kr6mNTnh+t8Rtor/ZF0cWmlMlIZ/H7EbVKf5y73Uemp0qWlhaRbgWbQIy0mPYoInEKaXu08HQ60dXxSuxNxPj+7pDdKfd7NkL4i/Y/UfZ4/RnQoLJSl3YLiPP+Qup2NHL8LGhMHVjpu9Cmf29kptZwnDe3uc0AZ0qk0ztMntewivV7q89fX0N+lW0iDLKydE6ThvHtO+z+W+nc0KdvqwOX6GvbTMsVkJUXMljrt6sUSDRDua//30pekvvYfkQ70u1QpaxWZOwdtZ68Piki3wp2mR5ovSyrgZOmDUo+/ttX8/i09VjpeWkiWUOCJ0gekb0md12W4H8ZKBxKn8TX8tNT98YLUY+w4aSnZXpF/lpqrf/u8vUy6g3Sw4j6+WOrfaI8v7qujpSOljZALVIn757PSoQUq/LTCbIvbbdbFZEFF7C39ndR94WvF7bHz49/5VaXFxPVbO6S+3/ut1OeBx7XLpeXKv5TQ104hcfj5ccQq2o4plKhI2AiFm4PlQql/D5EUEfAjDz6BXpUOj+06KQ47Iz7O3/ji9Y+d84WL2WFBt9T+9+Njd7jTTY6PQxpfFEnxydsndVqrT2BfNOHY+beS5kuvApzmIOnd8b4HQ9/EhLz+oV9ZWkgOUWBI5xP9dWmw+afa75U6vkuaLx707pWG/M7nG4Bw7Iv4k9JCUk29hcoLYT3acf3d0qR06CDYtbP2Ax8PNqG9jq9k0FDyudKlPefvlZ4W77tc8ww/yo73eVFIfO55gAg2ehvOsRD2kwIZu+I8vdqeHu+7Xp8v3u4ptXxFGsrx9m1p8vxy2ChpUubXwbXSkM/nunmFY/fvHtJ86VSA0/RJu6QzpWaQzOv4n0kHI/srU7LPzNjXi8v8s7Qn3u/WNl98nQf7bVe+TX9V2LC8TL5mQ18Uu95DllC2ufi687GviWCfj/0PljDWaLeffFNHyba5j2xnKPdG7btfktKhgxC/j/ZDXW6b7Q2cO7Qf0mm3n/ToyHHHS6+O9533zXjfce7vLaSFZLB9sqEKM59gl+t0f4Zjbz8irUSWUOIwFjq/x8NkHb42NpfmS7cCnL5HWkx6FOE03dIgPufsRDncGsb4sE1e879LpHNa99G0RNgk7SelQweh3GR42K9mHK1m/A71F9oOZtzwNWFe7n+319db4Oe4cqRTiZy3T/p1qcccX0vh2nWcz+GtpT5H7AQ4zNdYsg/+ouN8eVQBTvut/IjE8XFxmlsSYQPtdsR5XPZgfpcGw9o2dUldZ6+0mHQrwml6pEkZr4P/Sh1n9fjka8q8Q9hXtZ8v5h7GRKcz8/A77ONnpatL86VPAY7/nDTsv619X9ehvqe1v6i0kHhMC+lso8eXpK0nFsqksD6p83VK82VbBdiGUK7PsXAO/Vv7E+O4Hm3zpVsBIV9+3EDHnYm8o7T/z/h4F23zxXa4np2kgUGv9vPFvznBHm89Voa2+NjXx4elhSTk+7wiAw/n93V2eaEMgwzbU/lCXcX6uVDRn0zkW7tQAsKaS+AncQedmTBj3TjMg8WIRHhyt0sHPiF6paWkT5FO1yktJgsr4mmp010m3UA6TGrpkJ4vdZx/kBaRJqVXB47zoOIyfCEOlQ6RbiN9Tur4S6X54gExDEQXaH/pOIHr8H8CnW9KvO3SNinDdXC71GlukrquwGop7Z8idZwvypWlSamm3mQ5hfZ7FOh6u6VJ6dCBw61mdYm0Q2pZQPpDaWCxmwMrlC6ld9mB10nad79axkkvlDredbj9+XKaAhz/tHQ/6YJSi7dfkXqAd7zjktKlA4f7RtllHyUN58gY7S8pnV8abqR/o/3lpUHGaucj0oukof9C3Fnacdn+oZsgHSm1rCa9Ueo496+Pk9KpgxDngfwXUp8TFtt2utTxtrfSQXEN5XGZzv9XaYfUMlrqmyM7H+5fx3dL88U3y1+WriAdFke6//3j/qLU+Q6R5kuXAhzXKy0lTmO1DTdI15FazO6LUrN0/Nel+bKHAhznH7wfSd13Fl9r/hF9ROr4X0uT0qEDh1vdz3+UdkgtbmOHdyQd0pDOx0np0YHjbLfHvX2k4Xz4kPYfkDre13y+VNMn/1BhLneS1ONeEJ+zG0tPk24RAsvcXq10LtM3hXtLPR5aXN79Use9JF1cmpRuHTiuR1pMehThNN3SpHTowOHWYrKtIhw/S/od6UJSy3zScdIDpKdIk9Khg2LlVjOOVjN+J+0rtD/YccNl9Urd3i5ppdKpDM7rMWma9ARpGAs7tP9vqeN9Dv9J6uvJDM3f5/qXpOGfF7tpPyk/0IHz3p0MTOz79/ZZqdP4Oi9XOpTQeay+9ir9XRos6664zl5ti0m3ImxXjzQp/6cDhz8u3Ubqtls8xnm8O066pzQp43Xg9jnfOdLVpc5n9v4NCNfsf7Qfrlft5qRPf53P+e+RhvHAY9vH43DH/0SaL59WgOOs/h0K1/xi2g+/Q47z+J8vfQpwXKc0KXYA/id13F3S9aQWX1P7S33+TZE6vkeaL90KcJy1UulUhpB3lPa/HB9fqG1SVtGB0z0vNefj4+NebfNlPwWYhbkuHEe6Xzyuu1yX87LUv5P5Emzx706vNPzeOf/K0lrJaSrIdb1QYYFXxPnurDAfyRtAwBf6f6XuWA/ESQk/1J9KBib2u7TvfL3SUtKnSKfrlBaTcHFcrgQ+cQvJXxXocr6fF9kbh7+j7Sp5cT60/c73ntQ/MknxDaLjfBNUqN5z43in6ZIm5cs6cLh/zDzwFpIzFeg0v8yLrKbevKLmOexRiOvslialQwcOt14nLdTeq+J4/8BUKl3KEMr3D0y+uD5zdprr8yJX1bFvyl6XrpQXFw59Q+y8D4aAeNulbah3Yl5cONw0TvOWtvk/biFN/na8AmyTy56QH6nj+aVPSB1/vjQpnToINhVi4bTh+jrKBxXIb5XWZT8gzT+fXcwPpKHubgdUINsorfM+XSBPVxzXWyAuGRTqdj8Vui5+oXCn8bmQFPdLn9Rxn5AWkhUV6D6cIR2XSNCh/VDvLdr3D24h6VBgSJcf35OIyx8LnXajRPx4BySkmj55R+XYps0S5VWzG/rQZX6kQEH+R4AdM8cfmxffHYf35IUnDx3nvN3SpHTowOHWYhLOTd9slisdSlis3BviOJ9LHl/ypV7jd349yePxOhjsuOFyeqVub5e0UulUhsDqvAKZV1DY7DiNZ9pWKZDmN3H8/+XFLanjMDsXbriTSXaO872p7YLJiAH2OxQfbK70d2m88g6WdVdcb6+2xaRbEbatR5qUh3Tg8H2TgQPsXxjn+XmRdB7L743T7JWXpi8O9z9NFsuL8+H3pLbnKR8kxNfE41LHXZwIT+5eFMf3aZs/bjrMeTulSTlSBw5/Vbp4MiLe/5y2jrf2SPOlWwEhPj9uoOPORF47YGOkHkPt9CXPO49truPHUsvxUh/3SisRM/y71HkPKJDR4dYnpf4naD3E161/91yP21GuLKGE4Zr9ZrmZSNc4AruqKndqnzT/B+zQOO5KbQtJlwKdt1daSvoU6XSd0mLynCKcZrtiCRQeLupr89L06th5z88LD4fDtRN+dNYKgdqOTYTvkghP7q6kA5dt7ZIm5WYdOPyAZGDevm/knObRRHi19SaKKrjbo1DX2S1NSocOHG7dQVpIvqRAx9uprFS6lCGUv2KRzDvFadwf5hDkOO0473khoMB2mMLsRDtd8ua7Kw6bqW2hHwMF5/6T5XzTpL6RKEe+q0TO86J0aJEMX4nTeHBMpumMw53f51AhCW2+tFBkkbAhCn9D6nK/VCSNHcMwWHcXSVMq2E6wy18mL1FXHN6bF55/6LzWL+ZHxMc7xvEv58WH8KfzwvMPr4/z75eI6IjDXG8x583JO6TBPh8npUcHjvtnMjBv/7k4zW6J8Gr7xDdVrjf/P+aJKira9Q2ey7ujRK6JcZpH8tJ0x+E9eeHJQ8e5/G5pUjp04HBrMfmqIhzv/5qbWznSoUSFyq12HL05LveAEkYUGr9LJM9FVTNuuIBeqdvbJa1UOpUhsFqtSGb/FjnN74rEfyaOv71AvGfNnNfnWL74Bt9x/5cfMcBxh+KDzTsUSfulOE2+TdWw7orL7NW2mHQrwrb1SJMySQcO/04ysMS+b8z92+M840ukOyJO8+u8NH1x+LF54eFw5Tje5SdnaTZIhHuWrZCsrkDns26el6AvDu/MC78vDj8xLzwc+l6yT+oye6S1lE4VFuy1A2b5vdRhXVKL639K6rDQbjsuPu6VViruZ+c9u0BGh1t9LtZDhqvQm6Wu42mpHc5yJdhtJ6yQ415uOQ1JV+4PQkOMaVAlB8T1hMEzWW0Is5NmT7pesrwKXi4u/A/avlRET4/TOH0huaNQoML83/Jws7doIo0HJ1+odgZuSYQnd30RP5cMiPftDGwa75+qbTGbL4vTJG2upt64uKo3xVi9EJec5FRpZc8qgweKQmLOs6Tmvn4iwZbx/l7aFmP5vOI8GFmSPN8PeX82yv+RKyT+L6B1hPRW6Xela0htRzHZMI7w4GebC8k/4sAFtF29QALPNPgcKiSDYb2SCgoDcLFz1v8N9A1uKTHny6Xuq3elHtyDLqJ9yzLvbwb9t9JzLJwDrrfYOeDwrWKLCp0DjnL/ViPF7HaZhfqs2j75W2zs+dqeJPVNUDjP46iKNuG8vbFErnDe+ibd526jxM7zdKlt7JV+TjrY86yacbSa8Vsml5TAv5pxo2QFZUT6H1Ue7wpJ+C18sFCkwv4Xhxf6DTg3jvusth5Lg3jM2DM++E0IHMS22LVX6Lpz8c1iHa7ZH8uGM6TbS+1kFZONFRF43ab9YuPbIXEBxca2gfg4exi/vR/4vKL9/ziggNghD3xD+gLJ5ga5HWvHRzfNDe2/49+Sf/YPquuRx07L/u9vco+Frqj9u6XF2h0nnbvxPaj707+dU6T+zQ+/iadp31JqrKr2d+f9Gub9e6aCtpbagd9POlVarhwQJ/yLtq+Vm6lZ6TwoZ0kWVmP3iBt8UYGGP6sw/4hsK/2M9OfSesi4RKFLJPaL7c5fJMKPPhQT/yBZkjc2oa43FP52LrbwHw9O+QPiWIWFAdX7A0lycK6m3oHqKTe+GKtCnFymfzAKybcVeEleRBjM84Jzh77Zf126uDRwcEQ4B/wIQfIxAscVkkLngH9kiokHU5/Dl0tXktpptk6W+mb0AulVUg+4QYJ9pdpjpzBISB+OvS3G2XHFWDuumJhbkBfDToHtfwuEOchj3KXST/ggFg/sdlzNyOJ2DJEu4IMqpFjbQ7vzx9twDvi6WqqMegudA85W6jwoo9iK+6zaPjlERtl531Lqpw6sZuQf9D9Ie6S+bsqVcB6Wc976HxC2/+1yC68y3RPK/zXpL6XbxKpN1Ce9Rnq29B5pORLa2ejxeyDbgl3l8HdZIf1A5VYS/z8lTo5lybzhOi82foT44clM8f612j4nXV76MemfpBY7ZKOkj0r/JR2sDDRm5NsU2DWa9Y/VwI2kH5d+PdaZ2t4hvUx6jtQ38UHC2Objasa2gfi4/CSjcvg4j3/HlpWG9A4rJr7fGRpHFvudcXSpPomz12zj89LnfKfU52ZwxM7XfjmynRL9RZq89/C4En6rRmt/jLTUb2Kx350O5ZskLSQ+f24vFBGH/UTbL0t9Te4nLVaOouaRDylk/Ti0Z57YFAb4piNLsq8a60HTcr/UA3a+2vmyHPD+pi5/k9wXVg2+KSilHXWxonihtiVfkjavp8hS9oa4/DIGOi5U70B56hXvH41C6oGpUinUrsDz2yos8Cq17S1QabhxKBCVC7pTf1eVfk56vvQpqX9M9pJeIf2rNPywaHeujJy7N++Or5dGSiF2ldR/oBLb+fIsmVn7x8pjgH94l441/KhWW5eKq0jCOXCZcpXq+xDXXaT0gc6DItkGHVwtJ/9n0v/h3El6uvQeqZ3Q7aX+7+eD0uWklUqp87bSsmqZ/v9U2IrS70h93bn9HdKvSu+SHiatpRTqn3CuuZ71pE4zkDptJVKKf6PHjUrsLpV2tiLdf5YvvL/pt39eIqyRu41mPU2N20O6hdQ3yb4xdp+G48e07/MqSDjfXlfAQOeZ4ztDxhptS/GpURXzFON2NEo85l8kdZ12WPybbof4YulAMlwJLpTa+bpeuq3U9zWLSMNv4sHat5RqU7HfnWHKV+jeyWEe54vJ0Yo4ROrz6gvSy6SVyAFxYjuGV1eSsVlpw0XSrPobXW/ooHLq3UCJ1i0n4SDS+D8XQdYKOw3Yhv9YLKy65i9R37gCcb5pCBdcpTZXU28BUxoS5IGnkPYUqH2ZAmEhyDf7HtgsgYP3wzlQKUvnrUTeVeLfSX3uryxdSXqi1IPcrlLfBAYJ9o0PAQW2yyfCQvpEUM13k3UUOi9DhcXi9o4THKetb/afDxnirR3QxfPCGnXYqHOg1u2ptk9sj88///h/W7qh1H0wQTpZ6nP0NGm5Euwpdd4Gh871evYziG9aLL5Oi4nHy2rFff1z6Z5SO/+bSi+Teozxuen/3g4koZ22p5Hjd7l2leLf6HFjIJsribcDZkfsI1KPM74v8GyQfw/PlzZSwjkwGNa1ONcnqbGHSreQLirdT/qs1Of0udIgYWxzGt/UN0oCnxUGqDCMByF9qeQek8K9T6nf+mK/QaXKribugjjzj7T1mHCt9OU4rNRmC0W6/W7XHtKbpWHmS7s5sbM0WHlCGQvdOznsliKF2vHqjuO+oW1oWxw04MZOn2elLXZMZ+T2Uv5nSMrtq6V5q6iwLeMC19fWA0MxvSpOd0C8DRsPwhafSKVkoHRPK3MYoD5ZqqAax92j8uZI3e9bFyl7RYUXGrx8QntGxVKpzdXU+36N6f7rH8OOIiaa81Cpud+bSHNrvP8xbf0fqUaJz73DpJfEFW6XqPjueH8zbYvd4O0Qp3lb20fj/XpunlLhU+MKip2zoxXvG6JCslwc6HOwkGylwGI33wNdx4XKqyQsnAOrK9PalWRsctpq+6SQ+a8r8Gypz01L8rx8P6T433DeOk+xsTmct48pjc/dIFPinXCehPCwdXnFzq1wfjhtsXpDOcntHB3cId1b+ry01His6LlSzThazfg914AiO4F/msaNIqYOKvhZ5fq71OP4/tIvSi1XS1/M7TXuTzWsBzrX3YpNKmiKr6PfS78S5/F1skC873uFmfF+pfcLcbZBbQIf2+F/chSS1RS4bBwR0hdKF8Kma+c/8cG2ITBv6+u/WFxe0podejx4QBruH84vs+Qw1nks9JMhheTDhQLrFPZNlfuTuOxDtP3VIOrxP0eWivP1DCJ/U7J44M+KHBA39D5trR6Miukf4rSf1daDbpBwI7hICCiyLSddT5z369quWaQcB/vCXrhEfCVRk5X4H3GGH2hb6KbhhyUK7InjPqXt9iXSOcrObZBq6w3lpHnr/0Lli/kGnjdo3xyC/FY7s6XLSAvlDem8TbJMhpfaLzXV73zvxplHJgr5s/Zt02LS8KOaiM45ZR4gLU4b/iuYC6jTH9tzRVz2t7UNPzbJ6nwNLZgMSOy/Ee8Xms32f82OT6TN3y3nOs7PU8mxzwnf3FlOkybHmlxg4s9gzoFE9pruVtMn/s0x92JS6LwsljaE/zHeWVvbPUJgYusf5q/Gx5cmwr3rGxjLJtJxub3+f/wbsHz/oLlH4fxwQLHfhFLXoa+fGXFpyeswDppnU+042hOXWOn4PY8heQFpHDfyTKz68Jy4hC9q63PC8pv3Nw39Ww3rcK4vK4s3KmD1NgrbqkC4g0qdx+Ga9e9dSPem9v/kjJIjpL4Gi4nHg2Ljd7E8xcLvVcQTceRhRRJ1x+F92t4e7w+0CfeEByrh2AKJP62wjgLh9Q7yvcNPpadIryyzsvCbuKrSF/rn484K377MsqpN5uvp9LiQo7R1OwYj4f7+fmX2OYCkiIAHhj6p//PoTh5I/GPq/3o4/W6JxD5hHTZDulkiPH/3dwpwOv/YFzrBnd51PCl1upelB0iTg9DyOvbFfre0S5qUXh04X5e0mPQpwmk6pUnZWge+gXLcb6VhYLSTNzEO9wVaqPzhCr81jntbW98QJwejJXW8n7RX2i1NSjX1JssptN+jQNvbLU1Khw4cbi0mnYpwfJ+0UulSBucNvMzPHC1LS8+XOt683f588cDpeOsZ0pWkQXwu7CS9QHp9CIy3Xdo6T6+0mOypCPeVz6HxiUTzx2HTtHUZX0/EefdXUoe/J/2KdKTUspr0Rqnj3Pc+TkqnDhzXJy0mXYpwml5pJeJ/UAR7/SMzPs7sa+sbUl+rr0tddrc0KRN14HD30R7S4OSsof2rpW7nW1Kn6ZQmZVUdOHyg691prB3SQtKhwJAmP/7jCgjX4w3a97ji8criGxPfKJ0kdfuS0qGDYmWWm64nLqM7mSFvv1fHrqdLmpTB9onHvT7p4VI7xaE/hmh/R+lzUtfnsbMScV8632Sp34cI5ZrffVLHvSRdTJoUM35B6vhe6YpSi6+TCdJ3pS7T8d3SfAl5D86PiI99Q/FHqa/H5Fi5lI5Pl7pc9/860iAd2nG4NV+qGUeHq7BbpS630vE7347841/F5VY6bric3jhvl7aVSqcyuD190mLSqwin6ZIWkk4FDlSG2f0vTue03nfYYKRDmVyGtZh0KqKYTdWwvi0u9wFtff1Z3I69pa9Jw7neo/2kPKYDj6WbSEfEER6nPMsUrq/b4/Cw6dCOy3Q7fK/zCelIaZBVtPMd6ePSTmlS+nTgfJ3SYuJ4a0degn3jcMf9QhqueW/DNee4z0rzpU8BjuuUJmVRHYT+v0P7H4ojze5zUv+GTJE6b480X7oV4DhrpdKpDCGvf/PKleOV0Pl68zJ4DPb17ziPs+OkltHSL0rflL4qLZRXwXNt6fBBFbKP8s6Suh6fW4MV943HHZdTbBwebNnkqwGB7VWGO8fq/5KWI9cokdNfkpf4pjjccR5c+mLdXNsgO2gn1OcbR99U9El/L02KB6CHpCGtT0aX+U4izHEHSJPSqwOHd0mLSZ8inKZTmi+HKMBxVv/4e9CdGR//VNveeL9L23xZUgG3SPPz+6INYd4eLc2XaurNLyt53KMD19ktTUqHDoJNyfDkfmecpi8ZWOZ+l9K5/F7pafG+OZpnuKl2/PelhcQ3iWdKg43eTpX6ZjuZ/0YdJ6VLB07bKy0mvuFLlutzKt+uvypsWF4BvvG8ThryJp0bh3mgsyOTL50KcHyftJh0KcJpeqWVyheUIcnEbbFtLs8/Ir+N93+kbVLG6uAJqdNZneeNeN991SXtkzquU5ov5VzvoeyO/MzxscNDmkJJ3LbgYDrdu1L/AIZrslDeDsUXCldwP+nQUbF0PXFct7bFpFcRzt8lzZfB9Il//IM93ro/POYl2+qbteWklcgSSnyPNJRthr6WwrHPly2khcQ3huFGwOl9ftjp9v5vpD3xfre2+XKMAkIdvgnri/U72lp+Jg3xoeykXQ47zAkT0qH9kCcRPHe3mnG0mvF7rgEFdgY7brioXqnb2yWtVDqVwXn7pMWkVxGlyu+M4/u0LSUnKzL0yymlEg4Q15Eop1jSzjhNX4EE1bDeTOX5tyC0w7/bYey5VvvHx3E92iZlig5CHl+rvmbD+OvwV6QfkubLJgp4QRry+rry2BZumEP4dgpLSp8OHNcpLSYhb0eBBKEdTuNr29d/8ho/sUAeB/VJi9W7neKS7MwktOPf2neZztsjzZduBTjOWql0KkPIWwsHzPUflCjTZbstYczzOPqtOL5X23wJtnTkR1R4/KzSh7L8z7FSummJsr8Wl2P7lyqRjqgmEehRve7oRyuo/8A4jy+wRRL5/F+UM6RPScPA5bI7pUnZUwe9Up/Y4cbRx/kyUgE+gf4h9SDmk8g/0PdJT5duKx0iTUqvDlxnl7SY9CmikF0h/Ue04zpdl3WS9PNSS6+0VPlDFf8Z6V+lvmg8EPvm42HpudJdpcOlhaSaeguV57Aeqe3tlialQwcOtxaTTkU4vk9aqXQpg/P2Si0HSG+TBqbm6/YOJFspwQXSPqnPN6v3/yzdX7qwNCldOkjWm4wL+2O08zlpj/R+qX/0fG75HPu71OXmn1cKyon790vSf0p9/vo875OeI11VWkg6FTgQx644Ta+2g5GtlelqqW16W3qv1D8kbsflUtfvaylfFlfAmdLnpD5Xfc5eJjV3S5/UeTul+VLO9e681o78zPGxw0OaIklyeU9T5INS3xS5r/4n9Tn0Pel4aVI6dDBQmU5fKl2P4l1Gt7SY9CrCabqkhaTSPnFffVTqtvpaeUHqPrHTc7v0MOlC0sHIKGU6WHqH1Negr6PHpK5rnLSU7KhIs3Y+j2Uuw9eApUdajNNQxf1A6vHa52Tok27tW8ZLfTPj89O/Py7f19Oz0t9Lt5HmS4cCQjn5ceHY40qw12VOkjZi/A71F9qahZn9U+prtJxxQ8kG/L1xmmLSqQiz6pMWk15FOE2XtJB0KnCgMpxvizid067lgEFKh/K5DGsx6VREKZsGy9r1bSi9Uvq69F3pA9LvS11mt9T19kiTsp0OJkpvkfrcdd/6OvF5f6J0SWkx8fXsa+Rf0snSmVLX7WvsJOnG0nzpU4Dt6JQWE8dbO4ok2EHhvu48jnqMeVl6hXRHaTHpU0SpeldXvK9bl2V2j0iPlo6Sdkudt0eaL90KcJy1UulUhpDX9ZQrxyuh8/UWyfAJhbs/PW65L30eHCUdLe2SFssbbOlQmmrkeWUOZQ209e9MMZmkCOe/qlgCwiEAgfYj0KUm+cLvlSLNIzCfqvZNgfuiU4o0nwB90vw+wILaEjhcxXmM8Q0fAgEIQAACEIBAkwh0qV4csCbBT1S7X9wPb2g7fyKc3eYRoE+ax56aa0/As0NPSz3ef7H2xVMiBCAAAQhAAALlEuhSQhywcmlVl86PpvlRruWlQ+KiFtX229J3pO4HPwqDNI4AfdI41tTUPAKezT1G6jHmJakf0UIgAAEIQAACEGgSgS7ViwPWGPgXxqzN2+8f+F2C2Ymwv2u/kufjlRypkgB9UiVAsqeawOayrk/qmXWPO1ZmvwQBgQAEIAABCDSTQJcqxwFrTA9sqWrOlN4vfUXqRSq8sIgXIvBN0TAp0lgC9EljeVNbYwl0qjqP79OlXmDqQCkCAQhAAAIQgAAEIAABCEAAAhCAAAQgAAEIQAACEIAABCAAAQhAAAIQgAAEIAABCEAAAhCAAAQgAAEIQAACEIAABCAAAQhAAAIQgAAEIAABCEAAAhCAAAQgAAEIQAACEIAABCAAAQhAAAIQgAAEIAABCEAAAhCAAAQgAAEIQAACEIAABCAAAQhAAAIQgAAEIAABCEAAAhCAAAQgAAEIQAACEIAABCAAAQhAAAIQgAAEIAABCEAAAhCAAAQgAAEIQAACEIAABCAAAQhAAAIQgAAEIAABCEAAAhCAAAQgAAEIQAACEIAABCAAAQhAAAIQgAAEIAABCEAAAhCAAAQgAAEIQAACEIAABCAAAQhAAAIQgAAEIAABCEAAAhCAAAQgAAEIQAACEIAABCAAAQhAAAIQgAAEIAABCEAAAhCAAAQgAAEIQAACEIAABCAAAQhAAAIQgAAEIAABCEAAAhCAAAQgAAEIQAACEIAABCAAAQhAAAIQgAAEIAABCEAAAhCAAAQgAAEIQAACEIAABCAAAQhAAAIQgAAEIAABCEAAAhCAAAQgAAEIQAACEIAABCAAAQhAAAIQgAAEIAABCEAAAhCAAAQgAAEIQAACEIAABCAAAQhAAAIQgAAEIAABCEAAAhCAAAQgAAEIQAACEIAABCAAAQhAAAIQgAAEIAABCEAAAhCAAAQgAAEIQAACEIAABCAAAQhAAAIQgAAEIAABCEAAAhCAAAQgAAEIQAACEIAABCAAAQhAAAIQgAAEIAABCEAAAhCAAAQgAAEIQAACEIAABCAAAQhAAAIQgAAEIAABCEAAAhCAAAQgAAEIQAACEIAABCAAAQhAAAIQgAAEIAABCEAAAhCAAAQgAAEIQAACEIAABCAAAQhAAAIQgAAEIAABCEAAAhCAAAQgAAEIQAACEIAABCAAAQhAAAIQgAAEIAABCEAAAhCAAAQgAAEIQAACEIAABCAAAQhAAAIQgAAEIAABCEAAAhCAAAQgAAEIQAACEIAABCAAAQhAAAIQgAAEIAABCEAAAhCAAAQgAAEIQAACEIAABCAAAQhAAAIQgAAEIAABCEAAAhCAAAQgAAEIQAACEIAABCAAAQhAAAIQgAAEIAABCEAAAhCAAAQgAAEIQAACEIAABCAAAQhAAAIQgAAEIAABCEAAAhCAAAQgAAEIQAACEIAABCAAAQhAAAIQgAAEIAABCEAAAhCAAAQgAAEIQAACEIAABCAAgSoIzFdFXrJCAAIQgAAEGk6gu7t7wWHDhi02e/bssdJF55tvvoVlxJigc+bMGan9YUV0qMJnS99L6LuJfYdPVZmvSV8dOnToq4svvvirEyZMmKFwBAIQgAAEIFA1ARywqhFSAAQgAAEI1IqAnKslVdYK0uXkAC0vZ2o570uXj7fLaGsHq9Hyhip8NdaXtO1L6qhRo57+4Q9/6DQIBCAAAQhAoCQBHLCSeIiEAAQgAIFaE7j00kuHPvTQQyvLwVpTZa8hJ8tb6+pSz2a1qkyR4X3SJ6UPqn0PDBky5MHVV1/9iX322WeWwhAIQAACEIBAhAPGSQABCEAAAnUjoBmtUXJCNtCjgpuoEusG0lWlI6RZET/W+JD0Aakds/tGjhx5OzNmWel+2gkBCECgPwEcsP48OIIABCAAgUESkLMlX2vIuprR2lQaHK51VJzfx0L6E/B7aA9Lb5VD9m/xuvXoo49+VPtz+ifjCAIQgAAE2o0ADli79SjtgQAEINAgAnIa5jvuuOPW0XYH6faqdjvpIg2qvh2reV2NmiQn7F/S6zVreIecWjtqCAQgAAEItBEBHLA26kyaAgEIQKDeBORwrTpr1qwdVY8drk6pF81A6kNgsor9h5yx6+TgXitn7Nn6VEOpEIAABCDQSAI4YI2kTV0QgAAEWoyAHyuUyVtK95B+XLqaFGkOgcdU7XXSq8eOHXvDQQcdNK05ZlArBCAAAQhUQwAHrBp65IUABCDQhgTkdM2vWZedNOtip2t36RJt2MxWb9KbasDV0stGjx7910MPPdTHCAQgAAEItAABHLAW6CRMhAAEIFBvAnK6RqkOz3DtJ91FOlqKtAYBz4RdK6f5Un2P7EqcsdboNKyEAASySwAHLLt9T8shAIGME4gfL+wUhs9JPyUdI0Vam4Cdsb9Kz1trrbWu5vtjrd2ZWA8BCLQnARyw9uxXWgUBCECgKIFjjz12Xa2w93kl8GzXckUTEtHqBF5SAy4YOnToeUceeaSXvEcgAAEIQCAFBHDAUtAJmAABCECg3gROPfXU0W+++eZn9F7X11TXRvWuj/JTR+B2WXSe9Pea+ZySOuswCAIQgECGCOCAZaizaSoEIJA9ArrZ9qqFdrq6pHyjSxAyLu+p/Rfrg9k/P+qoo+7LOAuaDwEIQKApBHDAmoKdSiEAAQjUj8Cll1469OGHH/64Zru+rlr8zS7G+vrhbuWSb9LCHT/XeXKFHHU++NzKPYntEIBASxHgR7mlugtjIQABCBQnoJvoMbqhnqAb6m8p1fLFUxIDgX4E+nR0hvRcHk/sx4UDCEAAAnUhgANWF6wUCgEIQKBxBE444YRxM2bM+I5qnCBduHE1U1ObEXhb7Tlv2LBhPzniiCOea7O20RwIQAACqSGAA5aarsAQCEAAApUROO6441acNWvWocrVJR1ZWW5SQ6AogemK6ZGeqBmxPm0RCEAAAhCoIQEcsBrCpCgIQAACjSAgx2t1OV6Hqy4vIz+sEXVSRyYJzFSrL5BOlCP2RCYJ0GgIQAACdSCAA1YHqBQJAQhAoB4Ejj/++OVnzpzZrbIPkA6tRx2UCYECBGYp7GLpCXLEHikQTxAEIAABCFRAAAesAlgkhQAEINAMArrpXVz1Hib1qoY8atiMTqBOE7Aj1iM9Sufkf7VFIAABCEBgEARwwAYBjSwQgAAEGkFAN7kLqp6Dpd+TjmlEndQBgTIIvKM0p44ePfonhx566JtlpCcJBCAAAQgkCOCAJWCwCwEIQCANBOR4+b2ur0qPki6RBpuwAQIFCLyszx5067MH5+ic9ftiCAQgAAEIlEEAB6wMSCSBAAQg0CgCupHtVF2/kK7TqDqpBwJVEnhU+X+oc/fyKsshOwQgAIFMEMABy0Q300gIQCDtBHTzupxs/Kl0n7Tbin0QKELgOoV/Q+cyKyYWAUQwBCAAARPAAeM8gAAEINBEArpZHaHHuL6nx7i8rPwCTTSFqiFQCwLv6Xw+adFFFz3poIMOmlaLAikDAhCAQLsRwAFrtx6lPRCAQMsQkPP1ERl7unTVljEaQyFQHgHPgnk2zLNiCAQgAAEIJAjggCVgsAsBCECgEQR0UzpW9djx+mwj6qMOCDSRwKWq+7s651m2vomdQNUQgEC6CPAhz3T1B9ZAAAJtTuCYY475lJr4N+kWbd5UmgcBE1hbeuD222//Wm9v790ggQAEIAAB3gHjHIAABCDQEAKaAVhSFZ0ptQOGQCCLBK5Wo7/MbFgWu542QwACSQJDkgfsQwACEIBA7QnohvNzKvUhKc5X7fFSYusQ2FWmPqhZYB69bZ0+w1IIQKAOBHgHrA5QKRICEICACUycOHGx6dOnn6vdPSECAQj0I/CnESNGfO2www57pV8oBxCAAAQyQAAHLAOdTBMhAIHGE9CsV6dqvVC6bONrp0YItASBl2XlBF0rfMC5JboLIyEAgVoRwAGrFUnKgQAEICACl1566dCHHnqoW7uHSXnMWxAQCAxA4IyxY8d+j++GDUCJaAhAoG0I4IC1TVfSEAhAoNkEjj/++PEzZ868SHZs2WxbqB8CLUbgLtm7j2bDnmoxuzEXAhCAQMUE+O9sxcjIAAEIQGBeArpx3EvO172KwfmaFw8hEBiIwEZKcLevo4ESEg8BCECg1QkwA9bqPYj9EIBAUwnohnGYDPip9KCmGkLlEGgfAmeoKQfr2prePk2iJRCAAAQ+IIAD9gEL9iAAAQhURECrHC6hVQ4vVabOijKSGAIQGIjAXUOHDt37yCOPfHqghMRDAAIQaDUCOGCt1mPYCwEIpIKA/ju/oQy5TLpCKgzCCAi0H4HX1CS/F/aP9msaLYIABLJMYGiWG0/bIQABCAyGgD4k+3nl89LZiw0mP3kgAIGyCMyvVJ/dfvvtp/T29t5eVg4SQQACEGgBAsyAtUAnYSIEIJAOAvH7XqfImm+nwyKsgEBmCJw7bty4r0+YMGFGZlpMQyEAgbYlgAPWtl1LwyAAgVoSkPM1RuX9UbpTLculLAhAoGwCvUr5KV2Lk8vOQUIIQAACKSSAA5bCTsEkCEAgXQR0w7eMLPqbdL10WYY1EMgcgSe0OMfuWpzj0cy1nAZDAAJtQ4DvgLVNV9IQCECgHgSOPfbYtVXuJCnOVz0AUyYEKiOwyqxZs/6t63KLyrKRGgIQgEB6COCApacvsAQCEEgZAc18dc6ePfsWmbV8ykzDHAhkmcBYXZfX6/rcLcsQaDsEINC6BHDAWrfvsBwCEKgjAa10uJ+Kv1a6SB2roWgIQGBwBLxC4hXxiqSDK4FcEIAABJpEgGXomwSeaiEAgfQS0H/Wvy/rzpIOS6+VWAaBzBPwP5H37OzsfFvL1P878zQAAAEItAwBZsBapqswFAIQaAQBOV/dqudkKYsUNQI4dUCgOgK+Tk/WZXvynDlzuGarY0luCECgQQQYrBoEmmogAIH0E9BN3Imy8ofptxQLIQCBAgR6FPYlXcezC8QRBAEIQCA1BHgEMTVdgSEQgEAzCeim7Weq348eIhCAQGsSWF9mr6hHEq/UI4lzWrMJWA0BCGSBAA5YFnqZNkIAAkUJ+LElya+U4JtFExEBAQi0CgF/LgInrFV6CzshkFECPIKY0Y6n2RCAQBRp1svvwZ4r/QI8IACBtiJwvlrzBR5HbKs+pTEQaBsCLMLRNl1JQyAAgUoIxC/s9ygPzlcl4EgLgdYgsL/MPC/+J0trWIyVEIBAZgjwCGJmupqGQgACSQJ67NDLzH8xGcY+BCDQVgR4HLGtupPGQKB9CDAD1j59SUsgAIEyCei/4qcq6YQyk5MMAhBoXQKeCTundc3HcghAoB0JMAPWjr1KmyAAgaIE5Hx1K5Kl5osSIgICbUdgA62MOEorI97Qdi2jQRCAQEsSwAFryW7DaAhAYDAEjjnmmG8p348Hk5c8EIBASxPYWk7YG3LCJrV0KzAeAhBoCwI4YG3RjTQCAhAYiICcr89q4Y2zlY7VXweCRTwE2pPALttvv/0TcsIeaM/m0SoIQKBVCHAj0io9hZ0QgMCgCeipw52V+a/SYYMuhIwQgEA7EJihRnxcY8I17dAY2gABCLQmARyw1uw3rIYABMokcOyxx649e/bsfyv5mDKzkAwCEGhvAm8PGTJkx6OOOuq29m4mrYMABNJKAAcsrT2DXRCAQNUETjjhhKVmzJjhm6zxVRdGARCAQDsReG3o0KGbHXnkkU+2U6NoCwQg0BoEWIa+NfoJKyEAgQoJnHrqqaPlfF2pbDhfFbIjOQQyQGCxWbNmXaVHEZkZz0Bn00QIpI0ADljaegR7IACBqglosY35pk6der4K2rTqwigAAhBoVwJrqmG/lxPGvVC79jDtgkBKCbAKYko7BrMgAIHBE5hvvvlOVO6vDL4EckIAAhkhsKrauaBWRrwuI+2lmRCAQAoI4ICloBMwAQIQqB0B/Te7S6WdUrsSKQkCEGhzAlvqG2HPyAm7t83bSfMgAIGUEGARjpR0BGZAAALVE9CKhxvEKx6Oqr40SoAABDJEYLraur3+geMVUxEIQAACdSXAc891xUvhEIBAowiceOKJi8r5+pPqw/lqFHTqgUD7EBihplx2/PHHL98+TaIlEIBAWgnggKW1Z7ALAhAom4AX3Zg2bdoFyrBi2ZlICAEIQKA/gSVnzpzpRTn4YHt/LhxBAAI1JsA7YDUGSnEQgEDjCWjRjSNU64TG10yNEIBAmxHwDNhovQ/29zZrF82BAARSRIB3wFLUGZgCAQhUTuCYY47ZSTNg1ygnM/qV4yMHBCAwL4E5+qfOx44++ui/zhtFCAQgAIHqCeCAVc+QEiAAgSYR8PsaemToblW/eJNMoFoIQKA9CUweNmzY+kccccRz7dk8WgUBCDSTAP8xbiZ96oYABAZNwB9PlfN1kQrA+Ro0RTJCAAJFCIzV+HIJ74MVoUMwBCBQFQEcsKrwkRkCEGgigR+q7q2bWD9VQwAC7U1gCzXPH3VHIAABCNSUAI8g1hQnhUEAAo0goO99baQl529VXcMbUR91QAACmSUwRy3/iGbCrsssARoOAQjUnAAOWM2RUiAEIFBPAroRml/l+72v1etZD2VDAAIQiAk8r+26GnumQAQCEIBALQjwCGItKFIGBCDQSAKnqDKcr0YSpy4IZJvAcmr+6dlGQOshAIFaEmAGrJY0KQsCEKgrAf0HejdVwNLQdaVM4RCAQBECn9AYdHmROIIhAAEIlE0AB6xsVCSEAASaSUA3Pl7t8EHpUs20g7ohAIHMEnhZLV9bY9GrmSVAwyEAgZoQ4BHEmmCkEAhAoAEETlMdOF8NAE0VEIBAQQJLKvSsgjEEQgACEKiAwNAK0pIUAhCAQFMI6D/OO6vik5tSOZVCAAIQ+IDAWp2dnY/39vY+8EEQexCAAAQqI8AjiJXxIjUEINBgAnK+vOqhHz1cscFVUx0EIACBQgT8COLqGpsmF4okDAIQgMBABHgEcSBCxEMAAs0mcIwMwPlqdi9QPwQgEAj4fdQfhwO2EIAABColwAxYpcRIDwEINIyAPri8gT64fIcq5HHphlGnIghAoAwC/kDz1poF+3cZaUkCAQhAoB8BZsD64eAAAhBIC4FLL710qJyvc2QPzldaOgU7IACBQMD/wP6VHLBhIYAtBCAAgXIJ4ICVS4p0EIBAQwk89NBD31KFGzW0UiqDAAQgUD6BDynpQeUnJyUEIACB9wnwCCJnAgQgkDoCEydOXGL69OmPy7CFU2ccBkEAAhD4gMBb2l1TM2HPfxDEHgQgAIHSBJgBK82HWAhAoAkE5Hwdp2pxvprAniohAIGKCCyo1D+rKAeJIQCBzBNgBizzpwAAIJAuAlp4Y129+3WPrOLdr3R1DdZAAALFCeyoWbB/FI8mBgIQgMAHBJgB+4AFexCAQAoIyPk6VWbgfKWgLzABAhAom8BP5YBxT1U2LhJCINsEGCyy3f+0HgKpIqAbmI/LoA+nyiiMgQAEIDAwgfWVZP+Bk5ECAhCAQBTxCCJnAQQgkAoCcr5GyJAHpaumwiCMgAAEIFAZgf8q+aoay96pLBupIQCBrBFgBixrPU57IZBSAvPNN983ZBrOV0r7B7MgAIEBCSyjFN8ZMBUJIACBzBNgBizzpwAAINB8AvqPsVcSe1q6ePOtwQIIQAACgybwxogRI1Y+7LDDXht0CWSEAATangAzYG3fxTQQAuknoNmvb8tKnK/0dxUWQgACpQksrM9oHFE6CbEQgEDWCTADlvUzgPZDoMkENPs1Rib0SRdtsilUDwEIQKAWBKYNGzZs5SOOOOKFWhRGGRCAQPsRYAas/fqUFkGgpQho9uu7Mhjnq6V6DWMhAIESBEbOnDnz0BLxREEAAhknwAxYxk8Amg+BZhI48cQTF502bZrf/Vq4mXZQNwQgAIEaE3hP5a2oGf6XalwuxUEAAm1AgBmwNuhEmgCBViUg5+t7sh3nq1U7ELshAIFiBEYp4vvFIgmHAASyTYAZsGz3P62HQNMITJw4cTG9rN4nA7wCIgIBCECg3Qi8rRURV9SKiK+0W8NoDwQgUB0BZsCq40duCEBgkATkfB2krDhfg+RHNghAIPUEFtA4d3DqrcRACECg4QSYAWs4ciqEAAROPfXU0VOnTn1OJBaDBgQgAIE2JvCm2tahd8Emt3EbaRoEIFAhAWbAKgRGcghAoHoCb775ZpdKwfmqHiUlQAAC6SawkMzzbD8CAQhAYC4BZsDmomAHAhBoBAH9J9j/+HlEumoj6qMOCEAAAk0m8PLYsWNXOOigg6Y12Q6qhwAEUkKAGbCUdARmQCArBPTdrz3UVpyvrHQ47YQABJZ8/fXXPw0GCEAAAoEADlggwRYCEGgIgTlz5njpeQQCEIBAZgho3Pt2ZhpLQyEAgQEJ4IANiIgEEIBArQjo8cPNVdZWtSqPciAAAQi0CIENjj322G1axFbMhAAE6kwAB6zOgCkeAhDoR4Almfvh4AACEMgKgdmzZ7MYR1Y6m3ZCYAACLMIxACCiIQCB2hDQ7NfSKslLz7pZsngAAEAASURBVA+rTYmUAgEIQKClCMyStStpLHy2pazGWAhAoOYEmAGrOVIKhAAEChHQ4htfUjjOVyE4hEEAAlkgMFSN/EYWGkobIQCB0gSYASvNh1gIQKAGBOKl559SUeNrUBxFQAACEGhVAq/K8GU1Jk5v1QZgNwQgUD0BZsCqZ0gJEIDAAAQ0+7WLkuB8DcCJaAhAoO0JLK4W7t72raSBEIBASQI4YCXxEAkBCNSCgJZg9uOHCAQgAAEIRFEXECAAgWwT4BHEbPc/rYdA3QlMnDhxienTp7+giobXvTIqgAAEIJB+AjOHDx++3OGHH/6/9JuKhRCAQD0IMANWD6qUCQEIzCUg5+vzOsD5mkuEHQhAIOMEhs2YMcPjIgIBCGSUAA5YRjueZkOggQT2b2BdVAUBCECgFQh0tYKR2AgBCNSHAA5YfbhSKgQgIALHHXfcmtqsBwwIQAACEOhHYO1jjz12k34hHEAAApkhgAOWma6moRBoPIFZs2Z9uvG1UiMEIACB9BOYPXv2F9JvJRZCAAL1IIADVg+qlAkBCAQC+4YdthCAAAQg0I/Ap+JvJPYL5AACEGh/Ajhg7d/HtBACTSGgG4v1VfHqTamcSiEAAQikn8CSQ4YM2Sb9ZmIhBCBQawI4YLUmSnkQgEAgwOOHgQRbCEAAAgUI6DHEvQoEEwQBCLQ5ARywNu9gmgeBJhLYp4l1UzUEIACBViDwSX2onm+ytkJPYSMEakgAB6yGMCkKAhB4n4AeP9xUeyvCAwIQgAAEShJYRqvFbl4yBZEQgEDbEcABa7supUEQSAWBT6TCCoyAAAQgkHICPIaY8g7CPAjUgQAOWB2gUiQEIBDtBgMIQAACECiLwCfLSkUiCECgbQjggLVNV9IQCKSDgB4/XE6WfCgd1mAFBCAAgdQT6NBHmTdIvZUYCAEI1IwADljNUFIQBCAQE2D2i1MBAhCAQAUEtBDHRypITlIIQKDFCeCAtXgHYj4EUkgAByyFnYJJEIBAegnIAds5vdZhGQQgUGsCLH1aa6KUB4EME9DjhyPU/MnSBTKMgaZDAAIQqJTA9AUWWGDsIYcc8nalGUkPAQi0HgFmwFqvz7AYAqklMN98820n43C+UttDGAYBCKSUwIh33nmnM6W2YRYEIFBjAjhgNQZKcRDIMgE9RrNrlttP2yEAAQgMlgCPIQ6WHPkg0HoEcMBar8+wGAJpJrBDmo3DNghAAAIpJsB7YCnuHEyDQC0J4IDVkiZlQSDDBE466aSF1fx1M4yApkMAAhCohsAaxx9//PLVFEBeCECgNQjggLVGP2ElBFJPYNq0aVvLSMaU1PcUBkIAAmklMGvWrA+n1TbsggAEakeAm6XasaQkCGSagN5f2CbTAGg8BCAAgSoJaBzdssoiyA4BCLQAARywFugkTIRAixDYtkXsxEwIQAACaSWwRVoNwy4IQKB2BHDAaseSkiCQWQKnnnrqaDV+48wCoOEQgAAEakNgrfh92tqURikQgEAqCeCApbJbMAoCrUVg6tSpm8ni4a1lNdZCAAIQSB2B+fQ+7eapswqDIACBmhLAAaspTgqDQDYJ6APMvP+Vza6n1RCAQI0J6D0wHkOsMVOKg0DaCOCApa1HsAcCLUhANww8ftiC/YbJEIBAKgnggKWyWzAKArUjgANWO5aUBIEsE9ggy42n7RCAAARqSGCz7u5u7s9qCJSiIJA2AlzgaesR7IFAixGYOHHiYjKZj4e2WL9hLgQgkFoC/qj9Gqm1DsMgAIGqCeCAVY2QAiCQbQLTp09n9ivbpwCthwAEakxA79WuW+MiKQ4CEEgRARywFHUGpkCgFQnoRgEHrBU7DpshAIHUEtB7tThgqe0dDINA9QRwwKpnSAkQyDQB3SjggGX6DKDxEIBAHQisU4cyKRICEEgJARywlHQEZkCghQnggLVw52E6BCCQSgLMgKWyWzAKArUhMF9tiqEUCEAgiwS0Utf8avebUv6Zk8UTgDZDAAL1IjBngQUWWOiQQw55u14VUC4EINA8Atw0NY89NUOgHQispkYwjrRDT9IGCEAgTQTme/vtt9dOk0HYAgEI1I4AN061Y0lJEMgigVWy2GjaDAEIQKDeBFgJsd6EKR8CzSOAA9Y89tQMgZYnoBuEVVu+ETQAAhCAQAoJaIEjZsBS2C+YBIFaEMABqwVFyoBARgnoBoEZsIz2Pc2GAATqToDxte6IqQACzSGAA9Yc7tQKgXYhwA1Cu/Qk7YAABNJGYKW0GYQ9EIBAbQgMq00xlAIBCGSUAI8gZrTjaTYE0kZAq7LmTFp44YWjb37zm9Hw4cPnMfG0006L3njjjejII4+Mhg4dOk98ygJwwFLWIZgDgVoRYAasViQpBwIZI3DyyScvoCaPy1izaS4EIJByAnawJk2alHIryzJv9AknnMAYWxYqEkGgtQjggLVWf2EtBFJDQEskr5waYzAEAhCAgAiMGjUqGj16dHTLLbdEGqNansmMGTPGt3wjaAAEIDAPAR5BnAcJARCAQDkEtALi8lqEo5ykpIEABCDQEAJ+7HDLLbeMrr322uimm26Kdtttt7LrffDBB6Pbb789+t///hfNmjUrGjt2bLTuuutGW2yxRTRsWNNul1ZQA9piOq/sjiAhBDJAoGkjSgbY0kQItDUBOV88GtPWPUzj2pmA/3lyzz33RHfddVf0yiuvRLNnz44WX3zxaP3114823XTTaMiQeR+QcZ777rsvl89OysyZM6MFF1wwWmaZZaIddtghlz8we/PNN3NO0FNPPRXpnzXRSiutFO2yyy659CFN2N5www05x+cb3/hGNGbMmBA86K3ttyN155135tridg0k119/fW7WbP755885XSNGjIgef/zxyLY98cQT0f7779+sd8bsgCEQgECbEZh3hG2zBtIcCECgbgSWrlvJFAwBCNSVwGWXXRZdeeWV0ZQpU6K111472mijjXKzPtdcc030hz/8Icqf3dajcNHFF18cXX755dFbb72Vc1I233zzaPz48dF///vf6LXXXptrr505p33kkUeitdZaK1pllVUizy45zHFJefHFF6N//etfOeesFs6Xy/biGh/+8IdzddmxGkiee+65nPPl+r/2ta9Fu+++e7TzzjtHX/3qV6PVVlsteuaZZ3I2DlROneJxwOoElmIh0EwCzIA1kz51Q6C1CeCAtXb/YX1GCTz88MPR/fffHy2yyCLRgQceGC2wgNfTiXIOmJ0vx997773RBhtsMJfQddddFz322GPR1ltvnZvtyp8h8yN7QeyQWffcc8/cjJrDF1100ai3tzcXvtxyy+WSOs8VV1wRdXR0RBtuuGHIXpOtncpbb7015wTagbKjWEw8E2jZdttto4UWWmhuMjtydsQ8E3b33Xfn4udGNm5nycZVRU0QgECjCDAD1ijS1AOB9iPAI4jt16e0KAME7GBZ/K5UcL58bIdj++23927uEb7cjv5Mnjw59zifHzXccccdCz6emFzS3bNqlmWXXTa3Te57hcIgXijDZX/84x8PQTXd+pFHi53H/Bm9ZEWehbOsuOKKyeDcvh9f9MyY2/Tuu+/OE9+AgIGfn2yAEVQBAQjUlgAOWG15UhoEskSAGbAs9TZtbRsCfoTQ4lmpfAlhdkqCw/HAAw/kHBi/HzZt2rTce2A333xzzilLPnoYyvJ3uCzBsfG+Z8QsIe7ll1+O/vnPf+YeFfRMXD1k+eWXzz0C+cILL0T/+c9/ilbx3nvv5eKSs1/JxH7PzeK2N0FwwJoAnSohUG8CPIJYb8KUD4H2JYAD1r59S8vamIAXmrC8/vrr87QyGfbqq69GdmKC82RH5ec///lcxyxk3mSTTaJdd9117syYZ77GjRsXXXXVVZHfr/L7Y37k0TNoVr8H5kcP/Sii89ZT/C6Y30Xzu2BrrLFGwaq8dL3FjqlXPsyX4LCOHDkyP6oRxzhgjaBMHRBoMAEcsAYDpzoItBEBHLA26kyakh0CXljCi2L4Hal11lknCg6Z38nye1pBwsxQ+J7WjTfemFvN0O9FedbKM0t/+ctfojvuuCNXRnh80e+H7bfffrlVEMPMkxfj8COBjvOiG15F0QteuI6//e1v0aOPPpp7B23llVfOLYJRqwU57FDZybvtttv6PVYZ2ujt0ksvnZut6+vrm8cB8wzf1KlTc+3198WaIIs1oU6qhAAE6kyARxDrDJjiIdCOBE4//XT/K/j9f6O3YwNpEwTamICdLq9M6NmuM844I7ca4tVXXx2dddZZuQUnwiyQl4+3hJUL/Yjepz/96WippZaKPBvkpeX32Wef3DLzdua8LH0QO1B777139IMf/CCne+21V26BCzs0duS8bP1iiy2WW1XRi3v4e11O48cWL7nkkpLvbIU6yt1ut912uQ80+5HH6dOnz5MtLDbi+OBsOpHbHd4fq/UiIfMYUTxgVHd39/vPQBZPQwwEINBiBJgBa7EOw1wIpIGAXpz/YKmwNBiEDRCAQNkEwgyVZ4X8XS8/HugwP274iU98Ijcj5cUxwgIdYebHTps/dJwUzx55NszOnB9Z9HEx8UIYfvTQDpyXsLcz5pkvz5z5/TKLHSQvkf/000/nHLxiZVUS7hm+bbbZJvr73/9eMNsKK6wQbbXVVrmZuTPPPDP33pjb6e9/+V01x3vBkiaKH0N8/8W9JhpB1RCAQO0I4IDVjiUlQSBLBPiPbJZ6m7a2HQGvWminIt+x8PtaL730UjRs2LBoySXfXwHdM1VPPvlkbhapEAg7aHbAnLeU+OPIfmxxwoQJOYfPH4C2+H2xIGHfcZ5hq5VsttlmuUclwwqN+eXutNNOOefRNtop9eOYngn0TN0WW2yR45Gfp4HHdsD6GlgfVUEAAnUmgANWZ8AUD4E2JYAD1qYdS7OyTcDOhx8lXG+99XLL0puGHSE7Jp4NyhenDSshllrN0A7aDTfcEPlxwODYhbKS3xBLPsYY4svd6lG9okntUH7nO98pGu+IddddN6clEzUnkvG2OdypFQJ1I8A7YHVDS8EQaGsC3BC0dffSuHYnEBbYSLbTs1NeLXDEiBE5RynE+dFDL0/vR/I8E5aUm266Kbc8uz90XGwZd6f3ioieUfKjfkGWWGKJ3K4fQwzi98EsIS6EZ3z7/jKNGYdA8yHQTgSYAWun3qQtEGgcARywxrGmJgjUnMAFF1ww9zFDL6jh2a3HH388F7bvvvv2Ww3Qs0d77rln5DwXXnhhtOaaa+a+5+Xl6Z955pncCogf+9jHitp41113RV5h8MADD5w7q+bEfrTRS8Pfe++9uXe/bIf3vYx9oY8iF62g/SNwwNq/j2lhxgjggGWsw2kuBGpBQKujLeQX6hEIQKA1CXhZeC9F7wU4/NifZ6+80t/WW29d8APNnuH6yle+EnnGywtkeAbNHyjeaKONom233XbuB5bzaXgJd68k6HLD+13JNHvssUduRUV/q8urDnqJ/I9+9KO5lRWT6TK+jwOW8ROA5rcfgffXmG2/dtEiCECgjgSOOeaYz8sBO7+OVVA0BCAAAQi8T+ALer+tBxgQgED7EOAdsPbpS1oCgUYS4D+yjaRNXRCAQJYJMN5mufdpe1sSwAFry26lURCoLwHNfg2tbw2UDgEIQAACMQEcME4FCLQZARywNutQmgOBBhFg7GgQaKqBAASyTUDv3I7ONgFaD4H2I8BNVPv1KS2CQCMIMHY0gjJ1QAACmSegJw54Xz/zZwEA2o0AqyC2W4/SHgjUkcCNN964iP4b+4XJkycvrg+rXlDHqigaAjUhMGPGjNdeffXVd7TS3+YqcEspj3PVhCyFNJDAzAbWRVUQgEADCOCANQAyVUCgXQgMGTJkCf039lR/UNWKQCCFBF5+++23b9NHhV975ZVXxsgB2042rpBCOzEJAuUSwAErlxTpINAiBHDAWqSjMBMCaSAgB2yWJA2mYAMEAoEp+ibVrXK4/idZYPr06RsoovhXgUMuthBoHQI4YK3TV1gKgbII4ICVhYlEEICACejmdtbQoSyAONizwR+knThxYi7797///Wj33XefW5RmbaKzzz47+te//mXO0dprrx1985vfjJZddtm5acLOX/7yl+i0006LzjrrrGjVVVcNwVnZvjVt2rRJ//3vf+1xjZTzta4avmtWGk87M0kAByyT3U6j25kADlg79y5tg0CNCXgGrMZFZqa4l19+Ofr5z38ejR49Onr33XfnafdJJ52Uc7522mmnaNSoUdE111wTHXzwwdFvf/vb3HHIoMfqol/96lfRZz7zmaw4X+/p/a3bX3zxxT7psHfeeWcNsdhBykIw4aRg2+4EcMDavYdpX+YI4IBlrstpMAQGT2D48OGzdTM8+AIymlPvzUV2sBZeeOFom222iS655JJ+JLSoSXTzzTdHX/jCF6IDDjggF7fmmmvm8tx6663R9ttvPzf9T3/602iJJZaI9t9//7lhbbYzQ4+53qnZrSf1WGGkmcFV1D4vnrFtm7WT5kCgXAIMuuWSIh0EWoQADliLdBRmQiANBLSgwTtaBTENprSUDX/605+ie+65J/rZz34W3X333fPYLmcjF7bGGp7ceV/sgFlCnPf9COPtt98enXHGGZGcYQe1g8yW3KMZwkc1wzXzjTfe6FCjNpNu0Q6Now0QqAEBHLAaQKQICKSJAI9wpKk3sAUCKSfQ2dk5VSbOqYeZRx55ZKTyoz/84Q9Fi3/kkUeiHXfcMfr0pz/tmZGi6dIU8cwzz+Te7frUpz4VrbfeegVNW3LJJXPhjz322Nz4Rx99NLe/1FJL5baeJfvlL38Z7b333lFwzuYmbq0dTQjOeUCPUv5eTulvb7rpphv/+c9/rqG+/YycL0/reaZrZGs1CWshUFcC79W1dAqHAAQaToAZsIYjp0IItC4BzX7N7u3tfVMtGFPrVnhRioceeijnrGy00UbRSiut1K8KLbYQnXDCCZEf5zvssMOiBRZYoF98Gg/8uKZtthN14IEHFjVxscUWi7baaqvc+15aXCIaMWJEdO211+bybb65P18V5WbPxowZE33xi18sWk6KIx6TA3mfHil8R9+PW0ozXm6UF89AIACBgQlMGTgJKSAAgVYigAPWSr2FrRBIBwHfDNTcAfP7UYceemhOjz/++NwKf3ZEgpx55pnRc889F33uc5+LPvShD4XgVG/PP//86Iknnoh+8YtfRCNHlp7U+dGPfpRrs9/58iqI66+/fm4VRC/aIac3946YF/HwI6DeXn/99bnFPLxa4ne/+92oo6MjTSye0WzWXc8///xUf7Rb73T5kcK902QgtkCghQjggLVQZ2EqBMohgANWDiXSQAACSQK+GVghGVCr/U033TT6xCc+Ef35z3+OzjnnnOgb3/hGruhJkyZFV155ZbTaaqtFXV1d/ap76aWXot/97nfRHXfcEb322mu5VQbtoHkxi/wl2t98883oj3/8Y6TH3nLvVtmZWWSRRXKP9O23337RKqus0q/sag4efvjh6MILL4z22Wef3JLyA5W14IILRp4FzBc5MjmHa88998w5nnbmvAz9V7/61Wi55ZbLOW0/+MEPogsuuGBAJy+/7Boev/jWW2/dLofrdfXBInpXcBOV/ckalk9REMgyARywLPc+bW9LAjhgbdmtNAoCdSVQ15uBCRMm5BaqsKPkx+9WXnnl6Mc//nFuKfYjjjgiGjbsg2HLjyza+dDS5JGdt+222y6aMmVKbrbotttuy60i6McZLXrsLefg+N2qddddN9pkk00iLasfeXl4L4yxwQYb1MwB86OH/t7X8ssvX/Ujg2H2zI8wevl6O6Jeqt7vlFk8Q3bQQQdFN9xwQ7Tbbrvlwhrw5zXZMkmPFL6iRUIWksO1oercowH1UgUEskigrmNuFoHSZgg0m8AHdzLNtoT6IQCBViFQ15sBP6p3+OGHR1//+tejE088MeeA6b2h3GN2K6zwwcSbH9M75phjIt385x7x86N4QfyelGeI7LhddNFFOafNC1zY+dphhx2io446KiTNbfWIXM6J6xdYxYEdJT8uadl5550LlnTKKadEVjtS3/rWtwqm+fe//5171NDp5p9//ujJJ5/MtdczgUHCfl9fXwiqx3aq3sG7Ve+nacLxpdFi72dAP1qPiigTAhDoT2DcuHGv9w/hCAIQaHUCOGCt3oPYD4HGE6irA+bm+NFBO1G//vWvo1dffTU3E7bHHv0nWG655ZbcY4Sf//zn53nEz4teeLXAs88+O7r//vujDTf0BM37UuhdrKFDh0YLLbRQSFL11u+uFZuNevzxxyOrZ+E8Q5Z0HJMV65G+6NRTT40++tGPRhtvvHEuyguQWOx0BrEjWgd5R7N4k+RwPa+l4UfIofSa+PYk+QZBHWBTJARKEHhHTwV8cMGXSEgUBCDQOgRwwFqnr7AUAmkhUHcHzA3dd999c0vSe/n1r33ta/O0/T//+U8uzKsGnnfeefPEP/vss7kwLwNvB8zvd3mhiquvvjpyni222CLnBK2++ur9Hmucp6BBBNjJ86ORhcS22gHbZZddot13371QklyYFx2xJNu+7LLL5r7/5YU67GBaPEtmcduqkOlyuG7X7NbTcriGaon/VVXWdtKhVZRJVghAoHoCDRlvqzeTEiAAgUoI4IBVQou0EICAl4F/vREfY/b7WeFjw8nVEEMXTJ3qT5JFuXefQlihrR8HtPjdMX8I+be//W3uHbGzzjorF+7l7Hfdddfoy1/+cu49s1xgk//ceeed0d/+9rfcI5henCOI3/fyYhz+VtohhxwS2SG75pprIn9HzN9Hq0D01OWsu/T+1uNyuOZocRKv+b+pdOsKyiApBCBQfwKv1b8KaoAABBpNAAes0cSpDwItTkCO0evhUbhmNiV8B+zkk0/OLahRji1e8fDb3/52Tv2O1r333ptb1MILfthRs1PTbPGCIm6TF9rwLF2+eDEOLyjiZeht/zrrrJNrT6FHKxN55yjPfVqh8GGtVDhDDtcKOvbS8Ha6EAhAIL0EXkivaVgGAQgMlgDP8w+WHPkgkFEC+ibVfmr6RY1ovh9D1CxNdPHFF0d6Eb1fldddd11upUG/A/alL32pX1wlB3Z4/H6ZF7m44oorKsma6rRykh/W45v363HL97RdRsf++HHtXnRLdesxDgJtQ+Dc7u7u4l9xb5tm0hAIZIsAM2DZ6m9aC4GqCWjm5Fk/Hths8ZLz5557bu67Xuutt97chSqCXZ6le+CBB3Lf+PKjjJr5ibza4fjx40OS3NaPMjp81KhR/cJb8OApLcF/t9r5lhyuJdVPdrj2bcF2YDIEIBAT0OPezwMDAhBoPwI4YO3Xp7QIAnUloBUDn03DI4h+5O64446LDj300Nz3vbyqoL8Z5vfFXnnllcgfQvZHmq+66qrcu2Regt7p11hjjdyCFYsttljk5e29mqKclcgfYm4xeUHO4x36FtcUrRQ5Vk6kHyfcq8XagLkQgEBpAjhgpfkQC4GWJIAD1pLdhtEQaB4BPRL4Xy36MEsWNH2FPK9g+Jvf/Ca69NJLo0mTJuUWrvDsnJ2rNddcM7ewRnhXzMu928m67777In+k2cu8+52wtdZaK9prr73mmUFrHuGiNb+i1Qn98ePX5GAurKXo/YXpPYumJgICEGh5Avpn13Mt3wgaAAEIzEOAd8DmQUIABCAwEAG9B+Y13pcfKB3xVRGY4o8fy+GSz/u/BfW9r/VV2ipVlUhmCECg1QisrXfAHmo1o7EXAhAoTYAZsNJ8iIUABAoT6FMwDlhhNoMNfWvatGn++LE9rpFyvtZVQbsOtjDyQQACbUGARxDbohtpBAT6E8AB68+DIwhAoAwCeizmKb0cvk0ZSUlSnMB7/vixHK5n9K7aUK3GuIaS7iBt/gonxW0mBgIQaByBNzT79f4HDxtXJzVBAAINIIAD1gDIVAGBdiMg5+vJdmtTA9ozQwtl3KkPHz8pjfQ+1yqqc0vptg2omyogAIHWI/Bo65mMxRCAQDkEcMDKoUQaCECgHwE7YGlYCbGfUek70OKKs+99+eWXH9Es1yx9/LhDzLxS4RbpMxWLIACBFBJ4JIU2YRIEIFADAjhgNYBIERDIGgHN5DyZhm+BpYy7/Ks5/9GS8A9q4Yzpb7zxxrI69re4NkyZnZgDAQi0BoGHW8NMrIQABColgANWKTHSQwAC/m7WEzhgUSQH63F9S+xeOVzvaLu0uNjhWodTBAIQgEANCDADVgOIFAGBNBLAAUtjr2ATBFJO4MMf/vBrWor+JZm5dMpNrbV5z2pm687nn39+6uTJkxfXTKAdrr1rXQnlQQACENBH75kB4zSAQJsSwAFr046lWRBoAIF7VEe7L5P+kj7YfJscrtf1aOGiWrVwE7X5kw1gSxUQgEC2CXjRHhY7yvY5QOvbmAAOWBt3Lk2DQJ0JtKMDNvndd9+dpEcKX9a3uBaaMWOG39/ao84cKR4CEIBAPoEntAT9zPxAjiEAgfYggAPWHv1IKyDQcAJ6/+kerYbY8HprXOFUf/xYDteL+hbX6OnTp6+n8nercR0UBwEIQKBSAg9VmoH0EIBA6xDAAWudvsJSCKSNwL1pM6gMe96Vk3WbnK1n9S2uEZrtWkt5dpK2vCdZRttJAgEItAgB/XPrrhYxFTMhAIFBEMABGwQ0skAAAlHU2dn55E033TRVLMakmMd0vbd1uxyuPjlcQ/Tx49Vk6zbSoSm2GdMgAIGME9ATBndkHAHNh0BbE8ABa+vupXEQqB8B/Yd2jlZCvE812KFJi+i99Vl36ePHT+jjx7P18eOVZJg/frx1WgzEDghAAAIDEJij+DsHSEM0BCDQwgRwwFq48zAdAikg4IU4mumAzdG3t+575ZVXHpHDNV0O1wo63kw22elCIAABCLQiAS/AMaUVDcdmCECgPAI4YOVxIhUEIFCAQDMW4lCdD+ujxw9o4Yx39S2uZXTsb3GtX8A8giAAAQi0IgEeP2zFXsNmCFRAAAesAlgkhQAE+hNokAP2lBytuzXD9ba2S2iGyw7Xmv0t4QgCEIBA2xDAAWubrqQhEChMAAesMBdCIQCBMgiMGTPmIX2o+D0lHVVG8nKTvDB16tQ7NMM1RR8/Hqt3uvxI4V7lZiYdBCAAgVYmMGTIEBywVu5AbIdAGQRwwMqARBIIQKAwgY033niGVkK8TTNh2xVOUVboK1qdcNJzzz33mmRhffx4I+Xas6ycJIIABCDQXgRmapbf79YiEIBAGxPAAWvjzqVpEGgEATlfN6meShywKe+9996tzz//vBYrfHkBfZfL7299rBG2UgcEIACBlBO4SwtwvJNyGzEPAhCokgAOWJUAyQ6BrBPQcvQ3yQkrheGtadOmTdI7XC/I4Rqljx+vo8S7lspAHAQgAIGMEujNaLtpNgQyRQAHLFPdTWMhUHsCw4cPv1WzWNNV8oi49Pf88WM5XM/oA8jD3nnnnTUUvoN0SBzPBgIQgAAEChPoLRxMKAQg0E4EcMDaqTdpCwSaQGDLLbd8Vx9kPlczYZPvvPPOcfoWl2e4tpRu2wRzqBICEIBAqxKYOXr06H+1qvHYDQEIlE9gvvKTkhICEIBAaQJ6d+Fapdi5dCpiIQABCECgAIFbNYb6n1cIBCDQ5gR4JKjNO5jmQaCRBDQLdn0j66MuCEAAAm1EgPGzjTqTpkCgFAEcsFJ0iIMABCoigANWES4SQwACEEgSwAFL0mAfAm1MAAesjTuXpkGg0QSOPPLIe1XnK42ul/ogAAEItDiBt8aNG3dri7cB8yEAgTIJ4ICVCYpkEIDAwAQ0A+b16P86cEpSQAACEIBAgsC1EyZMmJE4ZhcCEGhjAjhgbdy5NA0CzSAgJ+zKZtRLnRCAAARalYDGzSta1XbshgAEKieAA1Y5M3JAAAIlCMw///zXKfq9EkmIggAEIACBDwjM0sfseXLgAx7sQaDtCeCAtX0X00AINJbAIYcc8rZq5GXyxmKnNghAoHUJ3KLl5ye3rvlYDgEIVEoAB6xSYqSHAAQGJMBjiAMiIgEEIACBHAEeP+REgED2COCAZa/PaTEE6k5Aj9NcpUq8IAcCAQhAAAIlCGi85P2vEnyIgkA7EsABa8depU0QaDIBPU7zkky4rclmUD0EIACBtBN4UOPlU2k3EvsgAIHaEsABqy1PSoMABD4gcNkHu+xBAAIQgEABAoyTBaAQBIF2J4AD1u49TPsg0CQCw4YNu1hV8xhik/hTLQQg0BIELmoJKzESAhCoKQEcsJripDAIQCAQOOKII57T/k3hmC0EIAABCPQjcKceP3ykXwgHEIBAJgjggGWim2kkBJpDQKt7XdicmqkVAhCAQLoJMD6mu3+wDgL1JIADVk+6lA2BjBMYOXLkH4WAjzJn/Dyg+RCAwDwEZmr1Qz+mjUAAAhkkgAOWwU6nyRBoFIEf/vCHb6iuvzSqPuqBAAQg0CIErtfjhy+3iK2YCQEI1JgADliNgVIcBCAwD4EL5gkhAAIQgEC2CTAuZrv/aX3GCeCAZfwEoPkQqDeBcePGXa06Xqt3PZQPAQhAoEUIvCU7L28RWzETAhCoAwEcsDpApUgIQOADAhMmTJihIxbj+AAJexCAQLYJXKrHD9/JNgJaD4FsE8ABy3b/03oINITA0KFDf9WQiqgEAhCAQPoJnJF+E7EQAhCoJwEcsHrSpWwIQCBH4Mgjj3xUO/8ABwQgAIGME7hds193Z5wBzYdA5gnggGX+FAAABBpDQN+8ObMxNVELBCAAgXQSYBxMZ79gFQQaTQAHrNHEqQ8CGSWgb95coaa/kNHm02wIQAACr2kcvAQMEIAABHDAOAcgAIGGENBjNzP1399zGlIZlUAAAhBIH4HzNA7yYfr09QsWQaDhBHDAGo6cCiGQXQLDhg07W62fmV0CtBwCEMgogTlqN4sRZbTzaTYE8gnggOUT4RgCEKgbgcMPP/xFFf7nulVAwRCAAATSSeAazX49lU7TsAoCEGg0ARywRhOnPghknMCQIUNOyTgCmg8BCGSMgB6/PjljTaa5EIBACQI4YCXgEAUBCNSewFFHHXWHSr2h9iVTIgQgAIFUErjt6KOPvjGVlmEUBCDQFAI4YE3BTqUQyDyBkzJPAAAQgEBWCDDeZaWnaScEyiQwX5npSAYBCECgpgT0PoRnwjauaaEUBgEIQCBdBB7W7NfaegTRi3AgEIAABHIEmAHjRIAABJpF4MRmVUy9EIAABBpBQI7Xj3G+GkGaOiDQWgRwwFqrv7AWAm1DQP8VvkyNeaRtGkRDIAABCPQn8OzSSy99Uf8gjiAAAQhEEQ4YZwEEINAUAv6vsPQnTamcSiEAAQjUn8BPJ0yYMKP+1VADBCDQagRwwFqtx7AXAm1EQP8dvlDN4ds4bdSnNAUCEMgReHHMmDHnwAICEIBAIQI4YIWoEAYBCDSEgP87rFmwoxpSGZVAAAIQaByBYw8++OB3G1cdNUEAAq1EAAeslXoLWyHQhgTmzJlzsZp1fxs2jSZBAALZJPCEmn1uNptOqyEAgXII4ICVQ4k0EIBA3QhoOfrZKvzwulVAwRCAAAQaSMCz+hrXZjawSqqCAARajADfAWuxDsNcCLQrAd2w3KK2bdWu7aNdEIBAJgjcqxVeN/QiQ5loLY2EAAQGRYAZsEFhIxMEIFBrAkOGDPlRrcukPAhAAAINJnA4zleDiVMdBFqQAA5YC3YaJkOgHQkcddRRN6tdV7dj22gTBCCQCQI3ayb/b5loKY2EAASqIoADVhU+MkMAAjUm8EOVN6vGZVIcBCAAgXoT8COHP6h3JZQPAQi0BwEcsPboR1oBgbYgoP8eezXEs9qiMTQCAhDIEoH/b+9+YPUq7zqAp723fy3oaCSySTSTLRGTTSeTMYXcOv8AY+IQO7YZcAjDRNOwzm5tb/+kt6UT2TplOhdEwUUNQReEpIxNZZ04GTNsoFknrvwbLGwM29DestI/t35PLQlstL299z3nPed9Pid5em/f95zn+f0+z/u+9/295z3nfDKvX18sKWG5EiAwdQEF2NTtbEmAQA0Cc+bMWZ1un6mha10SIECgDoGds2bN+mAdHeuTAIHBFFCADea8yopAZwVWrFixI8E7LX1nZ1DgBIoTWDc6Ovrt4rKWMAECUxZQgE2ZzoYECNQoUF3E9P4a+9c1AQIEeiGwNZ1c34uO9EGAQDkCCrBy5lqmBDojkGMpqosz/36aa+l0ZtYESqA8gZxyfkler1x0ubyplzGBaQkowKbFZ2MCBOoSOHxA+1/X1b9+CRAgME2Bf8hFl/9lmn3YnACBAgUUYAVOupQJdEigOrB9e4fiFSoBAmUIjCfN95eRqiwJEOi1gAKs16L6I0CgZwLZC/Z0OntfzzrUEQECBHoj8MG8Pn2jN13phQCB0gRmlJawfAkQ6J5A3uhsTtTndy9yERMgMIACn89XDxfl+C/HqA7g5EqJQBMC9oA1oWwMAgSmK3BVOtg53U5sT4AAgWkKPDc0NPQ7iq9pKtqcQOECCrDCHwDSJ9AFgewBezJxLutCrGIkQGCgBVZneXigM5QcAQK1CyjAaic2AAECvRBIEXZD+nHGsV5g6oMAgakIfDEb/fFUNrQNAQIEXiygAHuxht8JEGi1QL76c2UC3N3qIAVHgMAgCjyf15/L80FQdY1CCwECBKYloACbFp+NCRBoUiBf/Xk0x174KmKT6MYiQKASWJPXn6+hIECAQC8EnAWxF4r6IECgUYF8Cn1HBnxbo4MajACBUgXuzlkPf8mJN0qdfnkT6L2APWC9N9UjAQL1C1yeIZ6qfxgjECBQuMD24eHhSxVfhT8KpE+gxwIKsB6D6o4AgfoFsgfsmbwhuiwjuQ5P/dxGIFCsQF5nrli1atU3iwWQOAECtQgM1dKrTgkQIFCzwJYtWx4ZGRmZl2F+oeahdE+AQJkCH8+HPR8pM3VZEyBQp4A9YHXq6psAgboFVmWAe+seRP8ECBQn8MBJJ520tLisJUyAQCMCCrBGmA1CgEAdAvl0en+Oz3hn+t5RR//6JECgSIHxZP2OJUuWPF9k9pImQKB2AQVY7cQGIECgToEcn/F4jtN4d8ZwfZ46ofVNoByB9+TDnf8pJ12ZEiDQtIBjwJoWNx4BAj0XyPFg23I82P50/Jaed65DAgRKEvhQiq+PlZSwXAkQaF7AHrDmzY1IgEANAnnTtDHdfqqGrnVJgEAZAp9OmtVxpRYCBAjUKqAAq5VX5wQINCzw2xnvqw2PaTgCBLovsC0pvCsf5Pgqc/fnUgYEWi8wo/URCpAAAQLHIbB+/fqfOHDgwH9kk1ccx2ZWJUCgXIHxmTNnvmnNmjU+vCn3MSBzAo0K2APWKLfBCBCoW2D16tUP56Qc1ZkRfZJdN7b+CXRfoLqY+2WKr+5PpAwIdEnASTi6NFtiJUBgUgI5KcfDixYt2p2Vf2VSG1iJAIFSBcbytcM/LzV5eRMg0B8BBVh/3I1KgEDNAinC7s2ZERdmmDNrHkr3BAh0U+CmFF/v62booiZAoMsCvoLY5dkTOwECxxK4OivcdqyV3E+AQHECn0nG7y0uawkTINAKASfhaMU0CIIAgboENm3aNG/nzp3/nP7fXNcY+iVAoFMCX0m052Tv13inohYsAQIDI6AAG5iplAgBAkcS2Lhx48K9e/f+e+5/7ZHWcTsBAkUIPD5r1qyzRkdHnyoiW0kSINBKAV9BbOW0CIoAgV4KrFy58n+HhobOTZ/f7mW/+iJAoFMCO/I6cJ7iq1NzJlgCAymgABvIaZUUAQLfK5DT0z+aa/28Nbfv/N77/J8AgYEXeC7P/wvzOvC1gc9UggQItF5AAdb6KRIgAQK9Esi1fu7Pm7Dz0191inoLAQJlCOxJmhfm+X9PGenKkgCBtgsowNo+Q+IjQKCnAnkT9oVcqPlt6fS7Pe1YZwQItFFgb57vF+eEG9WJeCwECBBohYACrBXTIAgCBJoUWLt27efypuztGfP5Jsc1FgECjQrsz/P8kjzfNzc6qsEIECBwDAEF2DGA3E2AwGAK5E1ZdR2gxWn7BjNDWREoWuBAiq/fyvPcdQCLfhhInkA7BYbaGZaoCBAgUL/Ali1bHhoZGakOyv+NNB9I1U9uBAJNCBzMIO/J1w7/ronBjEGAAIHjFVCAHa+Y9QkQGCiBFGFbFy1a9FCS+vU0RdhAza5kChSYSM5Xpvi6ucDcpUyAQEcEXIi5IxMlTAIE6hXIG7YLMsLfp82tdyS9EyBQk0B1wo3qa4fV89hCgACB1goowFo7NQIjQKBpgRRhIxnzjrQTmh7beAQITEugOqvpRXkO3zWtXmxMgACBBgQUYA0gG4IAge4IjI2NvXFiYuLTiXhhd6IWKYGiBXbm+n4XuM5X0Y8ByRPolIACrFPTJVgCBJoQSBH2UynCPpuxXtnEeMYgQGDKAt/Jludmz9eXp9yDDQkQINCwgAPOGwY3HAEC7RfIJ+lfTZRnpz3S/mhFSKBYgSeT+TmKr2LnX+IEOiugAOvs1AmcAIE6BfKm7pFZs2a9OWPcV+c4+iZAYEoCD2ars/I8/e8pbW0jAgQI9FHAVxD7iG9oAgTaL7Bp06Z5O3fu/GQivbj90YqQQBECm5PlJSm+xovIVpIECAycgAJs4KZUQgQI9Frg4MGDM9atW7cx/S7vdd/6I0DguASuP/3005cuXrz4wHFtZWUCBAi0SEAB1qLJEAoBAu0WyCfulyfCT6TNanekoiMwcAJVwXV1noN/OnCZSYgAgeIEFGDFTbmECRCYjkD2hC3KHrFPpY9XTKcf2xIgMGmBXVmz+srhnZPewooECBBosYACrMWTIzQCBNopkDeCr01kt6Wd3s4IRUVgYAS25RpfF+XMpP81MBlJhACB4gUUYMU/BAAQIDAVgeuuu+4Hdu/efWO2vWQq29uGAIFjCtw+d+7cy5YvX/7sMde0AgECBDokoADr0GQJlQCB9glkb9iSRPXhNMeFtW96RNRNgQMzZswYzV6vP8rPg91MQdQECBA4soAC7Mg27iFAgMCkBFKEVdcLuzXtVZPawEoECBxJ4Onc8c48p+4+0gpuJ0CAQNcFFGBdn0HxEyDQCoG8YTw5gdyStqgVAQmCQPcE7h0eHv7NVatWfbN7oYuYAAECkxdQgE3eypoECBA4qsCtt946tHXr1rVZaWXa0FFXdicBAi8ITOSXTaeccsrKq666at8LN/pJgACBQRVQgA3qzMqLAIG+CYyNjZ01MTHxNwng1X0LwsAEuiHwRI7zumzt2rWf60a4oiRAgMD0BWZOvws9ECBAgMCLBXLygHvnzZv307ntphff7ncCBF4iUH1l93WKr5eY+A8BAgUI2ANWwCRLkQCB/gnk2LCLMvoNaQv7F4WRCbRK4Nns9fq9FF5/26qoBEOAAIGGBBRgDUEbhgCBcgWuueaaU/bt21ftDfvVchVkTuCQwOfz76X5YOIbPAgQIFCqgAKs1JmXNwECjQvkTecVGbS6ZtgPNj64AQn0V2A8e71WHjx48M/yPKhOumEhQIBAsQIKsGKnXuIECPRDIG8+X5lxP552YT/GNyaBPgjclTGvsterD/KGJECglQIKsFZOi6AIEBh0gbwZvTg5/klaVZBZCAyiwNPZ67XUsV6DOLVyIkBgOgKuUzMdPdsSIEBgigJbtmzZOjIycmM2PyHtjDQfiE3R0matEziYiP5yzpw5F+aiyl9qXXQCIkCAQJ8F/MHv8wQYngABArlu2Btz3bCPReJMGgQ6LvCVxL8ke3j/reN5CJ8AAQK1CSjAaqPVMQECBCYvkJMTzEgh9q78/MNs9aOT39KaBFoh8K1EMZp2c4ovJ9loxZQIggCBtgoowNo6M+IiQKBIgbx5nZ/jZpalEPtAAOYXiSDpLgnsSbAfTduYx+54lwIXKwECBPoloADrl7xxCRAgcBSBDRs2vGr//v3V3rB3p3mtPoqVu/omcOvw8PAHcpzX432LwMAECBDooIA/6h2cNCETIFCOQPYq/Fyy/VDaL5aTtUxbLvCFxLc8j03HebV8ooRHgEA7BRRg7ZwXUREgQOAlAnmzO5IbxtLOfskd/kOgOYH7MtSaPBY/29yQRiJAgMDgCSjABm9OZUSAwAALrFu37pdzfFhViL1pgNOUWrsE7s9xibmc19rN7QpLNAQIEOimgAKsm/MmagIEChdIIXbe4UKsuoaYhUAdAg8eLrxur6NzfRIgQKBUAQVYqTMvbwIEBkIgXwc7P4n8QdqigUhIEm0QqI7t+kj2eN2eAqy6qLKFAAECBHoooADrIaauCBAg0C+BFGJvyNjvT1ucNtyvOIzbWYEDify2mTNnfnjNmjXVsV4WAgQIEKhJQAFWE6xuCRAg0A+BnL7+1Jy+/uqMfUXaif2IwZidEtidaP9qaGjoo6tXr360U5ELlgABAh0VUIB1dOKETYAAgaMJZI/Yifn62JU5Tux3s95pR1vXfUUKPJbHxw2zZ8/+xIoVK3YUKSBpAgQI9ElAAdYneMMSIECgCYEUYDPGxsZG8vO9Ge/taXOaGNcYrRTYl6iqE2r8RY7v+ifHd7VyjgRFgEABAgqwAiZZigQIEKgENm7cuHDfvn2Xphi7Mv/9SSrFCHw9md6YdnP2jD5dTNYSJUCAQEsFFGAtnRhhESBAoE6B7BX7+YmJicszxkVpP1TnWPrui8CujPqP2ct1U06qscXerr7MgUEJECDwsgIKsJdlcSMBAgTKEMgekdnJ9Ny0d6T9WtqCNEs3BZ5L2NXFkm9JuzNzu6ebaYiaAAECgy2gABvs+ZUdAQIEJi2wadOmebt27bogX1GsirG3ps2d9MZW7JfA3gx8V/Zw3TJ//vw7li1bVp3V0EKAAAECLRZQgLV4coRGgACBfglce+21J+zZs+fcFGNVIXZe2sn9isW43yfwTG75TNqdc+fO3bx8+fJnv28NNxAgQIBAawUUYK2dGoERIECgHQIpwmasX7/+jBwzVhVj56edkebvR3PTczBDPZC2ORdKvjPzcF++XjjR3PBGIkCAAIFeCvgD2ktNfREgQKAAgbz5PzlfeTsvhdlbku7ZaT9eQNpNp/hEBrwnzncPDw/fOTo6+lTTARiPAAECBOoRUIDV46pXAgQIFCOwYcOGU/fv318VYuekVT+rU9z7+xKE41geyrr/moLrnhS296TIfew4trUqAQIECHRIwB/IDk2WUAkQINAFgep6Y3v37q0KsTPTfjbtDWkL0yz/L7AjP76cdn8Kri8dLrhcn8ujgwABAoUIKMAKmWhpEiBAoJ8C2Uv2Y9lL9jMpOF6fguN1ieX1aa9OG+S/Q9WxW4+l/Wfag4fbA9m79Uh+txAgQIBAoQKD/Iev0CmVNgECBLohkEKkOs19VYSdlsLsNSnMTsvvr6n+n3Zq2sy0ti9VkfVk2tfTtiWPbcnj0O8nnnjiw0uXLv1u2xMQHwECBAg0K6AAa9bbaAQIECAwCYHrr79+zvbt26si7EeqlsLmlBQ2h35/4bb8/OG0E9Kqi0cPp/Vq2Z+Oxg+37+Tnt16uDQ0NPXXgwIEnUki64HGALAQIECAwOQEF2OScrEWAAAECLRaoCrbx8fEFOUX7oZZQF6Rgm5+fR9yLlvurvVfPpR0qtmbPnr1rwYIF40uWLHk+t1kIECBAgAABAgQIECBAgAABAgQIECBAgAABAgQIECBAgAABAgQIECBAgAABAgQIECBAgAABAgQIECBAgAABAgQIECBAgAABAgQIECBAgAABAgQIECBAgAABAgQIECBAgAABAgQIECBAgAABAgQIECBAgAABAgQIECBAgAABAgQIECBAgAABAgQIECBAgAABAgQIECBAgAABAgQIECBAgAABAgQIECBAgAABAgQIECBAgAABAgQIECBAgAABAgQIECBAgAABAgQIECBAgAABAgQIECBAgAABAgQIECBAgAABAgQIECBAgAABAgQIECBAgAABAgQIECBAgAABAgQIECBAgAABAgQIECBAgAABAgQIECBAgAABAgQIECBAgAABAgQIECBAgAABAgQIECBAgAABAgQIECBAgAABAgQIECBAgAABAgQIECBAgAABAgQIECBAgAABAgQIECBAgAABAgQIECBAgAABAgQIECBAgAABAgQIECBAgAABAgQIECBAgAABAgQIECBAgAABAgQIECBAgAABAgQIECBAgAABAgQIECBAgAABAgQIECBAgAABAgQIECBAgAABAgQIECBAgAABAgQIECBAgAABAgQIECBAgAABAgQIECBAgAABAgQIECBAgAABAgQIECBAgAABAgQIECBAgAABAgQIECBAgAABAgQIECBAgAABAgQIECBAgAABAgQIECBAgAABAgQIECBAgAABAgQIECBAgAABAgQIECBAgAABAgQIECBAgAABAgQIECBAgAABAgQIECBAgAABAgQIECBAgAABAgQIECBAgAABAgQIECBAgAABAgQIECBAgAABAgQIECBAgAABAgQIECBAgAABAgQIECBAgAABAgQIECBAgAABAgQIECBAgAABAgQIECBAgAABAgQIECBAgAABAgQIECBAgAABAgQIECBAgAABAgQIECBAgAABAgQIECBAgAABAgQIECBAgAABAgQIECBAgAABAgQIECBAgAABAgQIECBAgAABAgQIECBAgAABAgQIECBAgAABAgQIECBAgAABAgQIECBAgAABAgQIECBAgAABAgQIECBAgAABAgQIECBAgAABAgQIECBAgAABAgQIECBAgAABAgQIECBAgAABAgQIECBAgAABAgQIECBAgAABAgQIECBAgAABAgQIECBAgAABAgQIECBAgAABAgQIECBAgAABAgQIECBAgAABAgQIECBAgAABAgQIECBAgAABAgQIECBAgAABAgQIECBAgAABAgQIECBAgAABAgQIECBAgAABAgQIECBAgAABAgQIECBAgAABAgQIECBAgAABAgQIECBAgAABAgQIECBAgAABAgQIECBAgAABAgQIECBAgAABAgQIECBAgAABAgQIECBAgAABAgQIECBAgAABAgQIECBAgAABAgQIECBAgAABAgQIECBAgAABAgQIECBAgAABAgQIECBAgAABAgQIECBAgAABAgQIECBAgAABAgQIECBAgAABAgQIECBAgAABAgQIECBAgAABAgQIECBAgAABAgQIECBAgAABAgQIECBAgAABAgQIECBAgAABAgQIECBAgAABAgQIECBAgAABAgQIECBAgAABAgQIECBAgAABAgQIECBAgAABAgQIECBAgAABAgQIECBAgAABAgQIECBAgAABAgQIECBAgAABAgQIECBAgAABAgQIECBAgAABAgQIECBAgAABAgQIECBAgAABAgQIECBAgAABAgQIECBAgAABAgQIECBAgAABAgQIECBAgAABAgQIECBAgAABAgQIECBAgAABAgQIECBAgAABAgQIECBAgAABAgQIECBAgAABAgQIECBAgAABAgQIECBAgAABAgQIECBAgAABAgQIECBAgAABAgQIECBAgAABAgQIECBAgAABAgQIECBAgAABAgQIECBAgAABAgQIECBAgAABAgQIECBAgAABAgQIECBAgAABAgQIECBAgAABAgQIECBAgAABAgQIECBAgAABAgQIECBAgAABAgQIECBAgAABAgQIECBAgAABAgQIECBAgAABAgQIECBAgAABAgQIECBAgAABAgQIECBAgAABAgQIECBAgAABAgQIECBAgAABAgQIECBAgAABAgQIECBAgAABAgQIECBAgAABAgQIECBAgAABAgQIECBAgAABAgQIECBAgAABAgQIECBAgAABAgQIECBAgAABAgROd3o1AAAAU0lEQVQIECBAgAABAgQIECBAgAABAgQIECBAgAABAgQIECBAgAABAgQIECBAgAABAgQIECBAgAABAgQIECBAgAABAgQIECBAgAABAgQIEJiewP8BiTZ43vEsUacAAAAASUVORK5CYII=\" width=\"432\">"
      ],
      "text/plain": [
       "<IPython.core.display.HTML object>"
      ]
     },
     "metadata": {},
     "output_type": "display_data"
    }
   ],
   "source": [
    "import matplotlib.pyplot as plt\n",
    "from matplotlib.animation import FuncAnimation\n",
    "%matplotlib notebook\n",
    "\n",
    "colors = ['Silver','Grey']\n",
    "explode = (0, 0.01)\n",
    "labels = ['Yes','No']\n",
    "title = data[data['Unnamed: 11'].notnull()]['Unnamed: 11'].iloc[0]\n",
    "data1 = data.sort_values(by=['Datetime']).reset_index()\n",
    "fig, ax = plt.subplots()\n",
    "def update(i):\n",
    "    series = data1['Unnamed: 11'][i:i+100]\n",
    "    plt.cla()\n",
    "    ax.pie(series.value_counts(dropna=False).sort_values(na_position='last'), labels=labels, explode=explode, autopct='%1.f%%',shadow=False,startangle=180, colors = ['Silver','Grey'],pctdistance=.5,labeldistance=.68)\n",
    "    ax.set_title(title + ': ' + data1.Datetime[i+100].strftime(\"%b-%d\"))\n",
    "\n",
    "ani = FuncAnimation(plt.gcf(),update,len(data)-100,interval=25,repeat=False)\n",
    "plt.show()"
   ]
  },
  {
   "cell_type": "code",
   "execution_count": 1027,
   "metadata": {},
   "outputs": [],
   "source": [
    "import plotly.graph_objects as go\n",
    "\n",
    "def piechart2(data,col,income=None,age=None):\n",
    "    \n",
    "    \n",
    "    if income is not None:\n",
    "        data = data[data['income_group']==income]\n",
    "        incometxt = income\n",
    "    else:\n",
    "        incometxt = ''\n",
    "    if age is not None:       \n",
    "        data = data[data['Age Groups']==age]\n",
    "        agetxt = age\n",
    "    else:\n",
    "        agetxt = ''    \n",
    "    #colors = ['Dimgrey','Darkgrey','Gainsboro','Whitesmoke','White','Black','Silver']\n",
    "    series = data[col]\n",
    "    title = str(series.name)\n",
    "    df = series.value_counts(dropna=False,sort=True)\n",
    "    if len(df) == 2:\n",
    "        df = series.value_counts(dropna=False,sort=True)\n",
    "        labels=['Yes','No']\n",
    "        title = data[series.notnull()][col].iloc[0]\n",
    "        if isinstance(df.index[1],str):\n",
    "            df = df.sort_values()\n",
    "    else:\n",
    "        df = series.value_counts(dropna=True,sort=True)\n",
    "        labels = df.index\n",
    "        \n",
    "        \n",
    "    fig = go.Figure(data=[go.Pie(labels=labels, values=df,)])\n",
    "    \n",
    "    \n",
    "    fig.update_traces(hoverinfo='label+value', textinfo='percent',textfont_color='black', textfont_size=20,marker=dict(line=dict(color='#000000', width=1.5)))\n",
    "    title1 = age\n",
    "    fig.update_layout(title=title,font=dict(family=\"Calibri\",size=15))\n",
    "    fig.write_image(\"images/\"+title+\".png\")\n",
    "    fig.show()"
   ]
  },
  {
   "cell_type": "code",
   "execution_count": null,
   "metadata": {},
   "outputs": [],
   "source": [
    "#data.Day.value_counts()\n",
    "\n",
    "data[data.Day.isin(data.Day.value_counts().index[data.Day.value_counts().gt(10)])]"
   ]
  },
  {
   "cell_type": "code",
   "execution_count": 1035,
   "metadata": {},
   "outputs": [],
   "source": [
    "data['What is your employment status?'] = data['What is your employment status?'].str.capitalize() \n",
    "data['What is your gender?'] = data['What is your gender?'].str.capitalize()\n",
    "data['What is your ethnicity?'] = data['What is your ethnicity?'].str.capitalize() \n",
    "data['Age'] = 2020 - data['What year were you born?']\n",
    "data['Age Groups'] = pd.cut(x=data['Age'], bins=[0, 24, 39, 54, 70, 100]).apply(str)\n",
    "data[['Female','Male']] = pd.get_dummies(data['What is your gender?'])[['Female','Male']]\n",
    "data[['Student','Retired']] = pd.get_dummies(data['What is your employment status?'])[['Student','Retired']]\n",
    "employed = ['Employed full-time','Employed part-time','Employed_for_wages','Self-employed']\n",
    "not_employed = ['Homemaker','Not employed','Unemployed_looking','Unable_to_work','Student','Retired','Homemaker']\n",
    "data['Employed'] = 0\n",
    "data['Not Employed'] = 0\n",
    "data = data.replace('NR', np.NaN)\n",
    "data = data.replace('Invalid', np.NaN)\n",
    "for x in enumerate(data['What is your employment status?']):\n",
    "    for y in employed:\n",
    "        if y == x[1]:\n",
    "            data.loc[x[0],'Employed'] = 1\n",
    "for x in enumerate(data['What is your employment status?']):\n",
    "    for y in not_employed:\n",
    "        if y == x[1]:\n",
    "            data.loc[x[0],'Not Employed'] = 1\n",
    "            \n",
    "data['In the past 3 days, did you work from home (WFH)?'] = data['In the past 3 days, did you work from home (WFH)?'].str.replace('home on some days','home for some days')\n",
    "data['In the past 3 days, did you work from home (WFH)?'] = data['In the past 3 days, did you work from home (WFH)?'].str.replace('provide an option for me to work from home','provide an option to WFH')\n",
    "data.rename(columns = {'Rescheduled or canceled non-critical in-person gatherings and appointments (e.g. birthday parties, concerts, museums, annual checkups, spa, social dinners)':'Rescheduled or canceled non-critical in-person gatherings and appointments'}, inplace = True)\n",
    "data['What is your ethnicity?'] = data['What is your ethnicity?'].str.replace('White','Caucasian')\n",
    "data['What is your ethnicity?'] = data['What is your ethnicity?'].str.replace('Hispanic/latinx','Hispanic')\n",
    "data['What is your ethnicity?'] = data['What is your ethnicity?'].str.replace('Latino','Hispanic')\n",
    "data['What is your ethnicity?'] = data['What is your ethnicity?'].str.replace('Hispanic/latinx','Hispanic')\n",
    "data['What is your ethnicity?'] = data['What is your ethnicity?'].str.replace('Black/african american','Black')\n",
    "data['What is your ethnicity?'] = data['What is your ethnicity?'].str.replace('Caucasian, asian/asian american','Multiracial')\n",
    "data['What is your ethnicity?'] = data['What is your ethnicity?'].str.replace('Caucasian, hispanic/latinx','Multiracial')\n",
    "data['What is your ethnicity?'] = data['What is your ethnicity?'].str.replace('Asian/asian american','Asian')\n",
    "data['What is your ethnicity?'] = data['What is your ethnicity?'].str.replace('Caucasian, armenian','Multiracial')\n",
    "data['What is your ethnicity?'] = data['What is your ethnicity?'].str.replace('Asian, other','Asian')\n",
    "data['What is your ethnicity?'] = data['What is your ethnicity?'].str.replace('Caucasian, jewish','Caucasian')\n",
    "data['What is your ethnicity?'] = data['What is your ethnicity?'].str.replace('Caucasian, asian','Multiracial')\n",
    "data['What is your ethnicity?'] = data['What is your ethnicity?'].str.replace('Multiracial/asian american','Multiracial')\n",
    "data['What is your ethnicity?'] = data['What is your ethnicity?'].str.replace('Arab','Asian')\n",
    "data['What is your ethnicity?'] = data['What is your ethnicity?'].str.replace('Asian, pacific islander','Asian')\n",
    "data['What is your ethnicity?'] = data['What is your ethnicity?'].str.replace('Prefer_not_to_say','Prefer not to say')"
   ]
  },
  {
   "cell_type": "code",
   "execution_count": 1029,
   "metadata": {},
   "outputs": [
    {
     "data": {
      "application/vnd.plotly.v1+json": {
       "config": {
        "plotlyServerURL": "https://plot.ly"
       },
       "data": [
        {
         "hoverinfo": "label+value",
         "labels": [
          "Strongly agree",
          "Agree",
          "Neutral",
          "Strongly disagree",
          "Disagree"
         ],
         "marker": {
          "line": {
           "color": "#000000",
           "width": 1.5
          }
         },
         "textfont": {
          "color": "black",
          "size": 20
         },
         "textinfo": "percent",
         "type": "pie",
         "values": [
          241,
          154,
          56,
          29,
          28
         ]
        }
       ],
       "layout": {
        "font": {
         "family": "Calibri",
         "size": 15
        },
        "template": {
         "data": {
          "bar": [
           {
            "error_x": {
             "color": "#2a3f5f"
            },
            "error_y": {
             "color": "#2a3f5f"
            },
            "marker": {
             "line": {
              "color": "#E5ECF6",
              "width": 0.5
             }
            },
            "type": "bar"
           }
          ],
          "barpolar": [
           {
            "marker": {
             "line": {
              "color": "#E5ECF6",
              "width": 0.5
             }
            },
            "type": "barpolar"
           }
          ],
          "carpet": [
           {
            "aaxis": {
             "endlinecolor": "#2a3f5f",
             "gridcolor": "white",
             "linecolor": "white",
             "minorgridcolor": "white",
             "startlinecolor": "#2a3f5f"
            },
            "baxis": {
             "endlinecolor": "#2a3f5f",
             "gridcolor": "white",
             "linecolor": "white",
             "minorgridcolor": "white",
             "startlinecolor": "#2a3f5f"
            },
            "type": "carpet"
           }
          ],
          "choropleth": [
           {
            "colorbar": {
             "outlinewidth": 0,
             "ticks": ""
            },
            "type": "choropleth"
           }
          ],
          "contour": [
           {
            "colorbar": {
             "outlinewidth": 0,
             "ticks": ""
            },
            "colorscale": [
             [
              0,
              "#0d0887"
             ],
             [
              0.1111111111111111,
              "#46039f"
             ],
             [
              0.2222222222222222,
              "#7201a8"
             ],
             [
              0.3333333333333333,
              "#9c179e"
             ],
             [
              0.4444444444444444,
              "#bd3786"
             ],
             [
              0.5555555555555556,
              "#d8576b"
             ],
             [
              0.6666666666666666,
              "#ed7953"
             ],
             [
              0.7777777777777778,
              "#fb9f3a"
             ],
             [
              0.8888888888888888,
              "#fdca26"
             ],
             [
              1,
              "#f0f921"
             ]
            ],
            "type": "contour"
           }
          ],
          "contourcarpet": [
           {
            "colorbar": {
             "outlinewidth": 0,
             "ticks": ""
            },
            "type": "contourcarpet"
           }
          ],
          "heatmap": [
           {
            "colorbar": {
             "outlinewidth": 0,
             "ticks": ""
            },
            "colorscale": [
             [
              0,
              "#0d0887"
             ],
             [
              0.1111111111111111,
              "#46039f"
             ],
             [
              0.2222222222222222,
              "#7201a8"
             ],
             [
              0.3333333333333333,
              "#9c179e"
             ],
             [
              0.4444444444444444,
              "#bd3786"
             ],
             [
              0.5555555555555556,
              "#d8576b"
             ],
             [
              0.6666666666666666,
              "#ed7953"
             ],
             [
              0.7777777777777778,
              "#fb9f3a"
             ],
             [
              0.8888888888888888,
              "#fdca26"
             ],
             [
              1,
              "#f0f921"
             ]
            ],
            "type": "heatmap"
           }
          ],
          "heatmapgl": [
           {
            "colorbar": {
             "outlinewidth": 0,
             "ticks": ""
            },
            "colorscale": [
             [
              0,
              "#0d0887"
             ],
             [
              0.1111111111111111,
              "#46039f"
             ],
             [
              0.2222222222222222,
              "#7201a8"
             ],
             [
              0.3333333333333333,
              "#9c179e"
             ],
             [
              0.4444444444444444,
              "#bd3786"
             ],
             [
              0.5555555555555556,
              "#d8576b"
             ],
             [
              0.6666666666666666,
              "#ed7953"
             ],
             [
              0.7777777777777778,
              "#fb9f3a"
             ],
             [
              0.8888888888888888,
              "#fdca26"
             ],
             [
              1,
              "#f0f921"
             ]
            ],
            "type": "heatmapgl"
           }
          ],
          "histogram": [
           {
            "marker": {
             "colorbar": {
              "outlinewidth": 0,
              "ticks": ""
             }
            },
            "type": "histogram"
           }
          ],
          "histogram2d": [
           {
            "colorbar": {
             "outlinewidth": 0,
             "ticks": ""
            },
            "colorscale": [
             [
              0,
              "#0d0887"
             ],
             [
              0.1111111111111111,
              "#46039f"
             ],
             [
              0.2222222222222222,
              "#7201a8"
             ],
             [
              0.3333333333333333,
              "#9c179e"
             ],
             [
              0.4444444444444444,
              "#bd3786"
             ],
             [
              0.5555555555555556,
              "#d8576b"
             ],
             [
              0.6666666666666666,
              "#ed7953"
             ],
             [
              0.7777777777777778,
              "#fb9f3a"
             ],
             [
              0.8888888888888888,
              "#fdca26"
             ],
             [
              1,
              "#f0f921"
             ]
            ],
            "type": "histogram2d"
           }
          ],
          "histogram2dcontour": [
           {
            "colorbar": {
             "outlinewidth": 0,
             "ticks": ""
            },
            "colorscale": [
             [
              0,
              "#0d0887"
             ],
             [
              0.1111111111111111,
              "#46039f"
             ],
             [
              0.2222222222222222,
              "#7201a8"
             ],
             [
              0.3333333333333333,
              "#9c179e"
             ],
             [
              0.4444444444444444,
              "#bd3786"
             ],
             [
              0.5555555555555556,
              "#d8576b"
             ],
             [
              0.6666666666666666,
              "#ed7953"
             ],
             [
              0.7777777777777778,
              "#fb9f3a"
             ],
             [
              0.8888888888888888,
              "#fdca26"
             ],
             [
              1,
              "#f0f921"
             ]
            ],
            "type": "histogram2dcontour"
           }
          ],
          "mesh3d": [
           {
            "colorbar": {
             "outlinewidth": 0,
             "ticks": ""
            },
            "type": "mesh3d"
           }
          ],
          "parcoords": [
           {
            "line": {
             "colorbar": {
              "outlinewidth": 0,
              "ticks": ""
             }
            },
            "type": "parcoords"
           }
          ],
          "pie": [
           {
            "automargin": true,
            "type": "pie"
           }
          ],
          "scatter": [
           {
            "marker": {
             "colorbar": {
              "outlinewidth": 0,
              "ticks": ""
             }
            },
            "type": "scatter"
           }
          ],
          "scatter3d": [
           {
            "line": {
             "colorbar": {
              "outlinewidth": 0,
              "ticks": ""
             }
            },
            "marker": {
             "colorbar": {
              "outlinewidth": 0,
              "ticks": ""
             }
            },
            "type": "scatter3d"
           }
          ],
          "scattercarpet": [
           {
            "marker": {
             "colorbar": {
              "outlinewidth": 0,
              "ticks": ""
             }
            },
            "type": "scattercarpet"
           }
          ],
          "scattergeo": [
           {
            "marker": {
             "colorbar": {
              "outlinewidth": 0,
              "ticks": ""
             }
            },
            "type": "scattergeo"
           }
          ],
          "scattergl": [
           {
            "marker": {
             "colorbar": {
              "outlinewidth": 0,
              "ticks": ""
             }
            },
            "type": "scattergl"
           }
          ],
          "scattermapbox": [
           {
            "marker": {
             "colorbar": {
              "outlinewidth": 0,
              "ticks": ""
             }
            },
            "type": "scattermapbox"
           }
          ],
          "scatterpolar": [
           {
            "marker": {
             "colorbar": {
              "outlinewidth": 0,
              "ticks": ""
             }
            },
            "type": "scatterpolar"
           }
          ],
          "scatterpolargl": [
           {
            "marker": {
             "colorbar": {
              "outlinewidth": 0,
              "ticks": ""
             }
            },
            "type": "scatterpolargl"
           }
          ],
          "scatterternary": [
           {
            "marker": {
             "colorbar": {
              "outlinewidth": 0,
              "ticks": ""
             }
            },
            "type": "scatterternary"
           }
          ],
          "surface": [
           {
            "colorbar": {
             "outlinewidth": 0,
             "ticks": ""
            },
            "colorscale": [
             [
              0,
              "#0d0887"
             ],
             [
              0.1111111111111111,
              "#46039f"
             ],
             [
              0.2222222222222222,
              "#7201a8"
             ],
             [
              0.3333333333333333,
              "#9c179e"
             ],
             [
              0.4444444444444444,
              "#bd3786"
             ],
             [
              0.5555555555555556,
              "#d8576b"
             ],
             [
              0.6666666666666666,
              "#ed7953"
             ],
             [
              0.7777777777777778,
              "#fb9f3a"
             ],
             [
              0.8888888888888888,
              "#fdca26"
             ],
             [
              1,
              "#f0f921"
             ]
            ],
            "type": "surface"
           }
          ],
          "table": [
           {
            "cells": {
             "fill": {
              "color": "#EBF0F8"
             },
             "line": {
              "color": "white"
             }
            },
            "header": {
             "fill": {
              "color": "#C8D4E3"
             },
             "line": {
              "color": "white"
             }
            },
            "type": "table"
           }
          ]
         },
         "layout": {
          "annotationdefaults": {
           "arrowcolor": "#2a3f5f",
           "arrowhead": 0,
           "arrowwidth": 1
          },
          "coloraxis": {
           "colorbar": {
            "outlinewidth": 0,
            "ticks": ""
           }
          },
          "colorscale": {
           "diverging": [
            [
             0,
             "#8e0152"
            ],
            [
             0.1,
             "#c51b7d"
            ],
            [
             0.2,
             "#de77ae"
            ],
            [
             0.3,
             "#f1b6da"
            ],
            [
             0.4,
             "#fde0ef"
            ],
            [
             0.5,
             "#f7f7f7"
            ],
            [
             0.6,
             "#e6f5d0"
            ],
            [
             0.7,
             "#b8e186"
            ],
            [
             0.8,
             "#7fbc41"
            ],
            [
             0.9,
             "#4d9221"
            ],
            [
             1,
             "#276419"
            ]
           ],
           "sequential": [
            [
             0,
             "#0d0887"
            ],
            [
             0.1111111111111111,
             "#46039f"
            ],
            [
             0.2222222222222222,
             "#7201a8"
            ],
            [
             0.3333333333333333,
             "#9c179e"
            ],
            [
             0.4444444444444444,
             "#bd3786"
            ],
            [
             0.5555555555555556,
             "#d8576b"
            ],
            [
             0.6666666666666666,
             "#ed7953"
            ],
            [
             0.7777777777777778,
             "#fb9f3a"
            ],
            [
             0.8888888888888888,
             "#fdca26"
            ],
            [
             1,
             "#f0f921"
            ]
           ],
           "sequentialminus": [
            [
             0,
             "#0d0887"
            ],
            [
             0.1111111111111111,
             "#46039f"
            ],
            [
             0.2222222222222222,
             "#7201a8"
            ],
            [
             0.3333333333333333,
             "#9c179e"
            ],
            [
             0.4444444444444444,
             "#bd3786"
            ],
            [
             0.5555555555555556,
             "#d8576b"
            ],
            [
             0.6666666666666666,
             "#ed7953"
            ],
            [
             0.7777777777777778,
             "#fb9f3a"
            ],
            [
             0.8888888888888888,
             "#fdca26"
            ],
            [
             1,
             "#f0f921"
            ]
           ]
          },
          "colorway": [
           "#636efa",
           "#EF553B",
           "#00cc96",
           "#ab63fa",
           "#FFA15A",
           "#19d3f3",
           "#FF6692",
           "#B6E880",
           "#FF97FF",
           "#FECB52"
          ],
          "font": {
           "color": "#2a3f5f"
          },
          "geo": {
           "bgcolor": "white",
           "lakecolor": "white",
           "landcolor": "#E5ECF6",
           "showlakes": true,
           "showland": true,
           "subunitcolor": "white"
          },
          "hoverlabel": {
           "align": "left"
          },
          "hovermode": "closest",
          "mapbox": {
           "style": "light"
          },
          "paper_bgcolor": "white",
          "plot_bgcolor": "#E5ECF6",
          "polar": {
           "angularaxis": {
            "gridcolor": "white",
            "linecolor": "white",
            "ticks": ""
           },
           "bgcolor": "#E5ECF6",
           "radialaxis": {
            "gridcolor": "white",
            "linecolor": "white",
            "ticks": ""
           }
          },
          "scene": {
           "xaxis": {
            "backgroundcolor": "#E5ECF6",
            "gridcolor": "white",
            "gridwidth": 2,
            "linecolor": "white",
            "showbackground": true,
            "ticks": "",
            "zerolinecolor": "white"
           },
           "yaxis": {
            "backgroundcolor": "#E5ECF6",
            "gridcolor": "white",
            "gridwidth": 2,
            "linecolor": "white",
            "showbackground": true,
            "ticks": "",
            "zerolinecolor": "white"
           },
           "zaxis": {
            "backgroundcolor": "#E5ECF6",
            "gridcolor": "white",
            "gridwidth": 2,
            "linecolor": "white",
            "showbackground": true,
            "ticks": "",
            "zerolinecolor": "white"
           }
          },
          "shapedefaults": {
           "line": {
            "color": "#2a3f5f"
           }
          },
          "ternary": {
           "aaxis": {
            "gridcolor": "white",
            "linecolor": "white",
            "ticks": ""
           },
           "baxis": {
            "gridcolor": "white",
            "linecolor": "white",
            "ticks": ""
           },
           "bgcolor": "#E5ECF6",
           "caxis": {
            "gridcolor": "white",
            "linecolor": "white",
            "ticks": ""
           }
          },
          "title": {
           "x": 0.05
          },
          "xaxis": {
           "automargin": true,
           "gridcolor": "white",
           "linecolor": "white",
           "ticks": "",
           "title": {
            "standoff": 15
           },
           "zerolinecolor": "white",
           "zerolinewidth": 2
          },
          "yaxis": {
           "automargin": true,
           "gridcolor": "white",
           "linecolor": "white",
           "ticks": "",
           "title": {
            "standoff": 15
           },
           "zerolinecolor": "white",
           "zerolinewidth": 2
          }
         }
        },
        "title": {
         "text": " \"COVID-19 has led me to drastically change my daily routines and the way I spend my day.\" How much do you agree or disagree with this statement?"
        }
       }
      },
      "text/html": [
       "<div>\n",
       "        \n",
       "        \n",
       "            <div id=\"1b02c603-1f02-4edc-b046-eed8c6ae5c91\" class=\"plotly-graph-div\" style=\"height:525px; width:100%;\"></div>\n",
       "            <script type=\"text/javascript\">\n",
       "                require([\"plotly\"], function(Plotly) {\n",
       "                    window.PLOTLYENV=window.PLOTLYENV || {};\n",
       "                    \n",
       "                if (document.getElementById(\"1b02c603-1f02-4edc-b046-eed8c6ae5c91\")) {\n",
       "                    Plotly.newPlot(\n",
       "                        '1b02c603-1f02-4edc-b046-eed8c6ae5c91',\n",
       "                        [{\"hoverinfo\": \"label+value\", \"labels\": [\"Strongly agree\", \"Agree\", \"Neutral\", \"Strongly disagree\", \"Disagree\"], \"marker\": {\"line\": {\"color\": \"#000000\", \"width\": 1.5}}, \"textfont\": {\"color\": \"black\", \"size\": 20}, \"textinfo\": \"percent\", \"type\": \"pie\", \"values\": [241, 154, 56, 29, 28]}],\n",
       "                        {\"font\": {\"family\": \"Calibri\", \"size\": 15}, \"template\": {\"data\": {\"bar\": [{\"error_x\": {\"color\": \"#2a3f5f\"}, \"error_y\": {\"color\": \"#2a3f5f\"}, \"marker\": {\"line\": {\"color\": \"#E5ECF6\", \"width\": 0.5}}, \"type\": \"bar\"}], \"barpolar\": [{\"marker\": {\"line\": {\"color\": \"#E5ECF6\", \"width\": 0.5}}, \"type\": \"barpolar\"}], \"carpet\": [{\"aaxis\": {\"endlinecolor\": \"#2a3f5f\", \"gridcolor\": \"white\", \"linecolor\": \"white\", \"minorgridcolor\": \"white\", \"startlinecolor\": \"#2a3f5f\"}, \"baxis\": {\"endlinecolor\": \"#2a3f5f\", \"gridcolor\": \"white\", \"linecolor\": \"white\", \"minorgridcolor\": \"white\", \"startlinecolor\": \"#2a3f5f\"}, \"type\": \"carpet\"}], \"choropleth\": [{\"colorbar\": {\"outlinewidth\": 0, \"ticks\": \"\"}, \"type\": \"choropleth\"}], \"contour\": [{\"colorbar\": {\"outlinewidth\": 0, \"ticks\": \"\"}, \"colorscale\": [[0.0, \"#0d0887\"], [0.1111111111111111, \"#46039f\"], [0.2222222222222222, \"#7201a8\"], [0.3333333333333333, \"#9c179e\"], [0.4444444444444444, \"#bd3786\"], [0.5555555555555556, \"#d8576b\"], [0.6666666666666666, \"#ed7953\"], [0.7777777777777778, \"#fb9f3a\"], [0.8888888888888888, \"#fdca26\"], [1.0, \"#f0f921\"]], \"type\": \"contour\"}], \"contourcarpet\": [{\"colorbar\": {\"outlinewidth\": 0, \"ticks\": \"\"}, \"type\": \"contourcarpet\"}], \"heatmap\": [{\"colorbar\": {\"outlinewidth\": 0, \"ticks\": \"\"}, \"colorscale\": [[0.0, \"#0d0887\"], [0.1111111111111111, \"#46039f\"], [0.2222222222222222, \"#7201a8\"], [0.3333333333333333, \"#9c179e\"], [0.4444444444444444, \"#bd3786\"], [0.5555555555555556, \"#d8576b\"], [0.6666666666666666, \"#ed7953\"], [0.7777777777777778, \"#fb9f3a\"], [0.8888888888888888, \"#fdca26\"], [1.0, \"#f0f921\"]], \"type\": \"heatmap\"}], \"heatmapgl\": [{\"colorbar\": {\"outlinewidth\": 0, \"ticks\": \"\"}, \"colorscale\": [[0.0, \"#0d0887\"], [0.1111111111111111, \"#46039f\"], [0.2222222222222222, \"#7201a8\"], [0.3333333333333333, \"#9c179e\"], [0.4444444444444444, \"#bd3786\"], [0.5555555555555556, \"#d8576b\"], [0.6666666666666666, \"#ed7953\"], [0.7777777777777778, \"#fb9f3a\"], [0.8888888888888888, \"#fdca26\"], [1.0, \"#f0f921\"]], \"type\": \"heatmapgl\"}], \"histogram\": [{\"marker\": {\"colorbar\": {\"outlinewidth\": 0, \"ticks\": \"\"}}, \"type\": \"histogram\"}], \"histogram2d\": [{\"colorbar\": {\"outlinewidth\": 0, \"ticks\": \"\"}, \"colorscale\": [[0.0, \"#0d0887\"], [0.1111111111111111, \"#46039f\"], [0.2222222222222222, \"#7201a8\"], [0.3333333333333333, \"#9c179e\"], [0.4444444444444444, \"#bd3786\"], [0.5555555555555556, \"#d8576b\"], [0.6666666666666666, \"#ed7953\"], [0.7777777777777778, \"#fb9f3a\"], [0.8888888888888888, \"#fdca26\"], [1.0, \"#f0f921\"]], \"type\": \"histogram2d\"}], \"histogram2dcontour\": [{\"colorbar\": {\"outlinewidth\": 0, \"ticks\": \"\"}, \"colorscale\": [[0.0, \"#0d0887\"], [0.1111111111111111, \"#46039f\"], [0.2222222222222222, \"#7201a8\"], [0.3333333333333333, \"#9c179e\"], [0.4444444444444444, \"#bd3786\"], [0.5555555555555556, \"#d8576b\"], [0.6666666666666666, \"#ed7953\"], [0.7777777777777778, \"#fb9f3a\"], [0.8888888888888888, \"#fdca26\"], [1.0, \"#f0f921\"]], \"type\": \"histogram2dcontour\"}], \"mesh3d\": [{\"colorbar\": {\"outlinewidth\": 0, \"ticks\": \"\"}, \"type\": \"mesh3d\"}], \"parcoords\": [{\"line\": {\"colorbar\": {\"outlinewidth\": 0, \"ticks\": \"\"}}, \"type\": \"parcoords\"}], \"pie\": [{\"automargin\": true, \"type\": \"pie\"}], \"scatter\": [{\"marker\": {\"colorbar\": {\"outlinewidth\": 0, \"ticks\": \"\"}}, \"type\": \"scatter\"}], \"scatter3d\": [{\"line\": {\"colorbar\": {\"outlinewidth\": 0, \"ticks\": \"\"}}, \"marker\": {\"colorbar\": {\"outlinewidth\": 0, \"ticks\": \"\"}}, \"type\": \"scatter3d\"}], \"scattercarpet\": [{\"marker\": {\"colorbar\": {\"outlinewidth\": 0, \"ticks\": \"\"}}, \"type\": \"scattercarpet\"}], \"scattergeo\": [{\"marker\": {\"colorbar\": {\"outlinewidth\": 0, \"ticks\": \"\"}}, \"type\": \"scattergeo\"}], \"scattergl\": [{\"marker\": {\"colorbar\": {\"outlinewidth\": 0, \"ticks\": \"\"}}, \"type\": \"scattergl\"}], \"scattermapbox\": [{\"marker\": {\"colorbar\": {\"outlinewidth\": 0, \"ticks\": \"\"}}, \"type\": \"scattermapbox\"}], \"scatterpolar\": [{\"marker\": {\"colorbar\": {\"outlinewidth\": 0, \"ticks\": \"\"}}, \"type\": \"scatterpolar\"}], \"scatterpolargl\": [{\"marker\": {\"colorbar\": {\"outlinewidth\": 0, \"ticks\": \"\"}}, \"type\": \"scatterpolargl\"}], \"scatterternary\": [{\"marker\": {\"colorbar\": {\"outlinewidth\": 0, \"ticks\": \"\"}}, \"type\": \"scatterternary\"}], \"surface\": [{\"colorbar\": {\"outlinewidth\": 0, \"ticks\": \"\"}, \"colorscale\": [[0.0, \"#0d0887\"], [0.1111111111111111, \"#46039f\"], [0.2222222222222222, \"#7201a8\"], [0.3333333333333333, \"#9c179e\"], [0.4444444444444444, \"#bd3786\"], [0.5555555555555556, \"#d8576b\"], [0.6666666666666666, \"#ed7953\"], [0.7777777777777778, \"#fb9f3a\"], [0.8888888888888888, \"#fdca26\"], [1.0, \"#f0f921\"]], \"type\": \"surface\"}], \"table\": [{\"cells\": {\"fill\": {\"color\": \"#EBF0F8\"}, \"line\": {\"color\": \"white\"}}, \"header\": {\"fill\": {\"color\": \"#C8D4E3\"}, \"line\": {\"color\": \"white\"}}, \"type\": \"table\"}]}, \"layout\": {\"annotationdefaults\": {\"arrowcolor\": \"#2a3f5f\", \"arrowhead\": 0, \"arrowwidth\": 1}, \"coloraxis\": {\"colorbar\": {\"outlinewidth\": 0, \"ticks\": \"\"}}, \"colorscale\": {\"diverging\": [[0, \"#8e0152\"], [0.1, \"#c51b7d\"], [0.2, \"#de77ae\"], [0.3, \"#f1b6da\"], [0.4, \"#fde0ef\"], [0.5, \"#f7f7f7\"], [0.6, \"#e6f5d0\"], [0.7, \"#b8e186\"], [0.8, \"#7fbc41\"], [0.9, \"#4d9221\"], [1, \"#276419\"]], \"sequential\": [[0.0, \"#0d0887\"], [0.1111111111111111, \"#46039f\"], [0.2222222222222222, \"#7201a8\"], [0.3333333333333333, \"#9c179e\"], [0.4444444444444444, \"#bd3786\"], [0.5555555555555556, \"#d8576b\"], [0.6666666666666666, \"#ed7953\"], [0.7777777777777778, \"#fb9f3a\"], [0.8888888888888888, \"#fdca26\"], [1.0, \"#f0f921\"]], \"sequentialminus\": [[0.0, \"#0d0887\"], [0.1111111111111111, \"#46039f\"], [0.2222222222222222, \"#7201a8\"], [0.3333333333333333, \"#9c179e\"], [0.4444444444444444, \"#bd3786\"], [0.5555555555555556, \"#d8576b\"], [0.6666666666666666, \"#ed7953\"], [0.7777777777777778, \"#fb9f3a\"], [0.8888888888888888, \"#fdca26\"], [1.0, \"#f0f921\"]]}, \"colorway\": [\"#636efa\", \"#EF553B\", \"#00cc96\", \"#ab63fa\", \"#FFA15A\", \"#19d3f3\", \"#FF6692\", \"#B6E880\", \"#FF97FF\", \"#FECB52\"], \"font\": {\"color\": \"#2a3f5f\"}, \"geo\": {\"bgcolor\": \"white\", \"lakecolor\": \"white\", \"landcolor\": \"#E5ECF6\", \"showlakes\": true, \"showland\": true, \"subunitcolor\": \"white\"}, \"hoverlabel\": {\"align\": \"left\"}, \"hovermode\": \"closest\", \"mapbox\": {\"style\": \"light\"}, \"paper_bgcolor\": \"white\", \"plot_bgcolor\": \"#E5ECF6\", \"polar\": {\"angularaxis\": {\"gridcolor\": \"white\", \"linecolor\": \"white\", \"ticks\": \"\"}, \"bgcolor\": \"#E5ECF6\", \"radialaxis\": {\"gridcolor\": \"white\", \"linecolor\": \"white\", \"ticks\": \"\"}}, \"scene\": {\"xaxis\": {\"backgroundcolor\": \"#E5ECF6\", \"gridcolor\": \"white\", \"gridwidth\": 2, \"linecolor\": \"white\", \"showbackground\": true, \"ticks\": \"\", \"zerolinecolor\": \"white\"}, \"yaxis\": {\"backgroundcolor\": \"#E5ECF6\", \"gridcolor\": \"white\", \"gridwidth\": 2, \"linecolor\": \"white\", \"showbackground\": true, \"ticks\": \"\", \"zerolinecolor\": \"white\"}, \"zaxis\": {\"backgroundcolor\": \"#E5ECF6\", \"gridcolor\": \"white\", \"gridwidth\": 2, \"linecolor\": \"white\", \"showbackground\": true, \"ticks\": \"\", \"zerolinecolor\": \"white\"}}, \"shapedefaults\": {\"line\": {\"color\": \"#2a3f5f\"}}, \"ternary\": {\"aaxis\": {\"gridcolor\": \"white\", \"linecolor\": \"white\", \"ticks\": \"\"}, \"baxis\": {\"gridcolor\": \"white\", \"linecolor\": \"white\", \"ticks\": \"\"}, \"bgcolor\": \"#E5ECF6\", \"caxis\": {\"gridcolor\": \"white\", \"linecolor\": \"white\", \"ticks\": \"\"}}, \"title\": {\"x\": 0.05}, \"xaxis\": {\"automargin\": true, \"gridcolor\": \"white\", \"linecolor\": \"white\", \"ticks\": \"\", \"title\": {\"standoff\": 15}, \"zerolinecolor\": \"white\", \"zerolinewidth\": 2}, \"yaxis\": {\"automargin\": true, \"gridcolor\": \"white\", \"linecolor\": \"white\", \"ticks\": \"\", \"title\": {\"standoff\": 15}, \"zerolinecolor\": \"white\", \"zerolinewidth\": 2}}}, \"title\": {\"text\": \" \\\"COVID-19 has led me to drastically change my daily routines and the way I spend my day.\\\" How much do you agree or disagree with this statement?\"}},\n",
       "                        {\"responsive\": true}\n",
       "                    ).then(function(){\n",
       "                            \n",
       "var gd = document.getElementById('1b02c603-1f02-4edc-b046-eed8c6ae5c91');\n",
       "var x = new MutationObserver(function (mutations, observer) {{\n",
       "        var display = window.getComputedStyle(gd).display;\n",
       "        if (!display || display === 'none') {{\n",
       "            console.log([gd, 'removed!']);\n",
       "            Plotly.purge(gd);\n",
       "            observer.disconnect();\n",
       "        }}\n",
       "}});\n",
       "\n",
       "// Listen for the removal of the full notebook cells\n",
       "var notebookContainer = gd.closest('#notebook-container');\n",
       "if (notebookContainer) {{\n",
       "    x.observe(notebookContainer, {childList: true});\n",
       "}}\n",
       "\n",
       "// Listen for the clearing of the current output cell\n",
       "var outputEl = gd.closest('.output');\n",
       "if (outputEl) {{\n",
       "    x.observe(outputEl, {childList: true});\n",
       "}}\n",
       "\n",
       "                        })\n",
       "                };\n",
       "                });\n",
       "            </script>\n",
       "        </div>"
      ]
     },
     "metadata": {},
     "output_type": "display_data"
    },
    {
     "data": {
      "application/vnd.plotly.v1+json": {
       "config": {
        "plotlyServerURL": "https://plot.ly"
       },
       "data": [
        {
         "hoverinfo": "label+value",
         "labels": [
          "About the same",
          "Somewhat worse",
          "Somewhat better",
          "Significantly worse",
          "Significantly better"
         ],
         "marker": {
          "line": {
           "color": "#000000",
           "width": 1.5
          }
         },
         "textfont": {
          "color": "black",
          "size": 20
         },
         "textinfo": "percent",
         "type": "pie",
         "values": [
          114,
          73,
          45,
          38,
          11
         ]
        }
       ],
       "layout": {
        "font": {
         "family": "Calibri",
         "size": 15
        },
        "template": {
         "data": {
          "bar": [
           {
            "error_x": {
             "color": "#2a3f5f"
            },
            "error_y": {
             "color": "#2a3f5f"
            },
            "marker": {
             "line": {
              "color": "#E5ECF6",
              "width": 0.5
             }
            },
            "type": "bar"
           }
          ],
          "barpolar": [
           {
            "marker": {
             "line": {
              "color": "#E5ECF6",
              "width": 0.5
             }
            },
            "type": "barpolar"
           }
          ],
          "carpet": [
           {
            "aaxis": {
             "endlinecolor": "#2a3f5f",
             "gridcolor": "white",
             "linecolor": "white",
             "minorgridcolor": "white",
             "startlinecolor": "#2a3f5f"
            },
            "baxis": {
             "endlinecolor": "#2a3f5f",
             "gridcolor": "white",
             "linecolor": "white",
             "minorgridcolor": "white",
             "startlinecolor": "#2a3f5f"
            },
            "type": "carpet"
           }
          ],
          "choropleth": [
           {
            "colorbar": {
             "outlinewidth": 0,
             "ticks": ""
            },
            "type": "choropleth"
           }
          ],
          "contour": [
           {
            "colorbar": {
             "outlinewidth": 0,
             "ticks": ""
            },
            "colorscale": [
             [
              0,
              "#0d0887"
             ],
             [
              0.1111111111111111,
              "#46039f"
             ],
             [
              0.2222222222222222,
              "#7201a8"
             ],
             [
              0.3333333333333333,
              "#9c179e"
             ],
             [
              0.4444444444444444,
              "#bd3786"
             ],
             [
              0.5555555555555556,
              "#d8576b"
             ],
             [
              0.6666666666666666,
              "#ed7953"
             ],
             [
              0.7777777777777778,
              "#fb9f3a"
             ],
             [
              0.8888888888888888,
              "#fdca26"
             ],
             [
              1,
              "#f0f921"
             ]
            ],
            "type": "contour"
           }
          ],
          "contourcarpet": [
           {
            "colorbar": {
             "outlinewidth": 0,
             "ticks": ""
            },
            "type": "contourcarpet"
           }
          ],
          "heatmap": [
           {
            "colorbar": {
             "outlinewidth": 0,
             "ticks": ""
            },
            "colorscale": [
             [
              0,
              "#0d0887"
             ],
             [
              0.1111111111111111,
              "#46039f"
             ],
             [
              0.2222222222222222,
              "#7201a8"
             ],
             [
              0.3333333333333333,
              "#9c179e"
             ],
             [
              0.4444444444444444,
              "#bd3786"
             ],
             [
              0.5555555555555556,
              "#d8576b"
             ],
             [
              0.6666666666666666,
              "#ed7953"
             ],
             [
              0.7777777777777778,
              "#fb9f3a"
             ],
             [
              0.8888888888888888,
              "#fdca26"
             ],
             [
              1,
              "#f0f921"
             ]
            ],
            "type": "heatmap"
           }
          ],
          "heatmapgl": [
           {
            "colorbar": {
             "outlinewidth": 0,
             "ticks": ""
            },
            "colorscale": [
             [
              0,
              "#0d0887"
             ],
             [
              0.1111111111111111,
              "#46039f"
             ],
             [
              0.2222222222222222,
              "#7201a8"
             ],
             [
              0.3333333333333333,
              "#9c179e"
             ],
             [
              0.4444444444444444,
              "#bd3786"
             ],
             [
              0.5555555555555556,
              "#d8576b"
             ],
             [
              0.6666666666666666,
              "#ed7953"
             ],
             [
              0.7777777777777778,
              "#fb9f3a"
             ],
             [
              0.8888888888888888,
              "#fdca26"
             ],
             [
              1,
              "#f0f921"
             ]
            ],
            "type": "heatmapgl"
           }
          ],
          "histogram": [
           {
            "marker": {
             "colorbar": {
              "outlinewidth": 0,
              "ticks": ""
             }
            },
            "type": "histogram"
           }
          ],
          "histogram2d": [
           {
            "colorbar": {
             "outlinewidth": 0,
             "ticks": ""
            },
            "colorscale": [
             [
              0,
              "#0d0887"
             ],
             [
              0.1111111111111111,
              "#46039f"
             ],
             [
              0.2222222222222222,
              "#7201a8"
             ],
             [
              0.3333333333333333,
              "#9c179e"
             ],
             [
              0.4444444444444444,
              "#bd3786"
             ],
             [
              0.5555555555555556,
              "#d8576b"
             ],
             [
              0.6666666666666666,
              "#ed7953"
             ],
             [
              0.7777777777777778,
              "#fb9f3a"
             ],
             [
              0.8888888888888888,
              "#fdca26"
             ],
             [
              1,
              "#f0f921"
             ]
            ],
            "type": "histogram2d"
           }
          ],
          "histogram2dcontour": [
           {
            "colorbar": {
             "outlinewidth": 0,
             "ticks": ""
            },
            "colorscale": [
             [
              0,
              "#0d0887"
             ],
             [
              0.1111111111111111,
              "#46039f"
             ],
             [
              0.2222222222222222,
              "#7201a8"
             ],
             [
              0.3333333333333333,
              "#9c179e"
             ],
             [
              0.4444444444444444,
              "#bd3786"
             ],
             [
              0.5555555555555556,
              "#d8576b"
             ],
             [
              0.6666666666666666,
              "#ed7953"
             ],
             [
              0.7777777777777778,
              "#fb9f3a"
             ],
             [
              0.8888888888888888,
              "#fdca26"
             ],
             [
              1,
              "#f0f921"
             ]
            ],
            "type": "histogram2dcontour"
           }
          ],
          "mesh3d": [
           {
            "colorbar": {
             "outlinewidth": 0,
             "ticks": ""
            },
            "type": "mesh3d"
           }
          ],
          "parcoords": [
           {
            "line": {
             "colorbar": {
              "outlinewidth": 0,
              "ticks": ""
             }
            },
            "type": "parcoords"
           }
          ],
          "pie": [
           {
            "automargin": true,
            "type": "pie"
           }
          ],
          "scatter": [
           {
            "marker": {
             "colorbar": {
              "outlinewidth": 0,
              "ticks": ""
             }
            },
            "type": "scatter"
           }
          ],
          "scatter3d": [
           {
            "line": {
             "colorbar": {
              "outlinewidth": 0,
              "ticks": ""
             }
            },
            "marker": {
             "colorbar": {
              "outlinewidth": 0,
              "ticks": ""
             }
            },
            "type": "scatter3d"
           }
          ],
          "scattercarpet": [
           {
            "marker": {
             "colorbar": {
              "outlinewidth": 0,
              "ticks": ""
             }
            },
            "type": "scattercarpet"
           }
          ],
          "scattergeo": [
           {
            "marker": {
             "colorbar": {
              "outlinewidth": 0,
              "ticks": ""
             }
            },
            "type": "scattergeo"
           }
          ],
          "scattergl": [
           {
            "marker": {
             "colorbar": {
              "outlinewidth": 0,
              "ticks": ""
             }
            },
            "type": "scattergl"
           }
          ],
          "scattermapbox": [
           {
            "marker": {
             "colorbar": {
              "outlinewidth": 0,
              "ticks": ""
             }
            },
            "type": "scattermapbox"
           }
          ],
          "scatterpolar": [
           {
            "marker": {
             "colorbar": {
              "outlinewidth": 0,
              "ticks": ""
             }
            },
            "type": "scatterpolar"
           }
          ],
          "scatterpolargl": [
           {
            "marker": {
             "colorbar": {
              "outlinewidth": 0,
              "ticks": ""
             }
            },
            "type": "scatterpolargl"
           }
          ],
          "scatterternary": [
           {
            "marker": {
             "colorbar": {
              "outlinewidth": 0,
              "ticks": ""
             }
            },
            "type": "scatterternary"
           }
          ],
          "surface": [
           {
            "colorbar": {
             "outlinewidth": 0,
             "ticks": ""
            },
            "colorscale": [
             [
              0,
              "#0d0887"
             ],
             [
              0.1111111111111111,
              "#46039f"
             ],
             [
              0.2222222222222222,
              "#7201a8"
             ],
             [
              0.3333333333333333,
              "#9c179e"
             ],
             [
              0.4444444444444444,
              "#bd3786"
             ],
             [
              0.5555555555555556,
              "#d8576b"
             ],
             [
              0.6666666666666666,
              "#ed7953"
             ],
             [
              0.7777777777777778,
              "#fb9f3a"
             ],
             [
              0.8888888888888888,
              "#fdca26"
             ],
             [
              1,
              "#f0f921"
             ]
            ],
            "type": "surface"
           }
          ],
          "table": [
           {
            "cells": {
             "fill": {
              "color": "#EBF0F8"
             },
             "line": {
              "color": "white"
             }
            },
            "header": {
             "fill": {
              "color": "#C8D4E3"
             },
             "line": {
              "color": "white"
             }
            },
            "type": "table"
           }
          ]
         },
         "layout": {
          "annotationdefaults": {
           "arrowcolor": "#2a3f5f",
           "arrowhead": 0,
           "arrowwidth": 1
          },
          "coloraxis": {
           "colorbar": {
            "outlinewidth": 0,
            "ticks": ""
           }
          },
          "colorscale": {
           "diverging": [
            [
             0,
             "#8e0152"
            ],
            [
             0.1,
             "#c51b7d"
            ],
            [
             0.2,
             "#de77ae"
            ],
            [
             0.3,
             "#f1b6da"
            ],
            [
             0.4,
             "#fde0ef"
            ],
            [
             0.5,
             "#f7f7f7"
            ],
            [
             0.6,
             "#e6f5d0"
            ],
            [
             0.7,
             "#b8e186"
            ],
            [
             0.8,
             "#7fbc41"
            ],
            [
             0.9,
             "#4d9221"
            ],
            [
             1,
             "#276419"
            ]
           ],
           "sequential": [
            [
             0,
             "#0d0887"
            ],
            [
             0.1111111111111111,
             "#46039f"
            ],
            [
             0.2222222222222222,
             "#7201a8"
            ],
            [
             0.3333333333333333,
             "#9c179e"
            ],
            [
             0.4444444444444444,
             "#bd3786"
            ],
            [
             0.5555555555555556,
             "#d8576b"
            ],
            [
             0.6666666666666666,
             "#ed7953"
            ],
            [
             0.7777777777777778,
             "#fb9f3a"
            ],
            [
             0.8888888888888888,
             "#fdca26"
            ],
            [
             1,
             "#f0f921"
            ]
           ],
           "sequentialminus": [
            [
             0,
             "#0d0887"
            ],
            [
             0.1111111111111111,
             "#46039f"
            ],
            [
             0.2222222222222222,
             "#7201a8"
            ],
            [
             0.3333333333333333,
             "#9c179e"
            ],
            [
             0.4444444444444444,
             "#bd3786"
            ],
            [
             0.5555555555555556,
             "#d8576b"
            ],
            [
             0.6666666666666666,
             "#ed7953"
            ],
            [
             0.7777777777777778,
             "#fb9f3a"
            ],
            [
             0.8888888888888888,
             "#fdca26"
            ],
            [
             1,
             "#f0f921"
            ]
           ]
          },
          "colorway": [
           "#636efa",
           "#EF553B",
           "#00cc96",
           "#ab63fa",
           "#FFA15A",
           "#19d3f3",
           "#FF6692",
           "#B6E880",
           "#FF97FF",
           "#FECB52"
          ],
          "font": {
           "color": "#2a3f5f"
          },
          "geo": {
           "bgcolor": "white",
           "lakecolor": "white",
           "landcolor": "#E5ECF6",
           "showlakes": true,
           "showland": true,
           "subunitcolor": "white"
          },
          "hoverlabel": {
           "align": "left"
          },
          "hovermode": "closest",
          "mapbox": {
           "style": "light"
          },
          "paper_bgcolor": "white",
          "plot_bgcolor": "#E5ECF6",
          "polar": {
           "angularaxis": {
            "gridcolor": "white",
            "linecolor": "white",
            "ticks": ""
           },
           "bgcolor": "#E5ECF6",
           "radialaxis": {
            "gridcolor": "white",
            "linecolor": "white",
            "ticks": ""
           }
          },
          "scene": {
           "xaxis": {
            "backgroundcolor": "#E5ECF6",
            "gridcolor": "white",
            "gridwidth": 2,
            "linecolor": "white",
            "showbackground": true,
            "ticks": "",
            "zerolinecolor": "white"
           },
           "yaxis": {
            "backgroundcolor": "#E5ECF6",
            "gridcolor": "white",
            "gridwidth": 2,
            "linecolor": "white",
            "showbackground": true,
            "ticks": "",
            "zerolinecolor": "white"
           },
           "zaxis": {
            "backgroundcolor": "#E5ECF6",
            "gridcolor": "white",
            "gridwidth": 2,
            "linecolor": "white",
            "showbackground": true,
            "ticks": "",
            "zerolinecolor": "white"
           }
          },
          "shapedefaults": {
           "line": {
            "color": "#2a3f5f"
           }
          },
          "ternary": {
           "aaxis": {
            "gridcolor": "white",
            "linecolor": "white",
            "ticks": ""
           },
           "baxis": {
            "gridcolor": "white",
            "linecolor": "white",
            "ticks": ""
           },
           "bgcolor": "#E5ECF6",
           "caxis": {
            "gridcolor": "white",
            "linecolor": "white",
            "ticks": ""
           }
          },
          "title": {
           "x": 0.05
          },
          "xaxis": {
           "automargin": true,
           "gridcolor": "white",
           "linecolor": "white",
           "ticks": "",
           "title": {
            "standoff": 15
           },
           "zerolinecolor": "white",
           "zerolinewidth": 2
          },
          "yaxis": {
           "automargin": true,
           "gridcolor": "white",
           "linecolor": "white",
           "ticks": "",
           "title": {
            "standoff": 15
           },
           "zerolinecolor": "white",
           "zerolinewidth": 2
          }
         }
        },
        "title": {
         "text": " How are you doing financially today, compared to a year ago?"
        }
       }
      },
      "text/html": [
       "<div>\n",
       "        \n",
       "        \n",
       "            <div id=\"8aeb7727-0f75-485e-ba47-02bc441793ac\" class=\"plotly-graph-div\" style=\"height:525px; width:100%;\"></div>\n",
       "            <script type=\"text/javascript\">\n",
       "                require([\"plotly\"], function(Plotly) {\n",
       "                    window.PLOTLYENV=window.PLOTLYENV || {};\n",
       "                    \n",
       "                if (document.getElementById(\"8aeb7727-0f75-485e-ba47-02bc441793ac\")) {\n",
       "                    Plotly.newPlot(\n",
       "                        '8aeb7727-0f75-485e-ba47-02bc441793ac',\n",
       "                        [{\"hoverinfo\": \"label+value\", \"labels\": [\"About the same\", \"Somewhat worse\", \"Somewhat better\", \"Significantly worse\", \"Significantly better\"], \"marker\": {\"line\": {\"color\": \"#000000\", \"width\": 1.5}}, \"textfont\": {\"color\": \"black\", \"size\": 20}, \"textinfo\": \"percent\", \"type\": \"pie\", \"values\": [114, 73, 45, 38, 11]}],\n",
       "                        {\"font\": {\"family\": \"Calibri\", \"size\": 15}, \"template\": {\"data\": {\"bar\": [{\"error_x\": {\"color\": \"#2a3f5f\"}, \"error_y\": {\"color\": \"#2a3f5f\"}, \"marker\": {\"line\": {\"color\": \"#E5ECF6\", \"width\": 0.5}}, \"type\": \"bar\"}], \"barpolar\": [{\"marker\": {\"line\": {\"color\": \"#E5ECF6\", \"width\": 0.5}}, \"type\": \"barpolar\"}], \"carpet\": [{\"aaxis\": {\"endlinecolor\": \"#2a3f5f\", \"gridcolor\": \"white\", \"linecolor\": \"white\", \"minorgridcolor\": \"white\", \"startlinecolor\": \"#2a3f5f\"}, \"baxis\": {\"endlinecolor\": \"#2a3f5f\", \"gridcolor\": \"white\", \"linecolor\": \"white\", \"minorgridcolor\": \"white\", \"startlinecolor\": \"#2a3f5f\"}, \"type\": \"carpet\"}], \"choropleth\": [{\"colorbar\": {\"outlinewidth\": 0, \"ticks\": \"\"}, \"type\": \"choropleth\"}], \"contour\": [{\"colorbar\": {\"outlinewidth\": 0, \"ticks\": \"\"}, \"colorscale\": [[0.0, \"#0d0887\"], [0.1111111111111111, \"#46039f\"], [0.2222222222222222, \"#7201a8\"], [0.3333333333333333, \"#9c179e\"], [0.4444444444444444, \"#bd3786\"], [0.5555555555555556, \"#d8576b\"], [0.6666666666666666, \"#ed7953\"], [0.7777777777777778, \"#fb9f3a\"], [0.8888888888888888, \"#fdca26\"], [1.0, \"#f0f921\"]], \"type\": \"contour\"}], \"contourcarpet\": [{\"colorbar\": {\"outlinewidth\": 0, \"ticks\": \"\"}, \"type\": \"contourcarpet\"}], \"heatmap\": [{\"colorbar\": {\"outlinewidth\": 0, \"ticks\": \"\"}, \"colorscale\": [[0.0, \"#0d0887\"], [0.1111111111111111, \"#46039f\"], [0.2222222222222222, \"#7201a8\"], [0.3333333333333333, \"#9c179e\"], [0.4444444444444444, \"#bd3786\"], [0.5555555555555556, \"#d8576b\"], [0.6666666666666666, \"#ed7953\"], [0.7777777777777778, \"#fb9f3a\"], [0.8888888888888888, \"#fdca26\"], [1.0, \"#f0f921\"]], \"type\": \"heatmap\"}], \"heatmapgl\": [{\"colorbar\": {\"outlinewidth\": 0, \"ticks\": \"\"}, \"colorscale\": [[0.0, \"#0d0887\"], [0.1111111111111111, \"#46039f\"], [0.2222222222222222, \"#7201a8\"], [0.3333333333333333, \"#9c179e\"], [0.4444444444444444, \"#bd3786\"], [0.5555555555555556, \"#d8576b\"], [0.6666666666666666, \"#ed7953\"], [0.7777777777777778, \"#fb9f3a\"], [0.8888888888888888, \"#fdca26\"], [1.0, \"#f0f921\"]], \"type\": \"heatmapgl\"}], \"histogram\": [{\"marker\": {\"colorbar\": {\"outlinewidth\": 0, \"ticks\": \"\"}}, \"type\": \"histogram\"}], \"histogram2d\": [{\"colorbar\": {\"outlinewidth\": 0, \"ticks\": \"\"}, \"colorscale\": [[0.0, \"#0d0887\"], [0.1111111111111111, \"#46039f\"], [0.2222222222222222, \"#7201a8\"], [0.3333333333333333, \"#9c179e\"], [0.4444444444444444, \"#bd3786\"], [0.5555555555555556, \"#d8576b\"], [0.6666666666666666, \"#ed7953\"], [0.7777777777777778, \"#fb9f3a\"], [0.8888888888888888, \"#fdca26\"], [1.0, \"#f0f921\"]], \"type\": \"histogram2d\"}], \"histogram2dcontour\": [{\"colorbar\": {\"outlinewidth\": 0, \"ticks\": \"\"}, \"colorscale\": [[0.0, \"#0d0887\"], [0.1111111111111111, \"#46039f\"], [0.2222222222222222, \"#7201a8\"], [0.3333333333333333, \"#9c179e\"], [0.4444444444444444, \"#bd3786\"], [0.5555555555555556, \"#d8576b\"], [0.6666666666666666, \"#ed7953\"], [0.7777777777777778, \"#fb9f3a\"], [0.8888888888888888, \"#fdca26\"], [1.0, \"#f0f921\"]], \"type\": \"histogram2dcontour\"}], \"mesh3d\": [{\"colorbar\": {\"outlinewidth\": 0, \"ticks\": \"\"}, \"type\": \"mesh3d\"}], \"parcoords\": [{\"line\": {\"colorbar\": {\"outlinewidth\": 0, \"ticks\": \"\"}}, \"type\": \"parcoords\"}], \"pie\": [{\"automargin\": true, \"type\": \"pie\"}], \"scatter\": [{\"marker\": {\"colorbar\": {\"outlinewidth\": 0, \"ticks\": \"\"}}, \"type\": \"scatter\"}], \"scatter3d\": [{\"line\": {\"colorbar\": {\"outlinewidth\": 0, \"ticks\": \"\"}}, \"marker\": {\"colorbar\": {\"outlinewidth\": 0, \"ticks\": \"\"}}, \"type\": \"scatter3d\"}], \"scattercarpet\": [{\"marker\": {\"colorbar\": {\"outlinewidth\": 0, \"ticks\": \"\"}}, \"type\": \"scattercarpet\"}], \"scattergeo\": [{\"marker\": {\"colorbar\": {\"outlinewidth\": 0, \"ticks\": \"\"}}, \"type\": \"scattergeo\"}], \"scattergl\": [{\"marker\": {\"colorbar\": {\"outlinewidth\": 0, \"ticks\": \"\"}}, \"type\": \"scattergl\"}], \"scattermapbox\": [{\"marker\": {\"colorbar\": {\"outlinewidth\": 0, \"ticks\": \"\"}}, \"type\": \"scattermapbox\"}], \"scatterpolar\": [{\"marker\": {\"colorbar\": {\"outlinewidth\": 0, \"ticks\": \"\"}}, \"type\": \"scatterpolar\"}], \"scatterpolargl\": [{\"marker\": {\"colorbar\": {\"outlinewidth\": 0, \"ticks\": \"\"}}, \"type\": \"scatterpolargl\"}], \"scatterternary\": [{\"marker\": {\"colorbar\": {\"outlinewidth\": 0, \"ticks\": \"\"}}, \"type\": \"scatterternary\"}], \"surface\": [{\"colorbar\": {\"outlinewidth\": 0, \"ticks\": \"\"}, \"colorscale\": [[0.0, \"#0d0887\"], [0.1111111111111111, \"#46039f\"], [0.2222222222222222, \"#7201a8\"], [0.3333333333333333, \"#9c179e\"], [0.4444444444444444, \"#bd3786\"], [0.5555555555555556, \"#d8576b\"], [0.6666666666666666, \"#ed7953\"], [0.7777777777777778, \"#fb9f3a\"], [0.8888888888888888, \"#fdca26\"], [1.0, \"#f0f921\"]], \"type\": \"surface\"}], \"table\": [{\"cells\": {\"fill\": {\"color\": \"#EBF0F8\"}, \"line\": {\"color\": \"white\"}}, \"header\": {\"fill\": {\"color\": \"#C8D4E3\"}, \"line\": {\"color\": \"white\"}}, \"type\": \"table\"}]}, \"layout\": {\"annotationdefaults\": {\"arrowcolor\": \"#2a3f5f\", \"arrowhead\": 0, \"arrowwidth\": 1}, \"coloraxis\": {\"colorbar\": {\"outlinewidth\": 0, \"ticks\": \"\"}}, \"colorscale\": {\"diverging\": [[0, \"#8e0152\"], [0.1, \"#c51b7d\"], [0.2, \"#de77ae\"], [0.3, \"#f1b6da\"], [0.4, \"#fde0ef\"], [0.5, \"#f7f7f7\"], [0.6, \"#e6f5d0\"], [0.7, \"#b8e186\"], [0.8, \"#7fbc41\"], [0.9, \"#4d9221\"], [1, \"#276419\"]], \"sequential\": [[0.0, \"#0d0887\"], [0.1111111111111111, \"#46039f\"], [0.2222222222222222, \"#7201a8\"], [0.3333333333333333, \"#9c179e\"], [0.4444444444444444, \"#bd3786\"], [0.5555555555555556, \"#d8576b\"], [0.6666666666666666, \"#ed7953\"], [0.7777777777777778, \"#fb9f3a\"], [0.8888888888888888, \"#fdca26\"], [1.0, \"#f0f921\"]], \"sequentialminus\": [[0.0, \"#0d0887\"], [0.1111111111111111, \"#46039f\"], [0.2222222222222222, \"#7201a8\"], [0.3333333333333333, \"#9c179e\"], [0.4444444444444444, \"#bd3786\"], [0.5555555555555556, \"#d8576b\"], [0.6666666666666666, \"#ed7953\"], [0.7777777777777778, \"#fb9f3a\"], [0.8888888888888888, \"#fdca26\"], [1.0, \"#f0f921\"]]}, \"colorway\": [\"#636efa\", \"#EF553B\", \"#00cc96\", \"#ab63fa\", \"#FFA15A\", \"#19d3f3\", \"#FF6692\", \"#B6E880\", \"#FF97FF\", \"#FECB52\"], \"font\": {\"color\": \"#2a3f5f\"}, \"geo\": {\"bgcolor\": \"white\", \"lakecolor\": \"white\", \"landcolor\": \"#E5ECF6\", \"showlakes\": true, \"showland\": true, \"subunitcolor\": \"white\"}, \"hoverlabel\": {\"align\": \"left\"}, \"hovermode\": \"closest\", \"mapbox\": {\"style\": \"light\"}, \"paper_bgcolor\": \"white\", \"plot_bgcolor\": \"#E5ECF6\", \"polar\": {\"angularaxis\": {\"gridcolor\": \"white\", \"linecolor\": \"white\", \"ticks\": \"\"}, \"bgcolor\": \"#E5ECF6\", \"radialaxis\": {\"gridcolor\": \"white\", \"linecolor\": \"white\", \"ticks\": \"\"}}, \"scene\": {\"xaxis\": {\"backgroundcolor\": \"#E5ECF6\", \"gridcolor\": \"white\", \"gridwidth\": 2, \"linecolor\": \"white\", \"showbackground\": true, \"ticks\": \"\", \"zerolinecolor\": \"white\"}, \"yaxis\": {\"backgroundcolor\": \"#E5ECF6\", \"gridcolor\": \"white\", \"gridwidth\": 2, \"linecolor\": \"white\", \"showbackground\": true, \"ticks\": \"\", \"zerolinecolor\": \"white\"}, \"zaxis\": {\"backgroundcolor\": \"#E5ECF6\", \"gridcolor\": \"white\", \"gridwidth\": 2, \"linecolor\": \"white\", \"showbackground\": true, \"ticks\": \"\", \"zerolinecolor\": \"white\"}}, \"shapedefaults\": {\"line\": {\"color\": \"#2a3f5f\"}}, \"ternary\": {\"aaxis\": {\"gridcolor\": \"white\", \"linecolor\": \"white\", \"ticks\": \"\"}, \"baxis\": {\"gridcolor\": \"white\", \"linecolor\": \"white\", \"ticks\": \"\"}, \"bgcolor\": \"#E5ECF6\", \"caxis\": {\"gridcolor\": \"white\", \"linecolor\": \"white\", \"ticks\": \"\"}}, \"title\": {\"x\": 0.05}, \"xaxis\": {\"automargin\": true, \"gridcolor\": \"white\", \"linecolor\": \"white\", \"ticks\": \"\", \"title\": {\"standoff\": 15}, \"zerolinecolor\": \"white\", \"zerolinewidth\": 2}, \"yaxis\": {\"automargin\": true, \"gridcolor\": \"white\", \"linecolor\": \"white\", \"ticks\": \"\", \"title\": {\"standoff\": 15}, \"zerolinecolor\": \"white\", \"zerolinewidth\": 2}}}, \"title\": {\"text\": \" How are you doing financially today, compared to a year ago?\"}},\n",
       "                        {\"responsive\": true}\n",
       "                    ).then(function(){\n",
       "                            \n",
       "var gd = document.getElementById('8aeb7727-0f75-485e-ba47-02bc441793ac');\n",
       "var x = new MutationObserver(function (mutations, observer) {{\n",
       "        var display = window.getComputedStyle(gd).display;\n",
       "        if (!display || display === 'none') {{\n",
       "            console.log([gd, 'removed!']);\n",
       "            Plotly.purge(gd);\n",
       "            observer.disconnect();\n",
       "        }}\n",
       "}});\n",
       "\n",
       "// Listen for the removal of the full notebook cells\n",
       "var notebookContainer = gd.closest('#notebook-container');\n",
       "if (notebookContainer) {{\n",
       "    x.observe(notebookContainer, {childList: true});\n",
       "}}\n",
       "\n",
       "// Listen for the clearing of the current output cell\n",
       "var outputEl = gd.closest('.output');\n",
       "if (outputEl) {{\n",
       "    x.observe(outputEl, {childList: true});\n",
       "}}\n",
       "\n",
       "                        })\n",
       "                };\n",
       "                });\n",
       "            </script>\n",
       "        </div>"
      ]
     },
     "metadata": {},
     "output_type": "display_data"
    },
    {
     "data": {
      "application/vnd.plotly.v1+json": {
       "config": {
        "plotlyServerURL": "https://plot.ly"
       },
       "data": [
        {
         "hoverinfo": "label+value",
         "labels": [
          "Yes, my employer/school made WFH mandatory",
          "No, I'm not employed or in school",
          "Yes, for other reasons",
          "No, my employer/school didn't provide an option to WFH",
          "Yes, my employer/school gave an option to WFH",
          "No, for other reasons",
          "I worked from home for some days"
         ],
         "marker": {
          "line": {
           "color": "#000000",
           "width": 1.5
          }
         },
         "textfont": {
          "color": "black",
          "size": 20
         },
         "textinfo": "percent",
         "type": "pie",
         "values": [
          239,
          59,
          57,
          51,
          48,
          39,
          15
         ]
        }
       ],
       "layout": {
        "font": {
         "family": "Calibri",
         "size": 15
        },
        "template": {
         "data": {
          "bar": [
           {
            "error_x": {
             "color": "#2a3f5f"
            },
            "error_y": {
             "color": "#2a3f5f"
            },
            "marker": {
             "line": {
              "color": "#E5ECF6",
              "width": 0.5
             }
            },
            "type": "bar"
           }
          ],
          "barpolar": [
           {
            "marker": {
             "line": {
              "color": "#E5ECF6",
              "width": 0.5
             }
            },
            "type": "barpolar"
           }
          ],
          "carpet": [
           {
            "aaxis": {
             "endlinecolor": "#2a3f5f",
             "gridcolor": "white",
             "linecolor": "white",
             "minorgridcolor": "white",
             "startlinecolor": "#2a3f5f"
            },
            "baxis": {
             "endlinecolor": "#2a3f5f",
             "gridcolor": "white",
             "linecolor": "white",
             "minorgridcolor": "white",
             "startlinecolor": "#2a3f5f"
            },
            "type": "carpet"
           }
          ],
          "choropleth": [
           {
            "colorbar": {
             "outlinewidth": 0,
             "ticks": ""
            },
            "type": "choropleth"
           }
          ],
          "contour": [
           {
            "colorbar": {
             "outlinewidth": 0,
             "ticks": ""
            },
            "colorscale": [
             [
              0,
              "#0d0887"
             ],
             [
              0.1111111111111111,
              "#46039f"
             ],
             [
              0.2222222222222222,
              "#7201a8"
             ],
             [
              0.3333333333333333,
              "#9c179e"
             ],
             [
              0.4444444444444444,
              "#bd3786"
             ],
             [
              0.5555555555555556,
              "#d8576b"
             ],
             [
              0.6666666666666666,
              "#ed7953"
             ],
             [
              0.7777777777777778,
              "#fb9f3a"
             ],
             [
              0.8888888888888888,
              "#fdca26"
             ],
             [
              1,
              "#f0f921"
             ]
            ],
            "type": "contour"
           }
          ],
          "contourcarpet": [
           {
            "colorbar": {
             "outlinewidth": 0,
             "ticks": ""
            },
            "type": "contourcarpet"
           }
          ],
          "heatmap": [
           {
            "colorbar": {
             "outlinewidth": 0,
             "ticks": ""
            },
            "colorscale": [
             [
              0,
              "#0d0887"
             ],
             [
              0.1111111111111111,
              "#46039f"
             ],
             [
              0.2222222222222222,
              "#7201a8"
             ],
             [
              0.3333333333333333,
              "#9c179e"
             ],
             [
              0.4444444444444444,
              "#bd3786"
             ],
             [
              0.5555555555555556,
              "#d8576b"
             ],
             [
              0.6666666666666666,
              "#ed7953"
             ],
             [
              0.7777777777777778,
              "#fb9f3a"
             ],
             [
              0.8888888888888888,
              "#fdca26"
             ],
             [
              1,
              "#f0f921"
             ]
            ],
            "type": "heatmap"
           }
          ],
          "heatmapgl": [
           {
            "colorbar": {
             "outlinewidth": 0,
             "ticks": ""
            },
            "colorscale": [
             [
              0,
              "#0d0887"
             ],
             [
              0.1111111111111111,
              "#46039f"
             ],
             [
              0.2222222222222222,
              "#7201a8"
             ],
             [
              0.3333333333333333,
              "#9c179e"
             ],
             [
              0.4444444444444444,
              "#bd3786"
             ],
             [
              0.5555555555555556,
              "#d8576b"
             ],
             [
              0.6666666666666666,
              "#ed7953"
             ],
             [
              0.7777777777777778,
              "#fb9f3a"
             ],
             [
              0.8888888888888888,
              "#fdca26"
             ],
             [
              1,
              "#f0f921"
             ]
            ],
            "type": "heatmapgl"
           }
          ],
          "histogram": [
           {
            "marker": {
             "colorbar": {
              "outlinewidth": 0,
              "ticks": ""
             }
            },
            "type": "histogram"
           }
          ],
          "histogram2d": [
           {
            "colorbar": {
             "outlinewidth": 0,
             "ticks": ""
            },
            "colorscale": [
             [
              0,
              "#0d0887"
             ],
             [
              0.1111111111111111,
              "#46039f"
             ],
             [
              0.2222222222222222,
              "#7201a8"
             ],
             [
              0.3333333333333333,
              "#9c179e"
             ],
             [
              0.4444444444444444,
              "#bd3786"
             ],
             [
              0.5555555555555556,
              "#d8576b"
             ],
             [
              0.6666666666666666,
              "#ed7953"
             ],
             [
              0.7777777777777778,
              "#fb9f3a"
             ],
             [
              0.8888888888888888,
              "#fdca26"
             ],
             [
              1,
              "#f0f921"
             ]
            ],
            "type": "histogram2d"
           }
          ],
          "histogram2dcontour": [
           {
            "colorbar": {
             "outlinewidth": 0,
             "ticks": ""
            },
            "colorscale": [
             [
              0,
              "#0d0887"
             ],
             [
              0.1111111111111111,
              "#46039f"
             ],
             [
              0.2222222222222222,
              "#7201a8"
             ],
             [
              0.3333333333333333,
              "#9c179e"
             ],
             [
              0.4444444444444444,
              "#bd3786"
             ],
             [
              0.5555555555555556,
              "#d8576b"
             ],
             [
              0.6666666666666666,
              "#ed7953"
             ],
             [
              0.7777777777777778,
              "#fb9f3a"
             ],
             [
              0.8888888888888888,
              "#fdca26"
             ],
             [
              1,
              "#f0f921"
             ]
            ],
            "type": "histogram2dcontour"
           }
          ],
          "mesh3d": [
           {
            "colorbar": {
             "outlinewidth": 0,
             "ticks": ""
            },
            "type": "mesh3d"
           }
          ],
          "parcoords": [
           {
            "line": {
             "colorbar": {
              "outlinewidth": 0,
              "ticks": ""
             }
            },
            "type": "parcoords"
           }
          ],
          "pie": [
           {
            "automargin": true,
            "type": "pie"
           }
          ],
          "scatter": [
           {
            "marker": {
             "colorbar": {
              "outlinewidth": 0,
              "ticks": ""
             }
            },
            "type": "scatter"
           }
          ],
          "scatter3d": [
           {
            "line": {
             "colorbar": {
              "outlinewidth": 0,
              "ticks": ""
             }
            },
            "marker": {
             "colorbar": {
              "outlinewidth": 0,
              "ticks": ""
             }
            },
            "type": "scatter3d"
           }
          ],
          "scattercarpet": [
           {
            "marker": {
             "colorbar": {
              "outlinewidth": 0,
              "ticks": ""
             }
            },
            "type": "scattercarpet"
           }
          ],
          "scattergeo": [
           {
            "marker": {
             "colorbar": {
              "outlinewidth": 0,
              "ticks": ""
             }
            },
            "type": "scattergeo"
           }
          ],
          "scattergl": [
           {
            "marker": {
             "colorbar": {
              "outlinewidth": 0,
              "ticks": ""
             }
            },
            "type": "scattergl"
           }
          ],
          "scattermapbox": [
           {
            "marker": {
             "colorbar": {
              "outlinewidth": 0,
              "ticks": ""
             }
            },
            "type": "scattermapbox"
           }
          ],
          "scatterpolar": [
           {
            "marker": {
             "colorbar": {
              "outlinewidth": 0,
              "ticks": ""
             }
            },
            "type": "scatterpolar"
           }
          ],
          "scatterpolargl": [
           {
            "marker": {
             "colorbar": {
              "outlinewidth": 0,
              "ticks": ""
             }
            },
            "type": "scatterpolargl"
           }
          ],
          "scatterternary": [
           {
            "marker": {
             "colorbar": {
              "outlinewidth": 0,
              "ticks": ""
             }
            },
            "type": "scatterternary"
           }
          ],
          "surface": [
           {
            "colorbar": {
             "outlinewidth": 0,
             "ticks": ""
            },
            "colorscale": [
             [
              0,
              "#0d0887"
             ],
             [
              0.1111111111111111,
              "#46039f"
             ],
             [
              0.2222222222222222,
              "#7201a8"
             ],
             [
              0.3333333333333333,
              "#9c179e"
             ],
             [
              0.4444444444444444,
              "#bd3786"
             ],
             [
              0.5555555555555556,
              "#d8576b"
             ],
             [
              0.6666666666666666,
              "#ed7953"
             ],
             [
              0.7777777777777778,
              "#fb9f3a"
             ],
             [
              0.8888888888888888,
              "#fdca26"
             ],
             [
              1,
              "#f0f921"
             ]
            ],
            "type": "surface"
           }
          ],
          "table": [
           {
            "cells": {
             "fill": {
              "color": "#EBF0F8"
             },
             "line": {
              "color": "white"
             }
            },
            "header": {
             "fill": {
              "color": "#C8D4E3"
             },
             "line": {
              "color": "white"
             }
            },
            "type": "table"
           }
          ]
         },
         "layout": {
          "annotationdefaults": {
           "arrowcolor": "#2a3f5f",
           "arrowhead": 0,
           "arrowwidth": 1
          },
          "coloraxis": {
           "colorbar": {
            "outlinewidth": 0,
            "ticks": ""
           }
          },
          "colorscale": {
           "diverging": [
            [
             0,
             "#8e0152"
            ],
            [
             0.1,
             "#c51b7d"
            ],
            [
             0.2,
             "#de77ae"
            ],
            [
             0.3,
             "#f1b6da"
            ],
            [
             0.4,
             "#fde0ef"
            ],
            [
             0.5,
             "#f7f7f7"
            ],
            [
             0.6,
             "#e6f5d0"
            ],
            [
             0.7,
             "#b8e186"
            ],
            [
             0.8,
             "#7fbc41"
            ],
            [
             0.9,
             "#4d9221"
            ],
            [
             1,
             "#276419"
            ]
           ],
           "sequential": [
            [
             0,
             "#0d0887"
            ],
            [
             0.1111111111111111,
             "#46039f"
            ],
            [
             0.2222222222222222,
             "#7201a8"
            ],
            [
             0.3333333333333333,
             "#9c179e"
            ],
            [
             0.4444444444444444,
             "#bd3786"
            ],
            [
             0.5555555555555556,
             "#d8576b"
            ],
            [
             0.6666666666666666,
             "#ed7953"
            ],
            [
             0.7777777777777778,
             "#fb9f3a"
            ],
            [
             0.8888888888888888,
             "#fdca26"
            ],
            [
             1,
             "#f0f921"
            ]
           ],
           "sequentialminus": [
            [
             0,
             "#0d0887"
            ],
            [
             0.1111111111111111,
             "#46039f"
            ],
            [
             0.2222222222222222,
             "#7201a8"
            ],
            [
             0.3333333333333333,
             "#9c179e"
            ],
            [
             0.4444444444444444,
             "#bd3786"
            ],
            [
             0.5555555555555556,
             "#d8576b"
            ],
            [
             0.6666666666666666,
             "#ed7953"
            ],
            [
             0.7777777777777778,
             "#fb9f3a"
            ],
            [
             0.8888888888888888,
             "#fdca26"
            ],
            [
             1,
             "#f0f921"
            ]
           ]
          },
          "colorway": [
           "#636efa",
           "#EF553B",
           "#00cc96",
           "#ab63fa",
           "#FFA15A",
           "#19d3f3",
           "#FF6692",
           "#B6E880",
           "#FF97FF",
           "#FECB52"
          ],
          "font": {
           "color": "#2a3f5f"
          },
          "geo": {
           "bgcolor": "white",
           "lakecolor": "white",
           "landcolor": "#E5ECF6",
           "showlakes": true,
           "showland": true,
           "subunitcolor": "white"
          },
          "hoverlabel": {
           "align": "left"
          },
          "hovermode": "closest",
          "mapbox": {
           "style": "light"
          },
          "paper_bgcolor": "white",
          "plot_bgcolor": "#E5ECF6",
          "polar": {
           "angularaxis": {
            "gridcolor": "white",
            "linecolor": "white",
            "ticks": ""
           },
           "bgcolor": "#E5ECF6",
           "radialaxis": {
            "gridcolor": "white",
            "linecolor": "white",
            "ticks": ""
           }
          },
          "scene": {
           "xaxis": {
            "backgroundcolor": "#E5ECF6",
            "gridcolor": "white",
            "gridwidth": 2,
            "linecolor": "white",
            "showbackground": true,
            "ticks": "",
            "zerolinecolor": "white"
           },
           "yaxis": {
            "backgroundcolor": "#E5ECF6",
            "gridcolor": "white",
            "gridwidth": 2,
            "linecolor": "white",
            "showbackground": true,
            "ticks": "",
            "zerolinecolor": "white"
           },
           "zaxis": {
            "backgroundcolor": "#E5ECF6",
            "gridcolor": "white",
            "gridwidth": 2,
            "linecolor": "white",
            "showbackground": true,
            "ticks": "",
            "zerolinecolor": "white"
           }
          },
          "shapedefaults": {
           "line": {
            "color": "#2a3f5f"
           }
          },
          "ternary": {
           "aaxis": {
            "gridcolor": "white",
            "linecolor": "white",
            "ticks": ""
           },
           "baxis": {
            "gridcolor": "white",
            "linecolor": "white",
            "ticks": ""
           },
           "bgcolor": "#E5ECF6",
           "caxis": {
            "gridcolor": "white",
            "linecolor": "white",
            "ticks": ""
           }
          },
          "title": {
           "x": 0.05
          },
          "xaxis": {
           "automargin": true,
           "gridcolor": "white",
           "linecolor": "white",
           "ticks": "",
           "title": {
            "standoff": 15
           },
           "zerolinecolor": "white",
           "zerolinewidth": 2
          },
          "yaxis": {
           "automargin": true,
           "gridcolor": "white",
           "linecolor": "white",
           "ticks": "",
           "title": {
            "standoff": 15
           },
           "zerolinecolor": "white",
           "zerolinewidth": 2
          }
         }
        },
        "title": {
         "text": "In the past 3 days, did you work from home (WFH)?"
        }
       }
      },
      "text/html": [
       "<div>\n",
       "        \n",
       "        \n",
       "            <div id=\"632db4cc-f57e-4c11-832c-a564536eb76e\" class=\"plotly-graph-div\" style=\"height:525px; width:100%;\"></div>\n",
       "            <script type=\"text/javascript\">\n",
       "                require([\"plotly\"], function(Plotly) {\n",
       "                    window.PLOTLYENV=window.PLOTLYENV || {};\n",
       "                    \n",
       "                if (document.getElementById(\"632db4cc-f57e-4c11-832c-a564536eb76e\")) {\n",
       "                    Plotly.newPlot(\n",
       "                        '632db4cc-f57e-4c11-832c-a564536eb76e',\n",
       "                        [{\"hoverinfo\": \"label+value\", \"labels\": [\"Yes, my employer/school made WFH mandatory\", \"No, I'm not employed or in school\", \"Yes, for other reasons\", \"No, my employer/school didn't provide an option to WFH\", \"Yes, my employer/school gave an option to WFH\", \"No, for other reasons\", \"I worked from home for some days\"], \"marker\": {\"line\": {\"color\": \"#000000\", \"width\": 1.5}}, \"textfont\": {\"color\": \"black\", \"size\": 20}, \"textinfo\": \"percent\", \"type\": \"pie\", \"values\": [239, 59, 57, 51, 48, 39, 15]}],\n",
       "                        {\"font\": {\"family\": \"Calibri\", \"size\": 15}, \"template\": {\"data\": {\"bar\": [{\"error_x\": {\"color\": \"#2a3f5f\"}, \"error_y\": {\"color\": \"#2a3f5f\"}, \"marker\": {\"line\": {\"color\": \"#E5ECF6\", \"width\": 0.5}}, \"type\": \"bar\"}], \"barpolar\": [{\"marker\": {\"line\": {\"color\": \"#E5ECF6\", \"width\": 0.5}}, \"type\": \"barpolar\"}], \"carpet\": [{\"aaxis\": {\"endlinecolor\": \"#2a3f5f\", \"gridcolor\": \"white\", \"linecolor\": \"white\", \"minorgridcolor\": \"white\", \"startlinecolor\": \"#2a3f5f\"}, \"baxis\": {\"endlinecolor\": \"#2a3f5f\", \"gridcolor\": \"white\", \"linecolor\": \"white\", \"minorgridcolor\": \"white\", \"startlinecolor\": \"#2a3f5f\"}, \"type\": \"carpet\"}], \"choropleth\": [{\"colorbar\": {\"outlinewidth\": 0, \"ticks\": \"\"}, \"type\": \"choropleth\"}], \"contour\": [{\"colorbar\": {\"outlinewidth\": 0, \"ticks\": \"\"}, \"colorscale\": [[0.0, \"#0d0887\"], [0.1111111111111111, \"#46039f\"], [0.2222222222222222, \"#7201a8\"], [0.3333333333333333, \"#9c179e\"], [0.4444444444444444, \"#bd3786\"], [0.5555555555555556, \"#d8576b\"], [0.6666666666666666, \"#ed7953\"], [0.7777777777777778, \"#fb9f3a\"], [0.8888888888888888, \"#fdca26\"], [1.0, \"#f0f921\"]], \"type\": \"contour\"}], \"contourcarpet\": [{\"colorbar\": {\"outlinewidth\": 0, \"ticks\": \"\"}, \"type\": \"contourcarpet\"}], \"heatmap\": [{\"colorbar\": {\"outlinewidth\": 0, \"ticks\": \"\"}, \"colorscale\": [[0.0, \"#0d0887\"], [0.1111111111111111, \"#46039f\"], [0.2222222222222222, \"#7201a8\"], [0.3333333333333333, \"#9c179e\"], [0.4444444444444444, \"#bd3786\"], [0.5555555555555556, \"#d8576b\"], [0.6666666666666666, \"#ed7953\"], [0.7777777777777778, \"#fb9f3a\"], [0.8888888888888888, \"#fdca26\"], [1.0, \"#f0f921\"]], \"type\": \"heatmap\"}], \"heatmapgl\": [{\"colorbar\": {\"outlinewidth\": 0, \"ticks\": \"\"}, \"colorscale\": [[0.0, \"#0d0887\"], [0.1111111111111111, \"#46039f\"], [0.2222222222222222, \"#7201a8\"], [0.3333333333333333, \"#9c179e\"], [0.4444444444444444, \"#bd3786\"], [0.5555555555555556, \"#d8576b\"], [0.6666666666666666, \"#ed7953\"], [0.7777777777777778, \"#fb9f3a\"], [0.8888888888888888, \"#fdca26\"], [1.0, \"#f0f921\"]], \"type\": \"heatmapgl\"}], \"histogram\": [{\"marker\": {\"colorbar\": {\"outlinewidth\": 0, \"ticks\": \"\"}}, \"type\": \"histogram\"}], \"histogram2d\": [{\"colorbar\": {\"outlinewidth\": 0, \"ticks\": \"\"}, \"colorscale\": [[0.0, \"#0d0887\"], [0.1111111111111111, \"#46039f\"], [0.2222222222222222, \"#7201a8\"], [0.3333333333333333, \"#9c179e\"], [0.4444444444444444, \"#bd3786\"], [0.5555555555555556, \"#d8576b\"], [0.6666666666666666, \"#ed7953\"], [0.7777777777777778, \"#fb9f3a\"], [0.8888888888888888, \"#fdca26\"], [1.0, \"#f0f921\"]], \"type\": \"histogram2d\"}], \"histogram2dcontour\": [{\"colorbar\": {\"outlinewidth\": 0, \"ticks\": \"\"}, \"colorscale\": [[0.0, \"#0d0887\"], [0.1111111111111111, \"#46039f\"], [0.2222222222222222, \"#7201a8\"], [0.3333333333333333, \"#9c179e\"], [0.4444444444444444, \"#bd3786\"], [0.5555555555555556, \"#d8576b\"], [0.6666666666666666, \"#ed7953\"], [0.7777777777777778, \"#fb9f3a\"], [0.8888888888888888, \"#fdca26\"], [1.0, \"#f0f921\"]], \"type\": \"histogram2dcontour\"}], \"mesh3d\": [{\"colorbar\": {\"outlinewidth\": 0, \"ticks\": \"\"}, \"type\": \"mesh3d\"}], \"parcoords\": [{\"line\": {\"colorbar\": {\"outlinewidth\": 0, \"ticks\": \"\"}}, \"type\": \"parcoords\"}], \"pie\": [{\"automargin\": true, \"type\": \"pie\"}], \"scatter\": [{\"marker\": {\"colorbar\": {\"outlinewidth\": 0, \"ticks\": \"\"}}, \"type\": \"scatter\"}], \"scatter3d\": [{\"line\": {\"colorbar\": {\"outlinewidth\": 0, \"ticks\": \"\"}}, \"marker\": {\"colorbar\": {\"outlinewidth\": 0, \"ticks\": \"\"}}, \"type\": \"scatter3d\"}], \"scattercarpet\": [{\"marker\": {\"colorbar\": {\"outlinewidth\": 0, \"ticks\": \"\"}}, \"type\": \"scattercarpet\"}], \"scattergeo\": [{\"marker\": {\"colorbar\": {\"outlinewidth\": 0, \"ticks\": \"\"}}, \"type\": \"scattergeo\"}], \"scattergl\": [{\"marker\": {\"colorbar\": {\"outlinewidth\": 0, \"ticks\": \"\"}}, \"type\": \"scattergl\"}], \"scattermapbox\": [{\"marker\": {\"colorbar\": {\"outlinewidth\": 0, \"ticks\": \"\"}}, \"type\": \"scattermapbox\"}], \"scatterpolar\": [{\"marker\": {\"colorbar\": {\"outlinewidth\": 0, \"ticks\": \"\"}}, \"type\": \"scatterpolar\"}], \"scatterpolargl\": [{\"marker\": {\"colorbar\": {\"outlinewidth\": 0, \"ticks\": \"\"}}, \"type\": \"scatterpolargl\"}], \"scatterternary\": [{\"marker\": {\"colorbar\": {\"outlinewidth\": 0, \"ticks\": \"\"}}, \"type\": \"scatterternary\"}], \"surface\": [{\"colorbar\": {\"outlinewidth\": 0, \"ticks\": \"\"}, \"colorscale\": [[0.0, \"#0d0887\"], [0.1111111111111111, \"#46039f\"], [0.2222222222222222, \"#7201a8\"], [0.3333333333333333, \"#9c179e\"], [0.4444444444444444, \"#bd3786\"], [0.5555555555555556, \"#d8576b\"], [0.6666666666666666, \"#ed7953\"], [0.7777777777777778, \"#fb9f3a\"], [0.8888888888888888, \"#fdca26\"], [1.0, \"#f0f921\"]], \"type\": \"surface\"}], \"table\": [{\"cells\": {\"fill\": {\"color\": \"#EBF0F8\"}, \"line\": {\"color\": \"white\"}}, \"header\": {\"fill\": {\"color\": \"#C8D4E3\"}, \"line\": {\"color\": \"white\"}}, \"type\": \"table\"}]}, \"layout\": {\"annotationdefaults\": {\"arrowcolor\": \"#2a3f5f\", \"arrowhead\": 0, \"arrowwidth\": 1}, \"coloraxis\": {\"colorbar\": {\"outlinewidth\": 0, \"ticks\": \"\"}}, \"colorscale\": {\"diverging\": [[0, \"#8e0152\"], [0.1, \"#c51b7d\"], [0.2, \"#de77ae\"], [0.3, \"#f1b6da\"], [0.4, \"#fde0ef\"], [0.5, \"#f7f7f7\"], [0.6, \"#e6f5d0\"], [0.7, \"#b8e186\"], [0.8, \"#7fbc41\"], [0.9, \"#4d9221\"], [1, \"#276419\"]], \"sequential\": [[0.0, \"#0d0887\"], [0.1111111111111111, \"#46039f\"], [0.2222222222222222, \"#7201a8\"], [0.3333333333333333, \"#9c179e\"], [0.4444444444444444, \"#bd3786\"], [0.5555555555555556, \"#d8576b\"], [0.6666666666666666, \"#ed7953\"], [0.7777777777777778, \"#fb9f3a\"], [0.8888888888888888, \"#fdca26\"], [1.0, \"#f0f921\"]], \"sequentialminus\": [[0.0, \"#0d0887\"], [0.1111111111111111, \"#46039f\"], [0.2222222222222222, \"#7201a8\"], [0.3333333333333333, \"#9c179e\"], [0.4444444444444444, \"#bd3786\"], [0.5555555555555556, \"#d8576b\"], [0.6666666666666666, \"#ed7953\"], [0.7777777777777778, \"#fb9f3a\"], [0.8888888888888888, \"#fdca26\"], [1.0, \"#f0f921\"]]}, \"colorway\": [\"#636efa\", \"#EF553B\", \"#00cc96\", \"#ab63fa\", \"#FFA15A\", \"#19d3f3\", \"#FF6692\", \"#B6E880\", \"#FF97FF\", \"#FECB52\"], \"font\": {\"color\": \"#2a3f5f\"}, \"geo\": {\"bgcolor\": \"white\", \"lakecolor\": \"white\", \"landcolor\": \"#E5ECF6\", \"showlakes\": true, \"showland\": true, \"subunitcolor\": \"white\"}, \"hoverlabel\": {\"align\": \"left\"}, \"hovermode\": \"closest\", \"mapbox\": {\"style\": \"light\"}, \"paper_bgcolor\": \"white\", \"plot_bgcolor\": \"#E5ECF6\", \"polar\": {\"angularaxis\": {\"gridcolor\": \"white\", \"linecolor\": \"white\", \"ticks\": \"\"}, \"bgcolor\": \"#E5ECF6\", \"radialaxis\": {\"gridcolor\": \"white\", \"linecolor\": \"white\", \"ticks\": \"\"}}, \"scene\": {\"xaxis\": {\"backgroundcolor\": \"#E5ECF6\", \"gridcolor\": \"white\", \"gridwidth\": 2, \"linecolor\": \"white\", \"showbackground\": true, \"ticks\": \"\", \"zerolinecolor\": \"white\"}, \"yaxis\": {\"backgroundcolor\": \"#E5ECF6\", \"gridcolor\": \"white\", \"gridwidth\": 2, \"linecolor\": \"white\", \"showbackground\": true, \"ticks\": \"\", \"zerolinecolor\": \"white\"}, \"zaxis\": {\"backgroundcolor\": \"#E5ECF6\", \"gridcolor\": \"white\", \"gridwidth\": 2, \"linecolor\": \"white\", \"showbackground\": true, \"ticks\": \"\", \"zerolinecolor\": \"white\"}}, \"shapedefaults\": {\"line\": {\"color\": \"#2a3f5f\"}}, \"ternary\": {\"aaxis\": {\"gridcolor\": \"white\", \"linecolor\": \"white\", \"ticks\": \"\"}, \"baxis\": {\"gridcolor\": \"white\", \"linecolor\": \"white\", \"ticks\": \"\"}, \"bgcolor\": \"#E5ECF6\", \"caxis\": {\"gridcolor\": \"white\", \"linecolor\": \"white\", \"ticks\": \"\"}}, \"title\": {\"x\": 0.05}, \"xaxis\": {\"automargin\": true, \"gridcolor\": \"white\", \"linecolor\": \"white\", \"ticks\": \"\", \"title\": {\"standoff\": 15}, \"zerolinecolor\": \"white\", \"zerolinewidth\": 2}, \"yaxis\": {\"automargin\": true, \"gridcolor\": \"white\", \"linecolor\": \"white\", \"ticks\": \"\", \"title\": {\"standoff\": 15}, \"zerolinecolor\": \"white\", \"zerolinewidth\": 2}}}, \"title\": {\"text\": \"In the past 3 days, did you work from home (WFH)?\"}},\n",
       "                        {\"responsive\": true}\n",
       "                    ).then(function(){\n",
       "                            \n",
       "var gd = document.getElementById('632db4cc-f57e-4c11-832c-a564536eb76e');\n",
       "var x = new MutationObserver(function (mutations, observer) {{\n",
       "        var display = window.getComputedStyle(gd).display;\n",
       "        if (!display || display === 'none') {{\n",
       "            console.log([gd, 'removed!']);\n",
       "            Plotly.purge(gd);\n",
       "            observer.disconnect();\n",
       "        }}\n",
       "}});\n",
       "\n",
       "// Listen for the removal of the full notebook cells\n",
       "var notebookContainer = gd.closest('#notebook-container');\n",
       "if (notebookContainer) {{\n",
       "    x.observe(notebookContainer, {childList: true});\n",
       "}}\n",
       "\n",
       "// Listen for the clearing of the current output cell\n",
       "var outputEl = gd.closest('.output');\n",
       "if (outputEl) {{\n",
       "    x.observe(outputEl, {childList: true});\n",
       "}}\n",
       "\n",
       "                        })\n",
       "                };\n",
       "                });\n",
       "            </script>\n",
       "        </div>"
      ]
     },
     "metadata": {},
     "output_type": "display_data"
    }
   ],
   "source": [
    "\n",
    "#for x in col_list:\n",
    "#    col = data.columns[x]\n",
    "#    for x in data.groupby('income_group').count().index:\n",
    "#        piechart2(data,col,income=x)\n",
    "#    for y in data.groupby('Age Groups').count().index:\n",
    "#        piechart2(data,col,age=y)\n",
    "#[2,3,4,6,7,9:20,21:25]\n",
    "#piechart2(data,'Unnamed: 11') \n",
    "#2,3,4, 5 (grouped),6,7,9:20, 21:25\n",
    "#[4,6,7,8,9,10,11,12,13,14,15,16,17,18,19,21,22,23,24]\n",
    "#piechart2(data,col1,income='Prefer not to say')"
   ]
  },
  {
   "cell_type": "code",
   "execution_count": null,
   "metadata": {},
   "outputs": [],
   "source": [
    "data[data['income_group']=='$100,000-$124,999']"
   ]
  },
  {
   "cell_type": "code",
   "execution_count": null,
   "metadata": {},
   "outputs": [],
   "source": [
    "data['Unnamed: 11'].value_counts().index[0]\n",
    "\"COVID-19 has led me to drastically change my daily routines and the way I spend my day.\" How much do you agree or disagree with this statement?(Prefer not to say)\n"
   ]
  },
  {
   "cell_type": "code",
   "execution_count": null,
   "metadata": {},
   "outputs": [],
   "source": [
    "for x in data.groupby('income_group').count().index:\n",
    "\"COVID-19 has led me to drastically change my daily routines and the way I spend my day.\" How much do you agree or disagree with this statement?(nan)\n",
    "In [936]:\n"
   ]
  },
  {
   "cell_type": "code",
   "execution_count": null,
   "metadata": {},
   "outputs": [],
   "source": [
    "data['Age Group']"
   ]
  },
  {
   "cell_type": "code",
   "execution_count": null,
   "metadata": {},
   "outputs": [],
   "source": [
    "'''\n",
    "if len(df) == 2:\n",
    "        df = series.value_counts(dropna=False,sort=True)\n",
    "        labels=['Yes','No']\n",
    "        title = data[series.notnull()][col].iloc[0]\n",
    "        if isinstance(df.index[1],str):\n",
    "            df = df.sort_values()\n",
    "    else:\n",
    "        df = series.value_counts(dropna=True,sort=True)\n",
    "        labels = df.index    \n",
    "'''\n",
    " "
   ]
  },
  {
   "cell_type": "code",
   "execution_count": null,
   "metadata": {},
   "outputs": [],
   "source": [
    "(data1.groupby('Day')['Unnamed: 11'].count() / data1.groupby('Day')['Source'].count() * 100).plot(kind='bar',stacked=True)"
   ]
  },
  {
   "cell_type": "code",
   "execution_count": 1036,
   "metadata": {},
   "outputs": [],
   "source": [
    "def stackedbarchart(data,col1):\n",
    "    \n",
    "    data1 = data[data.Day.isin(data.Day.value_counts().index[data.Day.value_counts().gt(10)])]\n",
    "    abc = data1.groupby('Day')['Source'].count()\n",
    "    bcd = data1.groupby('Day')[col1].count()\n",
    "    cde = bcd / abc *100\n",
    "    \n",
    "    labels = abc.index\n",
    "    yes = cde\n",
    "    no = 100 - cde\n",
    "    \n",
    "\n",
    "    width = 0.7       # the width of the bars: can also be len(x) sequence\n",
    "    plt.style.use('seaborn-whitegrid')\n",
    "    fig, ax = plt.subplots(figsize=(12,8))\n",
    "    \n",
    "    ax.bar(labels, yes, width, label='Yes',color='navy')\n",
    "    ax.bar(labels, no, width, bottom=yes,\n",
    "           label='No',color='darkred')\n",
    "    for i, v in enumerate(yes):\n",
    "        if v == 0:\n",
    "            pass\n",
    "        elif v < 10:\n",
    "            ax.text(i-.23, 1, 'Yes\\n '+str(round(v))+'%', color='white', fontweight='bold')\n",
    "        else:\n",
    "            ax.text(i-.24, v-(v/3), ' Yes\\n'+str(round(v))+'%', color='white', fontweight='bold')\n",
    "    for i, v in enumerate(no):\n",
    "        if v == 0:\n",
    "            pass\n",
    "        elif v < 10:\n",
    "            ax.text(i-.23, 1, 'No\\n '+str(round(v))+'%', color='white', fontweight='bold')\n",
    "        else:\n",
    "            ax.text(i-.24, 100-v+(v/3), ' No\\n'+str(round(v))+'%', color='white', fontweight='bold')\n",
    "\n",
    "    title = data1[col1].value_counts().index[0]\n",
    "    ax.set_ylabel('Percentage (%)')\n",
    "    ax.set_title(title,fontsize=25, color='black',weight='semibold',pad=30)\n",
    "    ax.set_ylim(0,100)\n",
    "    \n",
    "    #plt.savefig('images/stackedbar-'+title+'.png')\n",
    "\n",
    "    plt.show()"
   ]
  },
  {
   "cell_type": "code",
   "execution_count": null,
   "metadata": {},
   "outputs": [],
   "source": [
    "for x in [9,10,11,12,13,14,15,16,17,18,19]:\n",
    "    col = data.columns[x]\n",
    "    stackedbarchart(data,col)"
   ]
  },
  {
   "cell_type": "code",
   "execution_count": 1045,
   "metadata": {},
   "outputs": [
    {
     "data": {
      "text/html": [
       "<div>\n",
       "<style scoped>\n",
       "    .dataframe tbody tr th:only-of-type {\n",
       "        vertical-align: middle;\n",
       "    }\n",
       "\n",
       "    .dataframe tbody tr th {\n",
       "        vertical-align: top;\n",
       "    }\n",
       "\n",
       "    .dataframe thead th {\n",
       "        text-align: right;\n",
       "    }\n",
       "</style>\n",
       "<table border=\"1\" class=\"dataframe\">\n",
       "  <thead>\n",
       "    <tr style=\"text-align: right;\">\n",
       "      <th></th>\n",
       "      <th>Day</th>\n",
       "      <th>Over the past week, have you been continually worried or anxious about a number of events or activities in your daily life?</th>\n",
       "    </tr>\n",
       "  </thead>\n",
       "  <tbody>\n",
       "    <tr>\n",
       "      <th>100</th>\n",
       "      <td>Mar-16</td>\n",
       "      <td>NaN</td>\n",
       "    </tr>\n",
       "    <tr>\n",
       "      <th>101</th>\n",
       "      <td>Mar-16</td>\n",
       "      <td>NaN</td>\n",
       "    </tr>\n",
       "    <tr>\n",
       "      <th>102</th>\n",
       "      <td>Mar-16</td>\n",
       "      <td>NaN</td>\n",
       "    </tr>\n",
       "    <tr>\n",
       "      <th>103</th>\n",
       "      <td>Mar-16</td>\n",
       "      <td>NaN</td>\n",
       "    </tr>\n",
       "    <tr>\n",
       "      <th>104</th>\n",
       "      <td>Mar-16</td>\n",
       "      <td>NaN</td>\n",
       "    </tr>\n",
       "    <tr>\n",
       "      <th>105</th>\n",
       "      <td>Mar-16</td>\n",
       "      <td>NaN</td>\n",
       "    </tr>\n",
       "    <tr>\n",
       "      <th>106</th>\n",
       "      <td>Mar-16</td>\n",
       "      <td>NaN</td>\n",
       "    </tr>\n",
       "    <tr>\n",
       "      <th>107</th>\n",
       "      <td>Mar-16</td>\n",
       "      <td>NaN</td>\n",
       "    </tr>\n",
       "    <tr>\n",
       "      <th>108</th>\n",
       "      <td>Mar-16</td>\n",
       "      <td>NaN</td>\n",
       "    </tr>\n",
       "    <tr>\n",
       "      <th>109</th>\n",
       "      <td>Mar-16</td>\n",
       "      <td>NaN</td>\n",
       "    </tr>\n",
       "    <tr>\n",
       "      <th>110</th>\n",
       "      <td>Mar-16</td>\n",
       "      <td>NaN</td>\n",
       "    </tr>\n",
       "    <tr>\n",
       "      <th>111</th>\n",
       "      <td>Mar-16</td>\n",
       "      <td>NaN</td>\n",
       "    </tr>\n",
       "    <tr>\n",
       "      <th>112</th>\n",
       "      <td>Mar-16</td>\n",
       "      <td>NaN</td>\n",
       "    </tr>\n",
       "    <tr>\n",
       "      <th>113</th>\n",
       "      <td>Mar-16</td>\n",
       "      <td>NaN</td>\n",
       "    </tr>\n",
       "    <tr>\n",
       "      <th>114</th>\n",
       "      <td>Mar-16</td>\n",
       "      <td>NaN</td>\n",
       "    </tr>\n",
       "    <tr>\n",
       "      <th>115</th>\n",
       "      <td>Mar-16</td>\n",
       "      <td>NaN</td>\n",
       "    </tr>\n",
       "    <tr>\n",
       "      <th>116</th>\n",
       "      <td>Mar-16</td>\n",
       "      <td>NaN</td>\n",
       "    </tr>\n",
       "    <tr>\n",
       "      <th>117</th>\n",
       "      <td>Mar-16</td>\n",
       "      <td>NaN</td>\n",
       "    </tr>\n",
       "    <tr>\n",
       "      <th>118</th>\n",
       "      <td>Mar-16</td>\n",
       "      <td>NaN</td>\n",
       "    </tr>\n",
       "    <tr>\n",
       "      <th>119</th>\n",
       "      <td>Mar-16</td>\n",
       "      <td>NaN</td>\n",
       "    </tr>\n",
       "    <tr>\n",
       "      <th>120</th>\n",
       "      <td>Mar-16</td>\n",
       "      <td>NaN</td>\n",
       "    </tr>\n",
       "    <tr>\n",
       "      <th>121</th>\n",
       "      <td>Mar-16</td>\n",
       "      <td>NaN</td>\n",
       "    </tr>\n",
       "    <tr>\n",
       "      <th>122</th>\n",
       "      <td>Mar-16</td>\n",
       "      <td>NaN</td>\n",
       "    </tr>\n",
       "    <tr>\n",
       "      <th>123</th>\n",
       "      <td>Mar-16</td>\n",
       "      <td>NaN</td>\n",
       "    </tr>\n",
       "    <tr>\n",
       "      <th>124</th>\n",
       "      <td>Mar-16</td>\n",
       "      <td>NaN</td>\n",
       "    </tr>\n",
       "    <tr>\n",
       "      <th>125</th>\n",
       "      <td>Mar-16</td>\n",
       "      <td>NaN</td>\n",
       "    </tr>\n",
       "    <tr>\n",
       "      <th>126</th>\n",
       "      <td>Mar-16</td>\n",
       "      <td>NaN</td>\n",
       "    </tr>\n",
       "    <tr>\n",
       "      <th>127</th>\n",
       "      <td>Mar-16</td>\n",
       "      <td>NaN</td>\n",
       "    </tr>\n",
       "    <tr>\n",
       "      <th>128</th>\n",
       "      <td>Mar-16</td>\n",
       "      <td>NaN</td>\n",
       "    </tr>\n",
       "    <tr>\n",
       "      <th>129</th>\n",
       "      <td>Mar-16</td>\n",
       "      <td>NaN</td>\n",
       "    </tr>\n",
       "    <tr>\n",
       "      <th>...</th>\n",
       "      <td>...</td>\n",
       "      <td>...</td>\n",
       "    </tr>\n",
       "    <tr>\n",
       "      <th>478</th>\n",
       "      <td>Mar-27</td>\n",
       "      <td>Yes</td>\n",
       "    </tr>\n",
       "    <tr>\n",
       "      <th>479</th>\n",
       "      <td>Mar-28</td>\n",
       "      <td>No</td>\n",
       "    </tr>\n",
       "    <tr>\n",
       "      <th>480</th>\n",
       "      <td>Mar-28</td>\n",
       "      <td>Yes</td>\n",
       "    </tr>\n",
       "    <tr>\n",
       "      <th>481</th>\n",
       "      <td>Mar-28</td>\n",
       "      <td>No</td>\n",
       "    </tr>\n",
       "    <tr>\n",
       "      <th>482</th>\n",
       "      <td>Mar-28</td>\n",
       "      <td>No</td>\n",
       "    </tr>\n",
       "    <tr>\n",
       "      <th>483</th>\n",
       "      <td>Mar-28</td>\n",
       "      <td>Yes</td>\n",
       "    </tr>\n",
       "    <tr>\n",
       "      <th>484</th>\n",
       "      <td>Mar-28</td>\n",
       "      <td>No</td>\n",
       "    </tr>\n",
       "    <tr>\n",
       "      <th>485</th>\n",
       "      <td>Mar-28</td>\n",
       "      <td>Yes</td>\n",
       "    </tr>\n",
       "    <tr>\n",
       "      <th>486</th>\n",
       "      <td>Mar-28</td>\n",
       "      <td>Yes</td>\n",
       "    </tr>\n",
       "    <tr>\n",
       "      <th>487</th>\n",
       "      <td>Mar-28</td>\n",
       "      <td>No</td>\n",
       "    </tr>\n",
       "    <tr>\n",
       "      <th>488</th>\n",
       "      <td>Mar-28</td>\n",
       "      <td>Yes</td>\n",
       "    </tr>\n",
       "    <tr>\n",
       "      <th>489</th>\n",
       "      <td>Mar-28</td>\n",
       "      <td>Yes</td>\n",
       "    </tr>\n",
       "    <tr>\n",
       "      <th>490</th>\n",
       "      <td>Mar-28</td>\n",
       "      <td>No</td>\n",
       "    </tr>\n",
       "    <tr>\n",
       "      <th>491</th>\n",
       "      <td>Mar-28</td>\n",
       "      <td>Yes</td>\n",
       "    </tr>\n",
       "    <tr>\n",
       "      <th>492</th>\n",
       "      <td>Mar-28</td>\n",
       "      <td>No</td>\n",
       "    </tr>\n",
       "    <tr>\n",
       "      <th>493</th>\n",
       "      <td>Mar-28</td>\n",
       "      <td>No</td>\n",
       "    </tr>\n",
       "    <tr>\n",
       "      <th>494</th>\n",
       "      <td>Mar-28</td>\n",
       "      <td>Yes</td>\n",
       "    </tr>\n",
       "    <tr>\n",
       "      <th>495</th>\n",
       "      <td>Mar-28</td>\n",
       "      <td>Yes</td>\n",
       "    </tr>\n",
       "    <tr>\n",
       "      <th>496</th>\n",
       "      <td>Mar-28</td>\n",
       "      <td>No</td>\n",
       "    </tr>\n",
       "    <tr>\n",
       "      <th>497</th>\n",
       "      <td>Mar-28</td>\n",
       "      <td>Yes</td>\n",
       "    </tr>\n",
       "    <tr>\n",
       "      <th>498</th>\n",
       "      <td>Mar-28</td>\n",
       "      <td>No</td>\n",
       "    </tr>\n",
       "    <tr>\n",
       "      <th>499</th>\n",
       "      <td>Mar-28</td>\n",
       "      <td>Yes</td>\n",
       "    </tr>\n",
       "    <tr>\n",
       "      <th>500</th>\n",
       "      <td>Mar-28</td>\n",
       "      <td>Yes</td>\n",
       "    </tr>\n",
       "    <tr>\n",
       "      <th>501</th>\n",
       "      <td>Mar-28</td>\n",
       "      <td>Yes</td>\n",
       "    </tr>\n",
       "    <tr>\n",
       "      <th>502</th>\n",
       "      <td>Mar-28</td>\n",
       "      <td>Yes</td>\n",
       "    </tr>\n",
       "    <tr>\n",
       "      <th>503</th>\n",
       "      <td>Mar-28</td>\n",
       "      <td>Yes</td>\n",
       "    </tr>\n",
       "    <tr>\n",
       "      <th>504</th>\n",
       "      <td>Mar-28</td>\n",
       "      <td>Yes</td>\n",
       "    </tr>\n",
       "    <tr>\n",
       "      <th>505</th>\n",
       "      <td>Mar-28</td>\n",
       "      <td>Yes</td>\n",
       "    </tr>\n",
       "    <tr>\n",
       "      <th>506</th>\n",
       "      <td>Mar-28</td>\n",
       "      <td>Yes</td>\n",
       "    </tr>\n",
       "    <tr>\n",
       "      <th>507</th>\n",
       "      <td>Mar-28</td>\n",
       "      <td>Yes</td>\n",
       "    </tr>\n",
       "  </tbody>\n",
       "</table>\n",
       "<p>408 rows × 2 columns</p>\n",
       "</div>"
      ],
      "text/plain": [
       "        Day  \\\n",
       "100  Mar-16   \n",
       "101  Mar-16   \n",
       "102  Mar-16   \n",
       "103  Mar-16   \n",
       "104  Mar-16   \n",
       "105  Mar-16   \n",
       "106  Mar-16   \n",
       "107  Mar-16   \n",
       "108  Mar-16   \n",
       "109  Mar-16   \n",
       "110  Mar-16   \n",
       "111  Mar-16   \n",
       "112  Mar-16   \n",
       "113  Mar-16   \n",
       "114  Mar-16   \n",
       "115  Mar-16   \n",
       "116  Mar-16   \n",
       "117  Mar-16   \n",
       "118  Mar-16   \n",
       "119  Mar-16   \n",
       "120  Mar-16   \n",
       "121  Mar-16   \n",
       "122  Mar-16   \n",
       "123  Mar-16   \n",
       "124  Mar-16   \n",
       "125  Mar-16   \n",
       "126  Mar-16   \n",
       "127  Mar-16   \n",
       "128  Mar-16   \n",
       "129  Mar-16   \n",
       "..      ...   \n",
       "478  Mar-27   \n",
       "479  Mar-28   \n",
       "480  Mar-28   \n",
       "481  Mar-28   \n",
       "482  Mar-28   \n",
       "483  Mar-28   \n",
       "484  Mar-28   \n",
       "485  Mar-28   \n",
       "486  Mar-28   \n",
       "487  Mar-28   \n",
       "488  Mar-28   \n",
       "489  Mar-28   \n",
       "490  Mar-28   \n",
       "491  Mar-28   \n",
       "492  Mar-28   \n",
       "493  Mar-28   \n",
       "494  Mar-28   \n",
       "495  Mar-28   \n",
       "496  Mar-28   \n",
       "497  Mar-28   \n",
       "498  Mar-28   \n",
       "499  Mar-28   \n",
       "500  Mar-28   \n",
       "501  Mar-28   \n",
       "502  Mar-28   \n",
       "503  Mar-28   \n",
       "504  Mar-28   \n",
       "505  Mar-28   \n",
       "506  Mar-28   \n",
       "507  Mar-28   \n",
       "\n",
       "     Over the past week, have you been continually worried or anxious about a number of events or activities in your daily life?  \n",
       "100                                                NaN                                                                            \n",
       "101                                                NaN                                                                            \n",
       "102                                                NaN                                                                            \n",
       "103                                                NaN                                                                            \n",
       "104                                                NaN                                                                            \n",
       "105                                                NaN                                                                            \n",
       "106                                                NaN                                                                            \n",
       "107                                                NaN                                                                            \n",
       "108                                                NaN                                                                            \n",
       "109                                                NaN                                                                            \n",
       "110                                                NaN                                                                            \n",
       "111                                                NaN                                                                            \n",
       "112                                                NaN                                                                            \n",
       "113                                                NaN                                                                            \n",
       "114                                                NaN                                                                            \n",
       "115                                                NaN                                                                            \n",
       "116                                                NaN                                                                            \n",
       "117                                                NaN                                                                            \n",
       "118                                                NaN                                                                            \n",
       "119                                                NaN                                                                            \n",
       "120                                                NaN                                                                            \n",
       "121                                                NaN                                                                            \n",
       "122                                                NaN                                                                            \n",
       "123                                                NaN                                                                            \n",
       "124                                                NaN                                                                            \n",
       "125                                                NaN                                                                            \n",
       "126                                                NaN                                                                            \n",
       "127                                                NaN                                                                            \n",
       "128                                                NaN                                                                            \n",
       "129                                                NaN                                                                            \n",
       "..                                                 ...                                                                            \n",
       "478                                                Yes                                                                            \n",
       "479                                                 No                                                                            \n",
       "480                                                Yes                                                                            \n",
       "481                                                 No                                                                            \n",
       "482                                                 No                                                                            \n",
       "483                                                Yes                                                                            \n",
       "484                                                 No                                                                            \n",
       "485                                                Yes                                                                            \n",
       "486                                                Yes                                                                            \n",
       "487                                                 No                                                                            \n",
       "488                                                Yes                                                                            \n",
       "489                                                Yes                                                                            \n",
       "490                                                 No                                                                            \n",
       "491                                                Yes                                                                            \n",
       "492                                                 No                                                                            \n",
       "493                                                 No                                                                            \n",
       "494                                                Yes                                                                            \n",
       "495                                                Yes                                                                            \n",
       "496                                                 No                                                                            \n",
       "497                                                Yes                                                                            \n",
       "498                                                 No                                                                            \n",
       "499                                                Yes                                                                            \n",
       "500                                                Yes                                                                            \n",
       "501                                                Yes                                                                            \n",
       "502                                                Yes                                                                            \n",
       "503                                                Yes                                                                            \n",
       "504                                                Yes                                                                            \n",
       "505                                                Yes                                                                            \n",
       "506                                                Yes                                                                            \n",
       "507                                                Yes                                                                            \n",
       "\n",
       "[408 rows x 2 columns]"
      ]
     },
     "execution_count": 1045,
     "metadata": {},
     "output_type": "execute_result"
    }
   ],
   "source": [
    "#data.columns[7]\n",
    "#stackedbarchart(data,data.columns[7])\n",
    "ds = data.columns[7]\n",
    "data[['Day',ds]][100:]"
   ]
  },
  {
   "cell_type": "code",
   "execution_count": 897,
   "metadata": {},
   "outputs": [
    {
     "data": {
      "text/plain": [
       "'Rescheduled or canceled non-critical in-person gatherings and appointments'"
      ]
     },
     "execution_count": 897,
     "metadata": {},
     "output_type": "execute_result"
    }
   ],
   "source": [
    "data = data.replace({'Rescheduled or canceled non-critical in-person gatherings and appointments (e.g. birthday parties, concerts, museums, annual checkups, spa, social dinners)':'Rescheduled or canceled non-critical in-person gatherings and appointments'})\n",
    "\n",
    "\n",
    "data.iloc[0,12]\n"
   ]
  },
  {
   "cell_type": "code",
   "execution_count": 1037,
   "metadata": {},
   "outputs": [
    {
     "data": {
      "text/html": [
       "<div>\n",
       "<style scoped>\n",
       "    .dataframe tbody tr th:only-of-type {\n",
       "        vertical-align: middle;\n",
       "    }\n",
       "\n",
       "    .dataframe tbody tr th {\n",
       "        vertical-align: top;\n",
       "    }\n",
       "\n",
       "    .dataframe thead th {\n",
       "        text-align: right;\n",
       "    }\n",
       "</style>\n",
       "<table border=\"1\" class=\"dataframe\">\n",
       "  <thead>\n",
       "    <tr style=\"text-align: right;\">\n",
       "      <th></th>\n",
       "      <th>Source</th>\n",
       "      <th>TimeFinished</th>\n",
       "      <th>On a scale of 1 to 10, how reasonable do you think the public reaction is to COVID-19 now? (1 is under-reacting and 10 is overreacting)</th>\n",
       "      <th>On a scale of 1 to 10, how much do you trust the government to respond to COVID-19 effectively? (1 is strongly distrust and 10 is strongly trust)</th>\n",
       "      <th>\"COVID-19 has led me to drastically change my daily routines and the way I spend my day.\" How much do you agree or disagree with this statement?</th>\n",
       "      <th>How many WEEKS do you think it'll take before your daily life returns to normal (like before COVID-19)?</th>\n",
       "      <th>How are you doing financially today, compared to a year ago?</th>\n",
       "      <th>Over the past week, have you been continually worried or anxious about a number of events or activities in your daily life?</th>\n",
       "      <th>In the past 3 days, did you work from home (WFH)?</th>\n",
       "      <th>In the past 48 hours, I... (check all that apply)</th>\n",
       "      <th>...</th>\n",
       "      <th>Datetime</th>\n",
       "      <th>Day</th>\n",
       "      <th>Age</th>\n",
       "      <th>Age Groups</th>\n",
       "      <th>Female</th>\n",
       "      <th>Male</th>\n",
       "      <th>Student</th>\n",
       "      <th>Retired</th>\n",
       "      <th>Employed</th>\n",
       "      <th>Not Employed</th>\n",
       "    </tr>\n",
       "    <tr>\n",
       "      <th>income_group</th>\n",
       "      <th></th>\n",
       "      <th></th>\n",
       "      <th></th>\n",
       "      <th></th>\n",
       "      <th></th>\n",
       "      <th></th>\n",
       "      <th></th>\n",
       "      <th></th>\n",
       "      <th></th>\n",
       "      <th></th>\n",
       "      <th></th>\n",
       "      <th></th>\n",
       "      <th></th>\n",
       "      <th></th>\n",
       "      <th></th>\n",
       "      <th></th>\n",
       "      <th></th>\n",
       "      <th></th>\n",
       "      <th></th>\n",
       "      <th></th>\n",
       "      <th></th>\n",
       "    </tr>\n",
       "  </thead>\n",
       "  <tbody>\n",
       "    <tr>\n",
       "      <th>100,000-124,999</th>\n",
       "      <td>25</td>\n",
       "      <td>25</td>\n",
       "      <td>25</td>\n",
       "      <td>25</td>\n",
       "      <td>25</td>\n",
       "      <td>25</td>\n",
       "      <td>21</td>\n",
       "      <td>21</td>\n",
       "      <td>25</td>\n",
       "      <td>1</td>\n",
       "      <td>...</td>\n",
       "      <td>25</td>\n",
       "      <td>25</td>\n",
       "      <td>25</td>\n",
       "      <td>25</td>\n",
       "      <td>25</td>\n",
       "      <td>25</td>\n",
       "      <td>25</td>\n",
       "      <td>25</td>\n",
       "      <td>25</td>\n",
       "      <td>25</td>\n",
       "    </tr>\n",
       "    <tr>\n",
       "      <th>125,000-149,999</th>\n",
       "      <td>22</td>\n",
       "      <td>22</td>\n",
       "      <td>22</td>\n",
       "      <td>22</td>\n",
       "      <td>22</td>\n",
       "      <td>22</td>\n",
       "      <td>18</td>\n",
       "      <td>18</td>\n",
       "      <td>22</td>\n",
       "      <td>0</td>\n",
       "      <td>...</td>\n",
       "      <td>22</td>\n",
       "      <td>22</td>\n",
       "      <td>22</td>\n",
       "      <td>22</td>\n",
       "      <td>22</td>\n",
       "      <td>22</td>\n",
       "      <td>22</td>\n",
       "      <td>22</td>\n",
       "      <td>22</td>\n",
       "      <td>22</td>\n",
       "    </tr>\n",
       "    <tr>\n",
       "      <th>25,000-49,999</th>\n",
       "      <td>50</td>\n",
       "      <td>50</td>\n",
       "      <td>50</td>\n",
       "      <td>50</td>\n",
       "      <td>50</td>\n",
       "      <td>50</td>\n",
       "      <td>27</td>\n",
       "      <td>27</td>\n",
       "      <td>50</td>\n",
       "      <td>5</td>\n",
       "      <td>...</td>\n",
       "      <td>50</td>\n",
       "      <td>50</td>\n",
       "      <td>50</td>\n",
       "      <td>50</td>\n",
       "      <td>50</td>\n",
       "      <td>50</td>\n",
       "      <td>50</td>\n",
       "      <td>50</td>\n",
       "      <td>50</td>\n",
       "      <td>50</td>\n",
       "    </tr>\n",
       "    <tr>\n",
       "      <th>50,000-74,999</th>\n",
       "      <td>33</td>\n",
       "      <td>33</td>\n",
       "      <td>33</td>\n",
       "      <td>33</td>\n",
       "      <td>33</td>\n",
       "      <td>33</td>\n",
       "      <td>21</td>\n",
       "      <td>21</td>\n",
       "      <td>33</td>\n",
       "      <td>3</td>\n",
       "      <td>...</td>\n",
       "      <td>33</td>\n",
       "      <td>33</td>\n",
       "      <td>33</td>\n",
       "      <td>33</td>\n",
       "      <td>33</td>\n",
       "      <td>33</td>\n",
       "      <td>33</td>\n",
       "      <td>33</td>\n",
       "      <td>33</td>\n",
       "      <td>33</td>\n",
       "    </tr>\n",
       "    <tr>\n",
       "      <th>75,000-99,999</th>\n",
       "      <td>46</td>\n",
       "      <td>46</td>\n",
       "      <td>46</td>\n",
       "      <td>46</td>\n",
       "      <td>46</td>\n",
       "      <td>46</td>\n",
       "      <td>27</td>\n",
       "      <td>27</td>\n",
       "      <td>46</td>\n",
       "      <td>4</td>\n",
       "      <td>...</td>\n",
       "      <td>46</td>\n",
       "      <td>46</td>\n",
       "      <td>46</td>\n",
       "      <td>46</td>\n",
       "      <td>46</td>\n",
       "      <td>46</td>\n",
       "      <td>46</td>\n",
       "      <td>46</td>\n",
       "      <td>46</td>\n",
       "      <td>46</td>\n",
       "    </tr>\n",
       "    <tr>\n",
       "      <th>&lt;$25,000</th>\n",
       "      <td>58</td>\n",
       "      <td>58</td>\n",
       "      <td>58</td>\n",
       "      <td>58</td>\n",
       "      <td>58</td>\n",
       "      <td>58</td>\n",
       "      <td>34</td>\n",
       "      <td>34</td>\n",
       "      <td>58</td>\n",
       "      <td>4</td>\n",
       "      <td>...</td>\n",
       "      <td>58</td>\n",
       "      <td>58</td>\n",
       "      <td>58</td>\n",
       "      <td>58</td>\n",
       "      <td>58</td>\n",
       "      <td>58</td>\n",
       "      <td>58</td>\n",
       "      <td>58</td>\n",
       "      <td>58</td>\n",
       "      <td>58</td>\n",
       "    </tr>\n",
       "    <tr>\n",
       "      <th>&gt;$150,000</th>\n",
       "      <td>95</td>\n",
       "      <td>95</td>\n",
       "      <td>95</td>\n",
       "      <td>95</td>\n",
       "      <td>95</td>\n",
       "      <td>95</td>\n",
       "      <td>91</td>\n",
       "      <td>91</td>\n",
       "      <td>95</td>\n",
       "      <td>1</td>\n",
       "      <td>...</td>\n",
       "      <td>95</td>\n",
       "      <td>95</td>\n",
       "      <td>95</td>\n",
       "      <td>95</td>\n",
       "      <td>95</td>\n",
       "      <td>95</td>\n",
       "      <td>95</td>\n",
       "      <td>95</td>\n",
       "      <td>95</td>\n",
       "      <td>95</td>\n",
       "    </tr>\n",
       "    <tr>\n",
       "      <th>Prefer not to say</th>\n",
       "      <td>52</td>\n",
       "      <td>52</td>\n",
       "      <td>52</td>\n",
       "      <td>52</td>\n",
       "      <td>52</td>\n",
       "      <td>52</td>\n",
       "      <td>42</td>\n",
       "      <td>42</td>\n",
       "      <td>52</td>\n",
       "      <td>2</td>\n",
       "      <td>...</td>\n",
       "      <td>52</td>\n",
       "      <td>52</td>\n",
       "      <td>52</td>\n",
       "      <td>52</td>\n",
       "      <td>52</td>\n",
       "      <td>52</td>\n",
       "      <td>52</td>\n",
       "      <td>52</td>\n",
       "      <td>52</td>\n",
       "      <td>52</td>\n",
       "    </tr>\n",
       "    <tr>\n",
       "      <th>nan</th>\n",
       "      <td>127</td>\n",
       "      <td>127</td>\n",
       "      <td>127</td>\n",
       "      <td>127</td>\n",
       "      <td>127</td>\n",
       "      <td>127</td>\n",
       "      <td>0</td>\n",
       "      <td>0</td>\n",
       "      <td>127</td>\n",
       "      <td>7</td>\n",
       "      <td>...</td>\n",
       "      <td>127</td>\n",
       "      <td>127</td>\n",
       "      <td>127</td>\n",
       "      <td>127</td>\n",
       "      <td>127</td>\n",
       "      <td>127</td>\n",
       "      <td>127</td>\n",
       "      <td>127</td>\n",
       "      <td>127</td>\n",
       "      <td>127</td>\n",
       "    </tr>\n",
       "  </tbody>\n",
       "</table>\n",
       "<p>9 rows × 43 columns</p>\n",
       "</div>"
      ],
      "text/plain": [
       "                   Source  TimeFinished  \\\n",
       "income_group                              \n",
       "100,000-124,999        25            25   \n",
       "125,000-149,999        22            22   \n",
       "25,000-49,999          50            50   \n",
       "50,000-74,999          33            33   \n",
       "75,000-99,999          46            46   \n",
       "<$25,000               58            58   \n",
       ">$150,000              95            95   \n",
       "Prefer not to say      52            52   \n",
       "nan                   127           127   \n",
       "\n",
       "                    On a scale of 1 to 10, how reasonable do you think the public reaction is to COVID-19 now? (1 is under-reacting and 10 is overreacting)  \\\n",
       "income_group                                                                                                                                                  \n",
       "100,000-124,999                                                   25                                                                                          \n",
       "125,000-149,999                                                   22                                                                                          \n",
       "25,000-49,999                                                     50                                                                                          \n",
       "50,000-74,999                                                     33                                                                                          \n",
       "75,000-99,999                                                     46                                                                                          \n",
       "<$25,000                                                          58                                                                                          \n",
       ">$150,000                                                         95                                                                                          \n",
       "Prefer not to say                                                 52                                                                                          \n",
       "nan                                                              127                                                                                          \n",
       "\n",
       "                   On a scale of 1 to 10, how much do you trust the government to respond to COVID-19 effectively? (1 is strongly distrust and 10 is strongly trust)  \\\n",
       "income_group                                                                                                                                                           \n",
       "100,000-124,999                                                   25                                                                                                   \n",
       "125,000-149,999                                                   22                                                                                                   \n",
       "25,000-49,999                                                     50                                                                                                   \n",
       "50,000-74,999                                                     33                                                                                                   \n",
       "75,000-99,999                                                     46                                                                                                   \n",
       "<$25,000                                                          58                                                                                                   \n",
       ">$150,000                                                         95                                                                                                   \n",
       "Prefer not to say                                                 52                                                                                                   \n",
       "nan                                                              127                                                                                                   \n",
       "\n",
       "                    \"COVID-19 has led me to drastically change my daily routines and the way I spend my day.\" How much do you agree or disagree with this statement?  \\\n",
       "income_group                                                                                                                                                           \n",
       "100,000-124,999                                                   25                                                                                                   \n",
       "125,000-149,999                                                   22                                                                                                   \n",
       "25,000-49,999                                                     50                                                                                                   \n",
       "50,000-74,999                                                     33                                                                                                   \n",
       "75,000-99,999                                                     46                                                                                                   \n",
       "<$25,000                                                          58                                                                                                   \n",
       ">$150,000                                                         95                                                                                                   \n",
       "Prefer not to say                                                 52                                                                                                   \n",
       "nan                                                              127                                                                                                   \n",
       "\n",
       "                    How many WEEKS do you think it'll take before your daily life returns to normal (like before COVID-19)?   \\\n",
       "income_group                                                                                                                   \n",
       "100,000-124,999                                                   25                                                           \n",
       "125,000-149,999                                                   22                                                           \n",
       "25,000-49,999                                                     50                                                           \n",
       "50,000-74,999                                                     33                                                           \n",
       "75,000-99,999                                                     46                                                           \n",
       "<$25,000                                                          58                                                           \n",
       ">$150,000                                                         95                                                           \n",
       "Prefer not to say                                                 52                                                           \n",
       "nan                                                              127                                                           \n",
       "\n",
       "                    How are you doing financially today, compared to a year ago?  \\\n",
       "income_group                                                                       \n",
       "100,000-124,999                                                   21               \n",
       "125,000-149,999                                                   18               \n",
       "25,000-49,999                                                     27               \n",
       "50,000-74,999                                                     21               \n",
       "75,000-99,999                                                     27               \n",
       "<$25,000                                                          34               \n",
       ">$150,000                                                         91               \n",
       "Prefer not to say                                                 42               \n",
       "nan                                                                0               \n",
       "\n",
       "                    Over the past week, have you been continually worried or anxious about a number of events or activities in your daily life?  \\\n",
       "income_group                                                                                                                                      \n",
       "100,000-124,999                                                   21                                                                              \n",
       "125,000-149,999                                                   18                                                                              \n",
       "25,000-49,999                                                     27                                                                              \n",
       "50,000-74,999                                                     21                                                                              \n",
       "75,000-99,999                                                     27                                                                              \n",
       "<$25,000                                                          34                                                                              \n",
       ">$150,000                                                         91                                                                              \n",
       "Prefer not to say                                                 42                                                                              \n",
       "nan                                                                0                                                                              \n",
       "\n",
       "                   In the past 3 days, did you work from home (WFH)?  \\\n",
       "income_group                                                           \n",
       "100,000-124,999                                                   25   \n",
       "125,000-149,999                                                   22   \n",
       "25,000-49,999                                                     50   \n",
       "50,000-74,999                                                     33   \n",
       "75,000-99,999                                                     46   \n",
       "<$25,000                                                          58   \n",
       ">$150,000                                                         95   \n",
       "Prefer not to say                                                 52   \n",
       "nan                                                              127   \n",
       "\n",
       "                    In the past 48 hours, I... (check all that apply)  ...  \\\n",
       "income_group                                                           ...   \n",
       "100,000-124,999                                                    1   ...   \n",
       "125,000-149,999                                                    0   ...   \n",
       "25,000-49,999                                                      5   ...   \n",
       "50,000-74,999                                                      3   ...   \n",
       "75,000-99,999                                                      4   ...   \n",
       "<$25,000                                                           4   ...   \n",
       ">$150,000                                                          1   ...   \n",
       "Prefer not to say                                                  2   ...   \n",
       "nan                                                                7   ...   \n",
       "\n",
       "                   Datetime  Day  Age  Age Groups  Female  Male  Student  \\\n",
       "income_group                                                               \n",
       "100,000-124,999          25   25   25          25      25    25       25   \n",
       "125,000-149,999          22   22   22          22      22    22       22   \n",
       "25,000-49,999            50   50   50          50      50    50       50   \n",
       "50,000-74,999            33   33   33          33      33    33       33   \n",
       "75,000-99,999            46   46   46          46      46    46       46   \n",
       "<$25,000                 58   58   58          58      58    58       58   \n",
       ">$150,000                95   95   95          95      95    95       95   \n",
       "Prefer not to say        52   52   52          52      52    52       52   \n",
       "nan                     127  127  127         127     127   127      127   \n",
       "\n",
       "                   Retired  Employed  Not Employed  \n",
       "income_group                                        \n",
       "100,000-124,999         25        25            25  \n",
       "125,000-149,999         22        22            22  \n",
       "25,000-49,999           50        50            50  \n",
       "50,000-74,999           33        33            33  \n",
       "75,000-99,999           46        46            46  \n",
       "<$25,000                58        58            58  \n",
       ">$150,000               95        95            95  \n",
       "Prefer not to say       52        52            52  \n",
       "nan                    127       127           127  \n",
       "\n",
       "[9 rows x 43 columns]"
      ]
     },
     "execution_count": 1037,
     "metadata": {},
     "output_type": "execute_result"
    }
   ],
   "source": [
    "incomelist = data['What is your annual household income?']\n",
    "incomelist2 = []\n",
    "for x in incomelist:\n",
    "    x1 = str(x)\n",
    "    x1 = x1.replace('Less than $25,000','<$25,000')\n",
    "    x1 = x1.replace('Between $25,000 and $49,999','25,000-49,999')\n",
    "    x1 = x1.replace('Between $50,000 and $74,999','50,000-74,999')\n",
    "    x1 = x1.replace('Between $75,000 and $99,999','75,000-99,999')\n",
    "    x1 = x1.replace('Between $100,000 and $124,999','100,000-124,999')\n",
    "    x1 = x1.replace('Between $125,000 and $149,999','125,000-149,999')\n",
    "    x1 = x1.replace('Between $150,000 and $199,000','>$150,000')\n",
    "    x1 = x1.replace('More than $200,000','>$150,000')\n",
    "    x1 = x1.replace('high_iii','>$150,000')\n",
    "    x1 = x1.replace('high_ii','125,000-149,999')\n",
    "    x1 = x1.replace('high_i','100,000-124,999')\n",
    "    x1 = x1.replace('middle_ii','75,000-99,999')\n",
    "    x1 = x1.replace('middle_i','50,000-74,999')\n",
    "    x1 = x1.replace('lower_ii','25,000-49,999')\n",
    "    x1 = x1.replace('lower_i','<$25,000')\n",
    "    x1 = x1.replace('prefer_not_to_say','Prefer not to say')\n",
    "    incomelist2.append(x1)\n",
    "data['income_group'] = incomelist2\n",
    "data.groupby('income_group').count()"
   ]
  },
  {
   "cell_type": "code",
   "execution_count": null,
   "metadata": {},
   "outputs": [],
   "source": []
  }
 ],
 "metadata": {
  "kernelspec": {
   "display_name": "Python 3",
   "language": "python",
   "name": "python3"
  },
  "language_info": {
   "codemirror_mode": {
    "name": "ipython",
    "version": 3
   },
   "file_extension": ".py",
   "mimetype": "text/x-python",
   "name": "python",
   "nbconvert_exporter": "python",
   "pygments_lexer": "ipython3",
   "version": "3.7.3"
  }
 },
 "nbformat": 4,
 "nbformat_minor": 2
}
