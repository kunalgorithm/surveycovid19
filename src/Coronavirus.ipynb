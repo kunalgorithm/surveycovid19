{
 "cells": [
  {
   "cell_type": "markdown",
   "metadata": {},
   "source": [
    "# Coronovirus "
   ]
  },
  {
   "cell_type": "markdown",
   "metadata": {},
   "source": [
    "## Geographic Plotting"
   ]
  },
  {
   "cell_type": "code",
   "execution_count": 7,
   "metadata": {},
   "outputs": [],
   "source": [
    "import pandas as pd\n",
    "import matplotlib.pyplot as plt\n",
    "import plotly.graph_objs as go \n",
    "from plotly.offline import download_plotlyjs, init_notebook_mode, plot, iplot\n",
    "%matplotlib inline"
   ]
  },
  {
   "cell_type": "code",
   "execution_count": 280,
   "metadata": {},
   "outputs": [
    {
     "data": {
      "text/html": [
       "        <script type=\"text/javascript\">\n",
       "        window.PlotlyConfig = {MathJaxConfig: 'local'};\n",
       "        if (window.MathJax) {MathJax.Hub.Config({SVG: {font: \"STIX-Web\"}});}\n",
       "        if (typeof require !== 'undefined') {\n",
       "        require.undef(\"plotly\");\n",
       "        requirejs.config({\n",
       "            paths: {\n",
       "                'plotly': ['https://cdn.plot.ly/plotly-latest.min']\n",
       "            }\n",
       "        });\n",
       "        require(['plotly'], function(Plotly) {\n",
       "            window._Plotly = Plotly;\n",
       "        });\n",
       "        }\n",
       "        </script>\n",
       "        "
      ]
     },
     "metadata": {},
     "output_type": "display_data"
    }
   ],
   "source": [
    "init_notebook_mode(connected=True) "
   ]
  },
  {
   "cell_type": "code",
   "execution_count": 281,
   "metadata": {},
   "outputs": [],
   "source": [
    "cv = pd.read_html(\"https://www.worldometers.info/coronavirus/\")\n",
    "codes = pd.read_html('https://www.iban.com/country-codes')"
   ]
  },
  {
   "cell_type": "code",
   "execution_count": 282,
   "metadata": {},
   "outputs": [],
   "source": [
    "cvdf = cv[0]\n",
    "cvdf = cvdf[:117]\n",
    "codes = codes[0]"
   ]
  },
  {
   "cell_type": "code",
   "execution_count": 284,
   "metadata": {},
   "outputs": [],
   "source": [
    "codes['Country'] = codes['Country'].replace('Netherlands (the)','Netherlands')\n",
    "codes['Country'] = codes['Country'].replace('Philippines (the)','Philippines')\n",
    "codes['Country'] = codes['Country'].replace('Dominican Republic (the)','Dominican Republic')\n",
    "codes['Country'] = codes['Country'].replace('Holy See (the)','Vatican City')\n",
    "codes['Country'] = codes['Country'].replace('Saint Barthélemy','St. Barth')\n",
    "codes['Country'] = codes['Country'].replace('Faroe Islands (the)','Faeroe Islands')\n",
    "codes['Country'] = codes['Country'].replace('Viet Nam','Vietnam')\n",
    "codes['Country'] = codes['Country'].replace('Cayman Islands (the)','Channel Islands')\n",
    "codes['Country'] = codes['Country'].replace('Saint Martin (French part)','Saint Martin')\n",
    "codes['Country'] = codes['Country'].replace('Korea (the Republic of)','S. Korea')\n",
    "codes['Country'] = codes['Country'].replace('United States of America (the)','USA')\n",
    "codes['Country'] = codes['Country'].replace('United Kingdom of Great Britain and Northern Ireland (the)','UK')\n",
    "codes['Country'] = codes['Country'].replace('Taiwan (Province of China)','Taiwan')\n",
    "codes['Country'] = codes['Country'].replace('Iran (Islamic Republic of)','Iran')\n",
    "codes['Country'] = codes['Country'].replace('United Arab Emirates (the)','UAE')\n",
    "codes['Country'] = codes['Country'].replace('Viet Nam','Vietnam')\n",
    "codes['Country'] = codes['Country'].replace('Moldova (the Republic of)','Moldova')\n",
    "codes['Country'] = codes['Country'].replace('Congo (the Democratic Republic of the)','DRC')\n",
    "codes['Country'] = codes['Country'].replace('Russian Federation (the)','Russia')\n",
    "codes['Country'] = codes['Country'].replace('Palestine, State of','Palestine')\n",
    "codes['Country'] = codes['Country'].replace('Republic of North Macedonia','North Macedonia')\n",
    "codes['Country'] = codes['Country'].replace('Brunei Darussalam','Brunei')"
   ]
  },
  {
   "cell_type": "code",
   "execution_count": 285,
   "metadata": {},
   "outputs": [],
   "source": [
    "codes = codes.set_index('Country')\n",
    "cvdf = cvdf.set_index('Country,Other')\n",
    "cvdf = cvdf.join(codes)\n",
    "cvdf = cvdf.reset_index()\n",
    "cvdf['Country'] = cvdf.copy()['Country,Other']"
   ]
  },
  {
   "cell_type": "code",
   "execution_count": 292,
   "metadata": {},
   "outputs": [],
   "source": [
    "data = dict(\n",
    "        type = 'choropleth',\n",
    "        locations = cvdf['Alpha-3 code'],\n",
    "        z = cvdf.iloc[:,6],\n",
    "        text = cvdf['Country'],\n",
    "        colorscale = 'reds',\n",
    "        colorbar = {'title' : 'Active COVID-19 Cases'},\n",
    "      ) "
   ]
  },
  {
   "cell_type": "code",
   "execution_count": 293,
   "metadata": {},
   "outputs": [],
   "source": [
    "layout = dict(\n",
    "    title = 'Worldwide Coronovirus Cases',\n",
    "    geo = dict(\n",
    "        showframe = False,\n",
    "        projection = {'type':'robinson'}\n",
    "    )\n",
    ")"
   ]
  },
  {
   "cell_type": "code",
   "execution_count": 294,
   "metadata": {},
   "outputs": [
    {
     "data": {
      "application/vnd.plotly.v1+json": {
       "config": {
        "linkText": "Export to plot.ly",
        "plotlyServerURL": "https://plot.ly",
        "showLink": false
       },
       "data": [
        {
         "colorbar": {
          "title": {
           "text": "Active COVID-19 Cases"
          }
         },
         "colorscale": [
          [
           0,
           "rgb(255,245,240)"
          ],
          [
           0.125,
           "rgb(254,224,210)"
          ],
          [
           0.25,
           "rgb(252,187,161)"
          ],
          [
           0.375,
           "rgb(252,146,114)"
          ],
          [
           0.5,
           "rgb(251,106,74)"
          ],
          [
           0.625,
           "rgb(239,59,44)"
          ],
          [
           0.75,
           "rgb(203,24,29)"
          ],
          [
           0.875,
           "rgb(165,15,21)"
          ],
          [
           1,
           "rgb(103,0,13)"
          ]
         ],
         "locations": [
          "CHN",
          "ITA",
          "USA",
          "ESP",
          "DEU",
          "IRN",
          "FRA",
          "CHE",
          "GBR",
          "KOR",
          "NLD",
          "AUT",
          "BEL",
          "CAN",
          "PRT",
          "NOR",
          "SWE",
          "AUS",
          "ISR",
          "BRA",
          "TUR",
          "MYS",
          "CZE",
          "DNK",
          "IRL",
          "LUX",
          "JPN",
          "ECU",
          "CHL",
          "PAK",
          "POL",
          "THA",
          "ROU",
          "SAU",
          "FIN",
          "ZAF",
          "IDN",
          "GRC",
          "RUS",
          "ISL",
          "IND",
          null,
          "PHL",
          "SGP",
          "SVN",
          "PAN",
          "EST",
          "QAT",
          "ARG",
          "HRV",
          "DOM",
          "PER",
          "MEX",
          "COL",
          "SRB",
          "BHR",
          "EGY",
          "HKG",
          "IRQ",
          "LBN",
          "DZA",
          "ARE",
          "LTU",
          "ARM",
          "NZL",
          "MAR",
          "BGR",
          "HUN",
          "TWN",
          "LVA",
          "SVK",
          "AND",
          "URY",
          "SMR",
          "KWT",
          "MKD",
          "CRI",
          "TUN",
          "BIH",
          "MDA",
          "ALB",
          "JOR",
          "UKR",
          "VNM",
          "BFA",
          "FRO",
          "REU",
          "MLT",
          "GHA",
          "CYP",
          "AZE",
          "BRN",
          "KAZ",
          "OMN",
          "LKA",
          null,
          "SEN",
          "KHM",
          "AFG",
          "BLR",
          "PSE",
          "MUS",
          null,
          "GEO",
          "CMR",
          "GLP",
          "CUB",
          "MNE",
          "MTQ",
          "UZB",
          "TTO",
          "HND",
          "COD",
          "NGA",
          "LIE",
          "CYM",
          "BGD"
         ],
         "text": [
          "China",
          "Italy",
          "USA",
          "Spain",
          "Germany",
          "Iran",
          "France",
          "Switzerland",
          "UK",
          "S. Korea",
          "Netherlands",
          "Austria",
          "Belgium",
          "Canada",
          "Portugal",
          "Norway",
          "Sweden",
          "Australia",
          "Israel",
          "Brazil",
          "Turkey",
          "Malaysia",
          "Czechia",
          "Denmark",
          "Ireland",
          "Luxembourg",
          "Japan",
          "Ecuador",
          "Chile",
          "Pakistan",
          "Poland",
          "Thailand",
          "Romania",
          "Saudi Arabia",
          "Finland",
          "South Africa",
          "Indonesia",
          "Greece",
          "Russia",
          "Iceland",
          "India",
          "Diamond Princess",
          "Philippines",
          "Singapore",
          "Slovenia",
          "Panama",
          "Estonia",
          "Qatar",
          "Argentina",
          "Croatia",
          "Dominican Republic",
          "Peru",
          "Mexico",
          "Colombia",
          "Serbia",
          "Bahrain",
          "Egypt",
          "Hong Kong",
          "Iraq",
          "Lebanon",
          "Algeria",
          "UAE",
          "Lithuania",
          "Armenia",
          "New Zealand",
          "Morocco",
          "Bulgaria",
          "Hungary",
          "Taiwan",
          "Latvia",
          "Slovakia",
          "Andorra",
          "Uruguay",
          "San Marino",
          "Kuwait",
          "North Macedonia",
          "Costa Rica",
          "Tunisia",
          "Bosnia and Herzegovina",
          "Moldova",
          "Albania",
          "Jordan",
          "Ukraine",
          "Vietnam",
          "Burkina Faso",
          "Faeroe Islands",
          "Réunion",
          "Malta",
          "Ghana",
          "Cyprus",
          "Azerbaijan",
          "Brunei",
          "Kazakhstan",
          "Oman",
          "Sri Lanka",
          "Venezuela",
          "Senegal",
          "Cambodia",
          "Afghanistan",
          "Belarus",
          "Palestine",
          "Mauritius",
          "Ivory Coast",
          "Georgia",
          "Cameroon",
          "Guadeloupe",
          "Cuba",
          "Montenegro",
          "Martinique",
          "Uzbekistan",
          "Trinidad and Tobago",
          "Honduras",
          "DRC",
          "Nigeria",
          "Liechtenstein",
          "Channel Islands",
          "Bangladesh"
         ],
         "type": "choropleth",
         "z": [
          3947,
          62013,
          72702,
          45037,
          37734,
          16715,
          20002,
          11390,
          9237,
          4966,
          6994,
          6542,
          5340,
          3358,
          3441,
          3294,
          2753,
          2623,
          2590,
          2542,
          2348,
          1793,
          1906,
          1835,
          1550,
          1438,
          993,
          1345,
          1280,
          1149,
          1142,
          953,
          917,
          976,
          943,
          915,
          780,
          830,
          799,
          732,
          658,
          105,
          634,
          509,
          546,
          548,
          529,
          496,
          442,
          471,
          475,
          470,
          465,
          458,
          435,
          249,
          340,
          339,
          241,
          339,
          313,
          279,
          285,
          271,
          256,
          257,
          253,
          223,
          221,
          243,
          224,
          220,
          217,
          183,
          159,
          195,
          197,
          192,
          184,
          174,
          151,
          171,
          156,
          133,
          138,
          93,
          134,
          132,
          127,
          125,
          104,
          109,
          108,
          86,
          99,
          91,
          96,
          86,
          90,
          57,
          66,
          79,
          77,
          69,
          72,
          72,
          65,
          66,
          65,
          65,
          60,
          52,
          48,
          48,
          51,
          45,
          28
         ]
        }
       ],
       "layout": {
        "geo": {
         "projection": {
          "type": "robinson"
         },
         "showframe": false
        },
        "template": {
         "data": {
          "bar": [
           {
            "error_x": {
             "color": "#2a3f5f"
            },
            "error_y": {
             "color": "#2a3f5f"
            },
            "marker": {
             "line": {
              "color": "#E5ECF6",
              "width": 0.5
             }
            },
            "type": "bar"
           }
          ],
          "barpolar": [
           {
            "marker": {
             "line": {
              "color": "#E5ECF6",
              "width": 0.5
             }
            },
            "type": "barpolar"
           }
          ],
          "carpet": [
           {
            "aaxis": {
             "endlinecolor": "#2a3f5f",
             "gridcolor": "white",
             "linecolor": "white",
             "minorgridcolor": "white",
             "startlinecolor": "#2a3f5f"
            },
            "baxis": {
             "endlinecolor": "#2a3f5f",
             "gridcolor": "white",
             "linecolor": "white",
             "minorgridcolor": "white",
             "startlinecolor": "#2a3f5f"
            },
            "type": "carpet"
           }
          ],
          "choropleth": [
           {
            "colorbar": {
             "outlinewidth": 0,
             "ticks": ""
            },
            "type": "choropleth"
           }
          ],
          "contour": [
           {
            "colorbar": {
             "outlinewidth": 0,
             "ticks": ""
            },
            "colorscale": [
             [
              0,
              "#0d0887"
             ],
             [
              0.1111111111111111,
              "#46039f"
             ],
             [
              0.2222222222222222,
              "#7201a8"
             ],
             [
              0.3333333333333333,
              "#9c179e"
             ],
             [
              0.4444444444444444,
              "#bd3786"
             ],
             [
              0.5555555555555556,
              "#d8576b"
             ],
             [
              0.6666666666666666,
              "#ed7953"
             ],
             [
              0.7777777777777778,
              "#fb9f3a"
             ],
             [
              0.8888888888888888,
              "#fdca26"
             ],
             [
              1,
              "#f0f921"
             ]
            ],
            "type": "contour"
           }
          ],
          "contourcarpet": [
           {
            "colorbar": {
             "outlinewidth": 0,
             "ticks": ""
            },
            "type": "contourcarpet"
           }
          ],
          "heatmap": [
           {
            "colorbar": {
             "outlinewidth": 0,
             "ticks": ""
            },
            "colorscale": [
             [
              0,
              "#0d0887"
             ],
             [
              0.1111111111111111,
              "#46039f"
             ],
             [
              0.2222222222222222,
              "#7201a8"
             ],
             [
              0.3333333333333333,
              "#9c179e"
             ],
             [
              0.4444444444444444,
              "#bd3786"
             ],
             [
              0.5555555555555556,
              "#d8576b"
             ],
             [
              0.6666666666666666,
              "#ed7953"
             ],
             [
              0.7777777777777778,
              "#fb9f3a"
             ],
             [
              0.8888888888888888,
              "#fdca26"
             ],
             [
              1,
              "#f0f921"
             ]
            ],
            "type": "heatmap"
           }
          ],
          "heatmapgl": [
           {
            "colorbar": {
             "outlinewidth": 0,
             "ticks": ""
            },
            "colorscale": [
             [
              0,
              "#0d0887"
             ],
             [
              0.1111111111111111,
              "#46039f"
             ],
             [
              0.2222222222222222,
              "#7201a8"
             ],
             [
              0.3333333333333333,
              "#9c179e"
             ],
             [
              0.4444444444444444,
              "#bd3786"
             ],
             [
              0.5555555555555556,
              "#d8576b"
             ],
             [
              0.6666666666666666,
              "#ed7953"
             ],
             [
              0.7777777777777778,
              "#fb9f3a"
             ],
             [
              0.8888888888888888,
              "#fdca26"
             ],
             [
              1,
              "#f0f921"
             ]
            ],
            "type": "heatmapgl"
           }
          ],
          "histogram": [
           {
            "marker": {
             "colorbar": {
              "outlinewidth": 0,
              "ticks": ""
             }
            },
            "type": "histogram"
           }
          ],
          "histogram2d": [
           {
            "colorbar": {
             "outlinewidth": 0,
             "ticks": ""
            },
            "colorscale": [
             [
              0,
              "#0d0887"
             ],
             [
              0.1111111111111111,
              "#46039f"
             ],
             [
              0.2222222222222222,
              "#7201a8"
             ],
             [
              0.3333333333333333,
              "#9c179e"
             ],
             [
              0.4444444444444444,
              "#bd3786"
             ],
             [
              0.5555555555555556,
              "#d8576b"
             ],
             [
              0.6666666666666666,
              "#ed7953"
             ],
             [
              0.7777777777777778,
              "#fb9f3a"
             ],
             [
              0.8888888888888888,
              "#fdca26"
             ],
             [
              1,
              "#f0f921"
             ]
            ],
            "type": "histogram2d"
           }
          ],
          "histogram2dcontour": [
           {
            "colorbar": {
             "outlinewidth": 0,
             "ticks": ""
            },
            "colorscale": [
             [
              0,
              "#0d0887"
             ],
             [
              0.1111111111111111,
              "#46039f"
             ],
             [
              0.2222222222222222,
              "#7201a8"
             ],
             [
              0.3333333333333333,
              "#9c179e"
             ],
             [
              0.4444444444444444,
              "#bd3786"
             ],
             [
              0.5555555555555556,
              "#d8576b"
             ],
             [
              0.6666666666666666,
              "#ed7953"
             ],
             [
              0.7777777777777778,
              "#fb9f3a"
             ],
             [
              0.8888888888888888,
              "#fdca26"
             ],
             [
              1,
              "#f0f921"
             ]
            ],
            "type": "histogram2dcontour"
           }
          ],
          "mesh3d": [
           {
            "colorbar": {
             "outlinewidth": 0,
             "ticks": ""
            },
            "type": "mesh3d"
           }
          ],
          "parcoords": [
           {
            "line": {
             "colorbar": {
              "outlinewidth": 0,
              "ticks": ""
             }
            },
            "type": "parcoords"
           }
          ],
          "pie": [
           {
            "automargin": true,
            "type": "pie"
           }
          ],
          "scatter": [
           {
            "marker": {
             "colorbar": {
              "outlinewidth": 0,
              "ticks": ""
             }
            },
            "type": "scatter"
           }
          ],
          "scatter3d": [
           {
            "line": {
             "colorbar": {
              "outlinewidth": 0,
              "ticks": ""
             }
            },
            "marker": {
             "colorbar": {
              "outlinewidth": 0,
              "ticks": ""
             }
            },
            "type": "scatter3d"
           }
          ],
          "scattercarpet": [
           {
            "marker": {
             "colorbar": {
              "outlinewidth": 0,
              "ticks": ""
             }
            },
            "type": "scattercarpet"
           }
          ],
          "scattergeo": [
           {
            "marker": {
             "colorbar": {
              "outlinewidth": 0,
              "ticks": ""
             }
            },
            "type": "scattergeo"
           }
          ],
          "scattergl": [
           {
            "marker": {
             "colorbar": {
              "outlinewidth": 0,
              "ticks": ""
             }
            },
            "type": "scattergl"
           }
          ],
          "scattermapbox": [
           {
            "marker": {
             "colorbar": {
              "outlinewidth": 0,
              "ticks": ""
             }
            },
            "type": "scattermapbox"
           }
          ],
          "scatterpolar": [
           {
            "marker": {
             "colorbar": {
              "outlinewidth": 0,
              "ticks": ""
             }
            },
            "type": "scatterpolar"
           }
          ],
          "scatterpolargl": [
           {
            "marker": {
             "colorbar": {
              "outlinewidth": 0,
              "ticks": ""
             }
            },
            "type": "scatterpolargl"
           }
          ],
          "scatterternary": [
           {
            "marker": {
             "colorbar": {
              "outlinewidth": 0,
              "ticks": ""
             }
            },
            "type": "scatterternary"
           }
          ],
          "surface": [
           {
            "colorbar": {
             "outlinewidth": 0,
             "ticks": ""
            },
            "colorscale": [
             [
              0,
              "#0d0887"
             ],
             [
              0.1111111111111111,
              "#46039f"
             ],
             [
              0.2222222222222222,
              "#7201a8"
             ],
             [
              0.3333333333333333,
              "#9c179e"
             ],
             [
              0.4444444444444444,
              "#bd3786"
             ],
             [
              0.5555555555555556,
              "#d8576b"
             ],
             [
              0.6666666666666666,
              "#ed7953"
             ],
             [
              0.7777777777777778,
              "#fb9f3a"
             ],
             [
              0.8888888888888888,
              "#fdca26"
             ],
             [
              1,
              "#f0f921"
             ]
            ],
            "type": "surface"
           }
          ],
          "table": [
           {
            "cells": {
             "fill": {
              "color": "#EBF0F8"
             },
             "line": {
              "color": "white"
             }
            },
            "header": {
             "fill": {
              "color": "#C8D4E3"
             },
             "line": {
              "color": "white"
             }
            },
            "type": "table"
           }
          ]
         },
         "layout": {
          "annotationdefaults": {
           "arrowcolor": "#2a3f5f",
           "arrowhead": 0,
           "arrowwidth": 1
          },
          "coloraxis": {
           "colorbar": {
            "outlinewidth": 0,
            "ticks": ""
           }
          },
          "colorscale": {
           "diverging": [
            [
             0,
             "#8e0152"
            ],
            [
             0.1,
             "#c51b7d"
            ],
            [
             0.2,
             "#de77ae"
            ],
            [
             0.3,
             "#f1b6da"
            ],
            [
             0.4,
             "#fde0ef"
            ],
            [
             0.5,
             "#f7f7f7"
            ],
            [
             0.6,
             "#e6f5d0"
            ],
            [
             0.7,
             "#b8e186"
            ],
            [
             0.8,
             "#7fbc41"
            ],
            [
             0.9,
             "#4d9221"
            ],
            [
             1,
             "#276419"
            ]
           ],
           "sequential": [
            [
             0,
             "#0d0887"
            ],
            [
             0.1111111111111111,
             "#46039f"
            ],
            [
             0.2222222222222222,
             "#7201a8"
            ],
            [
             0.3333333333333333,
             "#9c179e"
            ],
            [
             0.4444444444444444,
             "#bd3786"
            ],
            [
             0.5555555555555556,
             "#d8576b"
            ],
            [
             0.6666666666666666,
             "#ed7953"
            ],
            [
             0.7777777777777778,
             "#fb9f3a"
            ],
            [
             0.8888888888888888,
             "#fdca26"
            ],
            [
             1,
             "#f0f921"
            ]
           ],
           "sequentialminus": [
            [
             0,
             "#0d0887"
            ],
            [
             0.1111111111111111,
             "#46039f"
            ],
            [
             0.2222222222222222,
             "#7201a8"
            ],
            [
             0.3333333333333333,
             "#9c179e"
            ],
            [
             0.4444444444444444,
             "#bd3786"
            ],
            [
             0.5555555555555556,
             "#d8576b"
            ],
            [
             0.6666666666666666,
             "#ed7953"
            ],
            [
             0.7777777777777778,
             "#fb9f3a"
            ],
            [
             0.8888888888888888,
             "#fdca26"
            ],
            [
             1,
             "#f0f921"
            ]
           ]
          },
          "colorway": [
           "#636efa",
           "#EF553B",
           "#00cc96",
           "#ab63fa",
           "#FFA15A",
           "#19d3f3",
           "#FF6692",
           "#B6E880",
           "#FF97FF",
           "#FECB52"
          ],
          "font": {
           "color": "#2a3f5f"
          },
          "geo": {
           "bgcolor": "white",
           "lakecolor": "white",
           "landcolor": "#E5ECF6",
           "showlakes": true,
           "showland": true,
           "subunitcolor": "white"
          },
          "hoverlabel": {
           "align": "left"
          },
          "hovermode": "closest",
          "mapbox": {
           "style": "light"
          },
          "paper_bgcolor": "white",
          "plot_bgcolor": "#E5ECF6",
          "polar": {
           "angularaxis": {
            "gridcolor": "white",
            "linecolor": "white",
            "ticks": ""
           },
           "bgcolor": "#E5ECF6",
           "radialaxis": {
            "gridcolor": "white",
            "linecolor": "white",
            "ticks": ""
           }
          },
          "scene": {
           "xaxis": {
            "backgroundcolor": "#E5ECF6",
            "gridcolor": "white",
            "gridwidth": 2,
            "linecolor": "white",
            "showbackground": true,
            "ticks": "",
            "zerolinecolor": "white"
           },
           "yaxis": {
            "backgroundcolor": "#E5ECF6",
            "gridcolor": "white",
            "gridwidth": 2,
            "linecolor": "white",
            "showbackground": true,
            "ticks": "",
            "zerolinecolor": "white"
           },
           "zaxis": {
            "backgroundcolor": "#E5ECF6",
            "gridcolor": "white",
            "gridwidth": 2,
            "linecolor": "white",
            "showbackground": true,
            "ticks": "",
            "zerolinecolor": "white"
           }
          },
          "shapedefaults": {
           "line": {
            "color": "#2a3f5f"
           }
          },
          "ternary": {
           "aaxis": {
            "gridcolor": "white",
            "linecolor": "white",
            "ticks": ""
           },
           "baxis": {
            "gridcolor": "white",
            "linecolor": "white",
            "ticks": ""
           },
           "bgcolor": "#E5ECF6",
           "caxis": {
            "gridcolor": "white",
            "linecolor": "white",
            "ticks": ""
           }
          },
          "title": {
           "x": 0.05
          },
          "xaxis": {
           "automargin": true,
           "gridcolor": "white",
           "linecolor": "white",
           "ticks": "",
           "title": {
            "standoff": 15
           },
           "zerolinecolor": "white",
           "zerolinewidth": 2
          },
          "yaxis": {
           "automargin": true,
           "gridcolor": "white",
           "linecolor": "white",
           "ticks": "",
           "title": {
            "standoff": 15
           },
           "zerolinecolor": "white",
           "zerolinewidth": 2
          }
         }
        },
        "title": {
         "text": "Worldwide Coronovirus Cases"
        }
       }
      },
      "text/html": [
       "<div>\n",
       "        \n",
       "        \n",
       "            <div id=\"02145205-5d18-404f-a4d7-c4e066a0b715\" class=\"plotly-graph-div\" style=\"height:525px; width:100%;\"></div>\n",
       "            <script type=\"text/javascript\">\n",
       "                require([\"plotly\"], function(Plotly) {\n",
       "                    window.PLOTLYENV=window.PLOTLYENV || {};\n",
       "                    \n",
       "                if (document.getElementById(\"02145205-5d18-404f-a4d7-c4e066a0b715\")) {\n",
       "                    Plotly.newPlot(\n",
       "                        '02145205-5d18-404f-a4d7-c4e066a0b715',\n",
       "                        [{\"colorbar\": {\"title\": {\"text\": \"Active COVID-19 Cases\"}}, \"colorscale\": [[0.0, \"rgb(255,245,240)\"], [0.125, \"rgb(254,224,210)\"], [0.25, \"rgb(252,187,161)\"], [0.375, \"rgb(252,146,114)\"], [0.5, \"rgb(251,106,74)\"], [0.625, \"rgb(239,59,44)\"], [0.75, \"rgb(203,24,29)\"], [0.875, \"rgb(165,15,21)\"], [1.0, \"rgb(103,0,13)\"]], \"locations\": [\"CHN\", \"ITA\", \"USA\", \"ESP\", \"DEU\", \"IRN\", \"FRA\", \"CHE\", \"GBR\", \"KOR\", \"NLD\", \"AUT\", \"BEL\", \"CAN\", \"PRT\", \"NOR\", \"SWE\", \"AUS\", \"ISR\", \"BRA\", \"TUR\", \"MYS\", \"CZE\", \"DNK\", \"IRL\", \"LUX\", \"JPN\", \"ECU\", \"CHL\", \"PAK\", \"POL\", \"THA\", \"ROU\", \"SAU\", \"FIN\", \"ZAF\", \"IDN\", \"GRC\", \"RUS\", \"ISL\", \"IND\", null, \"PHL\", \"SGP\", \"SVN\", \"PAN\", \"EST\", \"QAT\", \"ARG\", \"HRV\", \"DOM\", \"PER\", \"MEX\", \"COL\", \"SRB\", \"BHR\", \"EGY\", \"HKG\", \"IRQ\", \"LBN\", \"DZA\", \"ARE\", \"LTU\", \"ARM\", \"NZL\", \"MAR\", \"BGR\", \"HUN\", \"TWN\", \"LVA\", \"SVK\", \"AND\", \"URY\", \"SMR\", \"KWT\", \"MKD\", \"CRI\", \"TUN\", \"BIH\", \"MDA\", \"ALB\", \"JOR\", \"UKR\", \"VNM\", \"BFA\", \"FRO\", \"REU\", \"MLT\", \"GHA\", \"CYP\", \"AZE\", \"BRN\", \"KAZ\", \"OMN\", \"LKA\", null, \"SEN\", \"KHM\", \"AFG\", \"BLR\", \"PSE\", \"MUS\", null, \"GEO\", \"CMR\", \"GLP\", \"CUB\", \"MNE\", \"MTQ\", \"UZB\", \"TTO\", \"HND\", \"COD\", \"NGA\", \"LIE\", \"CYM\", \"BGD\"], \"text\": [\"China\", \"Italy\", \"USA\", \"Spain\", \"Germany\", \"Iran\", \"France\", \"Switzerland\", \"UK\", \"S. Korea\", \"Netherlands\", \"Austria\", \"Belgium\", \"Canada\", \"Portugal\", \"Norway\", \"Sweden\", \"Australia\", \"Israel\", \"Brazil\", \"Turkey\", \"Malaysia\", \"Czechia\", \"Denmark\", \"Ireland\", \"Luxembourg\", \"Japan\", \"Ecuador\", \"Chile\", \"Pakistan\", \"Poland\", \"Thailand\", \"Romania\", \"Saudi Arabia\", \"Finland\", \"South Africa\", \"Indonesia\", \"Greece\", \"Russia\", \"Iceland\", \"India\", \"Diamond Princess\", \"Philippines\", \"Singapore\", \"Slovenia\", \"Panama\", \"Estonia\", \"Qatar\", \"Argentina\", \"Croatia\", \"Dominican Republic\", \"Peru\", \"Mexico\", \"Colombia\", \"Serbia\", \"Bahrain\", \"Egypt\", \"Hong Kong\", \"Iraq\", \"Lebanon\", \"Algeria\", \"UAE\", \"Lithuania\", \"Armenia\", \"New Zealand\", \"Morocco\", \"Bulgaria\", \"Hungary\", \"Taiwan\", \"Latvia\", \"Slovakia\", \"Andorra\", \"Uruguay\", \"San Marino\", \"Kuwait\", \"North Macedonia\", \"Costa Rica\", \"Tunisia\", \"Bosnia and Herzegovina\", \"Moldova\", \"Albania\", \"Jordan\", \"Ukraine\", \"Vietnam\", \"Burkina Faso\", \"Faeroe Islands\", \"R\\u00e9union\", \"Malta\", \"Ghana\", \"Cyprus\", \"Azerbaijan\", \"Brunei\", \"Kazakhstan\", \"Oman\", \"Sri Lanka\", \"Venezuela\", \"Senegal\", \"Cambodia\", \"Afghanistan\", \"Belarus\", \"Palestine\", \"Mauritius\", \"Ivory Coast\", \"Georgia\", \"Cameroon\", \"Guadeloupe\", \"Cuba\", \"Montenegro\", \"Martinique\", \"Uzbekistan\", \"Trinidad and Tobago\", \"Honduras\", \"DRC\", \"Nigeria\", \"Liechtenstein\", \"Channel Islands\", \"Bangladesh\"], \"type\": \"choropleth\", \"z\": [3947, 62013, 72702, 45037, 37734, 16715, 20002, 11390, 9237, 4966, 6994, 6542, 5340, 3358, 3441, 3294, 2753, 2623, 2590, 2542, 2348, 1793, 1906, 1835, 1550, 1438, 993, 1345, 1280, 1149, 1142, 953, 917, 976, 943, 915, 780, 830, 799, 732, 658, 105, 634, 509, 546, 548, 529, 496, 442, 471, 475, 470, 465, 458, 435, 249, 340, 339, 241, 339, 313, 279, 285, 271, 256, 257, 253, 223, 221, 243, 224, 220, 217, 183, 159, 195, 197, 192, 184, 174, 151, 171, 156, 133, 138, 93, 134, 132, 127, 125, 104, 109, 108, 86, 99, 91, 96, 86, 90, 57, 66, 79, 77, 69, 72, 72, 65, 66, 65, 65, 60, 52, 48, 48, 51, 45, 28]}],\n",
       "                        {\"geo\": {\"projection\": {\"type\": \"robinson\"}, \"showframe\": false}, \"template\": {\"data\": {\"bar\": [{\"error_x\": {\"color\": \"#2a3f5f\"}, \"error_y\": {\"color\": \"#2a3f5f\"}, \"marker\": {\"line\": {\"color\": \"#E5ECF6\", \"width\": 0.5}}, \"type\": \"bar\"}], \"barpolar\": [{\"marker\": {\"line\": {\"color\": \"#E5ECF6\", \"width\": 0.5}}, \"type\": \"barpolar\"}], \"carpet\": [{\"aaxis\": {\"endlinecolor\": \"#2a3f5f\", \"gridcolor\": \"white\", \"linecolor\": \"white\", \"minorgridcolor\": \"white\", \"startlinecolor\": \"#2a3f5f\"}, \"baxis\": {\"endlinecolor\": \"#2a3f5f\", \"gridcolor\": \"white\", \"linecolor\": \"white\", \"minorgridcolor\": \"white\", \"startlinecolor\": \"#2a3f5f\"}, \"type\": \"carpet\"}], \"choropleth\": [{\"colorbar\": {\"outlinewidth\": 0, \"ticks\": \"\"}, \"type\": \"choropleth\"}], \"contour\": [{\"colorbar\": {\"outlinewidth\": 0, \"ticks\": \"\"}, \"colorscale\": [[0.0, \"#0d0887\"], [0.1111111111111111, \"#46039f\"], [0.2222222222222222, \"#7201a8\"], [0.3333333333333333, \"#9c179e\"], [0.4444444444444444, \"#bd3786\"], [0.5555555555555556, \"#d8576b\"], [0.6666666666666666, \"#ed7953\"], [0.7777777777777778, \"#fb9f3a\"], [0.8888888888888888, \"#fdca26\"], [1.0, \"#f0f921\"]], \"type\": \"contour\"}], \"contourcarpet\": [{\"colorbar\": {\"outlinewidth\": 0, \"ticks\": \"\"}, \"type\": \"contourcarpet\"}], \"heatmap\": [{\"colorbar\": {\"outlinewidth\": 0, \"ticks\": \"\"}, \"colorscale\": [[0.0, \"#0d0887\"], [0.1111111111111111, \"#46039f\"], [0.2222222222222222, \"#7201a8\"], [0.3333333333333333, \"#9c179e\"], [0.4444444444444444, \"#bd3786\"], [0.5555555555555556, \"#d8576b\"], [0.6666666666666666, \"#ed7953\"], [0.7777777777777778, \"#fb9f3a\"], [0.8888888888888888, \"#fdca26\"], [1.0, \"#f0f921\"]], \"type\": \"heatmap\"}], \"heatmapgl\": [{\"colorbar\": {\"outlinewidth\": 0, \"ticks\": \"\"}, \"colorscale\": [[0.0, \"#0d0887\"], [0.1111111111111111, \"#46039f\"], [0.2222222222222222, \"#7201a8\"], [0.3333333333333333, \"#9c179e\"], [0.4444444444444444, \"#bd3786\"], [0.5555555555555556, \"#d8576b\"], [0.6666666666666666, \"#ed7953\"], [0.7777777777777778, \"#fb9f3a\"], [0.8888888888888888, \"#fdca26\"], [1.0, \"#f0f921\"]], \"type\": \"heatmapgl\"}], \"histogram\": [{\"marker\": {\"colorbar\": {\"outlinewidth\": 0, \"ticks\": \"\"}}, \"type\": \"histogram\"}], \"histogram2d\": [{\"colorbar\": {\"outlinewidth\": 0, \"ticks\": \"\"}, \"colorscale\": [[0.0, \"#0d0887\"], [0.1111111111111111, \"#46039f\"], [0.2222222222222222, \"#7201a8\"], [0.3333333333333333, \"#9c179e\"], [0.4444444444444444, \"#bd3786\"], [0.5555555555555556, \"#d8576b\"], [0.6666666666666666, \"#ed7953\"], [0.7777777777777778, \"#fb9f3a\"], [0.8888888888888888, \"#fdca26\"], [1.0, \"#f0f921\"]], \"type\": \"histogram2d\"}], \"histogram2dcontour\": [{\"colorbar\": {\"outlinewidth\": 0, \"ticks\": \"\"}, \"colorscale\": [[0.0, \"#0d0887\"], [0.1111111111111111, \"#46039f\"], [0.2222222222222222, \"#7201a8\"], [0.3333333333333333, \"#9c179e\"], [0.4444444444444444, \"#bd3786\"], [0.5555555555555556, \"#d8576b\"], [0.6666666666666666, \"#ed7953\"], [0.7777777777777778, \"#fb9f3a\"], [0.8888888888888888, \"#fdca26\"], [1.0, \"#f0f921\"]], \"type\": \"histogram2dcontour\"}], \"mesh3d\": [{\"colorbar\": {\"outlinewidth\": 0, \"ticks\": \"\"}, \"type\": \"mesh3d\"}], \"parcoords\": [{\"line\": {\"colorbar\": {\"outlinewidth\": 0, \"ticks\": \"\"}}, \"type\": \"parcoords\"}], \"pie\": [{\"automargin\": true, \"type\": \"pie\"}], \"scatter\": [{\"marker\": {\"colorbar\": {\"outlinewidth\": 0, \"ticks\": \"\"}}, \"type\": \"scatter\"}], \"scatter3d\": [{\"line\": {\"colorbar\": {\"outlinewidth\": 0, \"ticks\": \"\"}}, \"marker\": {\"colorbar\": {\"outlinewidth\": 0, \"ticks\": \"\"}}, \"type\": \"scatter3d\"}], \"scattercarpet\": [{\"marker\": {\"colorbar\": {\"outlinewidth\": 0, \"ticks\": \"\"}}, \"type\": \"scattercarpet\"}], \"scattergeo\": [{\"marker\": {\"colorbar\": {\"outlinewidth\": 0, \"ticks\": \"\"}}, \"type\": \"scattergeo\"}], \"scattergl\": [{\"marker\": {\"colorbar\": {\"outlinewidth\": 0, \"ticks\": \"\"}}, \"type\": \"scattergl\"}], \"scattermapbox\": [{\"marker\": {\"colorbar\": {\"outlinewidth\": 0, \"ticks\": \"\"}}, \"type\": \"scattermapbox\"}], \"scatterpolar\": [{\"marker\": {\"colorbar\": {\"outlinewidth\": 0, \"ticks\": \"\"}}, \"type\": \"scatterpolar\"}], \"scatterpolargl\": [{\"marker\": {\"colorbar\": {\"outlinewidth\": 0, \"ticks\": \"\"}}, \"type\": \"scatterpolargl\"}], \"scatterternary\": [{\"marker\": {\"colorbar\": {\"outlinewidth\": 0, \"ticks\": \"\"}}, \"type\": \"scatterternary\"}], \"surface\": [{\"colorbar\": {\"outlinewidth\": 0, \"ticks\": \"\"}, \"colorscale\": [[0.0, \"#0d0887\"], [0.1111111111111111, \"#46039f\"], [0.2222222222222222, \"#7201a8\"], [0.3333333333333333, \"#9c179e\"], [0.4444444444444444, \"#bd3786\"], [0.5555555555555556, \"#d8576b\"], [0.6666666666666666, \"#ed7953\"], [0.7777777777777778, \"#fb9f3a\"], [0.8888888888888888, \"#fdca26\"], [1.0, \"#f0f921\"]], \"type\": \"surface\"}], \"table\": [{\"cells\": {\"fill\": {\"color\": \"#EBF0F8\"}, \"line\": {\"color\": \"white\"}}, \"header\": {\"fill\": {\"color\": \"#C8D4E3\"}, \"line\": {\"color\": \"white\"}}, \"type\": \"table\"}]}, \"layout\": {\"annotationdefaults\": {\"arrowcolor\": \"#2a3f5f\", \"arrowhead\": 0, \"arrowwidth\": 1}, \"coloraxis\": {\"colorbar\": {\"outlinewidth\": 0, \"ticks\": \"\"}}, \"colorscale\": {\"diverging\": [[0, \"#8e0152\"], [0.1, \"#c51b7d\"], [0.2, \"#de77ae\"], [0.3, \"#f1b6da\"], [0.4, \"#fde0ef\"], [0.5, \"#f7f7f7\"], [0.6, \"#e6f5d0\"], [0.7, \"#b8e186\"], [0.8, \"#7fbc41\"], [0.9, \"#4d9221\"], [1, \"#276419\"]], \"sequential\": [[0.0, \"#0d0887\"], [0.1111111111111111, \"#46039f\"], [0.2222222222222222, \"#7201a8\"], [0.3333333333333333, \"#9c179e\"], [0.4444444444444444, \"#bd3786\"], [0.5555555555555556, \"#d8576b\"], [0.6666666666666666, \"#ed7953\"], [0.7777777777777778, \"#fb9f3a\"], [0.8888888888888888, \"#fdca26\"], [1.0, \"#f0f921\"]], \"sequentialminus\": [[0.0, \"#0d0887\"], [0.1111111111111111, \"#46039f\"], [0.2222222222222222, \"#7201a8\"], [0.3333333333333333, \"#9c179e\"], [0.4444444444444444, \"#bd3786\"], [0.5555555555555556, \"#d8576b\"], [0.6666666666666666, \"#ed7953\"], [0.7777777777777778, \"#fb9f3a\"], [0.8888888888888888, \"#fdca26\"], [1.0, \"#f0f921\"]]}, \"colorway\": [\"#636efa\", \"#EF553B\", \"#00cc96\", \"#ab63fa\", \"#FFA15A\", \"#19d3f3\", \"#FF6692\", \"#B6E880\", \"#FF97FF\", \"#FECB52\"], \"font\": {\"color\": \"#2a3f5f\"}, \"geo\": {\"bgcolor\": \"white\", \"lakecolor\": \"white\", \"landcolor\": \"#E5ECF6\", \"showlakes\": true, \"showland\": true, \"subunitcolor\": \"white\"}, \"hoverlabel\": {\"align\": \"left\"}, \"hovermode\": \"closest\", \"mapbox\": {\"style\": \"light\"}, \"paper_bgcolor\": \"white\", \"plot_bgcolor\": \"#E5ECF6\", \"polar\": {\"angularaxis\": {\"gridcolor\": \"white\", \"linecolor\": \"white\", \"ticks\": \"\"}, \"bgcolor\": \"#E5ECF6\", \"radialaxis\": {\"gridcolor\": \"white\", \"linecolor\": \"white\", \"ticks\": \"\"}}, \"scene\": {\"xaxis\": {\"backgroundcolor\": \"#E5ECF6\", \"gridcolor\": \"white\", \"gridwidth\": 2, \"linecolor\": \"white\", \"showbackground\": true, \"ticks\": \"\", \"zerolinecolor\": \"white\"}, \"yaxis\": {\"backgroundcolor\": \"#E5ECF6\", \"gridcolor\": \"white\", \"gridwidth\": 2, \"linecolor\": \"white\", \"showbackground\": true, \"ticks\": \"\", \"zerolinecolor\": \"white\"}, \"zaxis\": {\"backgroundcolor\": \"#E5ECF6\", \"gridcolor\": \"white\", \"gridwidth\": 2, \"linecolor\": \"white\", \"showbackground\": true, \"ticks\": \"\", \"zerolinecolor\": \"white\"}}, \"shapedefaults\": {\"line\": {\"color\": \"#2a3f5f\"}}, \"ternary\": {\"aaxis\": {\"gridcolor\": \"white\", \"linecolor\": \"white\", \"ticks\": \"\"}, \"baxis\": {\"gridcolor\": \"white\", \"linecolor\": \"white\", \"ticks\": \"\"}, \"bgcolor\": \"#E5ECF6\", \"caxis\": {\"gridcolor\": \"white\", \"linecolor\": \"white\", \"ticks\": \"\"}}, \"title\": {\"x\": 0.05}, \"xaxis\": {\"automargin\": true, \"gridcolor\": \"white\", \"linecolor\": \"white\", \"ticks\": \"\", \"title\": {\"standoff\": 15}, \"zerolinecolor\": \"white\", \"zerolinewidth\": 2}, \"yaxis\": {\"automargin\": true, \"gridcolor\": \"white\", \"linecolor\": \"white\", \"ticks\": \"\", \"title\": {\"standoff\": 15}, \"zerolinecolor\": \"white\", \"zerolinewidth\": 2}}}, \"title\": {\"text\": \"Worldwide Coronovirus Cases\"}},\n",
       "                        {\"responsive\": true}\n",
       "                    ).then(function(){\n",
       "                            \n",
       "var gd = document.getElementById('02145205-5d18-404f-a4d7-c4e066a0b715');\n",
       "var x = new MutationObserver(function (mutations, observer) {{\n",
       "        var display = window.getComputedStyle(gd).display;\n",
       "        if (!display || display === 'none') {{\n",
       "            console.log([gd, 'removed!']);\n",
       "            Plotly.purge(gd);\n",
       "            observer.disconnect();\n",
       "        }}\n",
       "}});\n",
       "\n",
       "// Listen for the removal of the full notebook cells\n",
       "var notebookContainer = gd.closest('#notebook-container');\n",
       "if (notebookContainer) {{\n",
       "    x.observe(notebookContainer, {childList: true});\n",
       "}}\n",
       "\n",
       "// Listen for the clearing of the current output cell\n",
       "var outputEl = gd.closest('.output');\n",
       "if (outputEl) {{\n",
       "    x.observe(outputEl, {childList: true});\n",
       "}}\n",
       "\n",
       "                        })\n",
       "                };\n",
       "                });\n",
       "            </script>\n",
       "        </div>"
      ]
     },
     "metadata": {},
     "output_type": "display_data"
    }
   ],
   "source": [
    "choromap = go.Figure(data = [data],layout = layout)\n",
    "iplot(choromap)"
   ]
  },
  {
   "cell_type": "markdown",
   "metadata": {},
   "source": [
    "## Coronovirus Survey\n",
    "### Cleaning"
   ]
  },
  {
   "cell_type": "code",
   "execution_count": 27,
   "metadata": {},
   "outputs": [],
   "source": [
    "import seaborn as sns\n",
    "import re\n",
    "import matplotlib.pyplot as plt"
   ]
  },
  {
   "cell_type": "code",
   "execution_count": 116,
   "metadata": {},
   "outputs": [],
   "source": [
    "### Import Data\n",
    "\n",
    "data = pd.read_csv('MasterExcel2.csv')"
   ]
  },
  {
   "cell_type": "code",
   "execution_count": 117,
   "metadata": {},
   "outputs": [],
   "source": [
    "### Clean Data & add Age/Age Groups columns, and binary columns for [Male, Female, Student, Retired, Employed, Not Employed]\n",
    "\n",
    "data = data.replace({'1+2':1,'3+4':2,'5+6':3,'7+8':4,'9+10':5,'Self_employed':'Self-employed','Prefer not to say':'prefer_not_to_say'}) \n",
    "data['What is your employment status?'] = data['What is your employment status?'].str.capitalize() \n",
    "data['What is your gender?'] = data['What is your gender?'].str.capitalize()\n",
    "data['What is your ethnicity?'] = data['What is your ethnicity?'].str.capitalize() \n",
    "data['Age'] = 2020 - data['What year were you born?']\n",
    "data['Age_groups'] = pd.cut(x=data['Age'], bins=[0, 24, 39, 54, 70, 100])\n",
    "data[['Female','Male']] = pd.get_dummies(data['What is your gender?'])[['Female','Male']]\n",
    "data[['Student','Retired']] = pd.get_dummies(data['What is your employment status?'])[['Student','Retired']]\n",
    "employed = ['Employed full-time','Employed part-time','Employed_for_wages','Self-employed']\n",
    "not_employed = ['Homemaker','Not employed','Unemployed_looking','Unable_to_work','Student','Retired','Homemaker']\n",
    "data['Employed'] = 0\n",
    "data['Not Employed'] = 0\n",
    "for x in enumerate(data['What is your employment status?']):\n",
    "    for y in employed:\n",
    "        if y == x[1]:\n",
    "            data.loc[x[0],'Employed'] = 1\n",
    "for x in enumerate(data['What is your employment status?']):\n",
    "    for y in not_employed:\n",
    "        if y == x[1]:\n",
    "            data.loc[x[0],'Not Employed'] = 1"
   ]
  },
  {
   "cell_type": "code",
   "execution_count": 118,
   "metadata": {},
   "outputs": [],
   "source": [
    "# Clean up answer choices from different surveys for Ethnicity\n",
    "\n",
    "data['What is your ethnicity?'] = data['What is your ethnicity?'].str.replace('White','Caucasian')\n",
    "data['What is your ethnicity?'] = data['What is your ethnicity?'].str.replace('Hispanic/latinx','Hispanic')\n",
    "data['What is your ethnicity?'] = data['What is your ethnicity?'].str.replace('Latino','Hispanic')\n",
    "data['What is your ethnicity?'] = data['What is your ethnicity?'].str.replace('Hispanic/latinx','Hispanic')\n",
    "data['What is your ethnicity?'] = data['What is your ethnicity?'].str.replace('Black/african american','Black')\n",
    "data['What is your ethnicity?'] = data['What is your ethnicity?'].str.replace('Caucasian, asian/asian american','Multiracial')\n",
    "data['What is your ethnicity?'] = data['What is your ethnicity?'].str.replace('Caucasian, hispanic/latinx','Multiracial')\n",
    "data['What is your ethnicity?'] = data['What is your ethnicity?'].str.replace('Asian/asian american','Asian')\n",
    "data['What is your ethnicity?'] = data['What is your ethnicity?'].str.replace('Asian, other','Asian')\n",
    "data['What is your ethnicity?'] = data['What is your ethnicity?'].str.replace('Caucasian, jewish','Caucasian')\n",
    "data['What is your ethnicity?'] = data['What is your ethnicity?'].str.replace('Caucasian, asian','Multiracial')\n",
    "data['What is your ethnicity?'] = data['What is your ethnicity?'].str.replace('Multiracial/asian american','Multiracial')\n",
    "data['What is your ethnicity?'] = data['What is your ethnicity?'].str.replace('Arab','Asian')"
   ]
  },
  {
   "cell_type": "code",
   "execution_count": null,
   "metadata": {},
   "outputs": [],
   "source": [
    "'''\n",
    "### Clean up Income data (still not sure how to do this)\n",
    "data['What is your income?2'] = data['What is your income?'].copy()\n",
    "\n",
    "data['What is your income?2'] = data['What is your income?2'].str.replace('Less than $25,000','<$25,000')\n",
    "data['What is your income?2'] = data['What is your income?2'].str.replace('Between $25,000 and $49,999','$25,000-$49,999')\n",
    "data['What is your income?2'] = data['What is your income?2'].str.replace('Between $75,000 and $99,999','$75,000-$99,999')\n",
    "data['What is your income?2'] = data['What is your income?2'].str.replace('Between $100,000 and $124,999','$100,000-$124,999')\n",
    "data['What is your income?2'] = data['What is your income?2'].str.replace('Between $125,000 and $149,999','$125,000-$149,999')\n",
    "data['What is your income?2'] = data['What is your income?2'].str.replace('Between $150,000 and $199,000','>$150,000')\n",
    "data['What is your income?2'] = data['What is your income?2'].str.replace('More than $200,000','>$150,000')\n",
    "\n",
    "data['What is your income?2'] = data['What is your income?2'].str.replace('high_i','$100,000-$124,999')\n",
    "data['What is your income?2'] = data['What is your income?2'].str.replace('high_ii','$125,000-$149,999')\n",
    "data['What is your income?2'] = data['What is your income?2'].str.replace('high_iii','>$150,000')\n",
    "data['What is your income?2'] = data['What is your income?2'].str.replace('middle_i','$50,000-$74,999')\n",
    "data['What is your income?2'] = data['What is your income?2'].str.replace('middle_ii','$75,000-$99,999')\n",
    "data['What is your income?2'] = data['What is your income?2'].str.replace('lower_i','<$25,000')\n",
    "data['What is your income?2'] = data['What is your income?2'].str.replace('lower_ii','$25,000-$49,999')\n",
    "'''"
   ]
  },
  {
   "cell_type": "code",
   "execution_count": null,
   "metadata": {},
   "outputs": [],
   "source": [
    "incomelist = data['What is your income?']\n",
    "incomelist2 = []\n",
    "for x in incomelist:\n",
    "    x1 = str(x)\n",
    "    x1 = x1.replace('Less than $25,000','<$25,000')\n",
    "    x1 = x1.replace('Between $25,000 and $49,999','$25,000-$49,999')\n",
    "    x1 = x1.replace('Between $75,000 and $99,999','$75,000-$99,999')\n",
    "    x1 = x1.replace('Between $100,000 and $124,999','$100,000-$124,999')\n",
    "    x1 = x1.replace('Between $125,000 and $149,999','$125,000-$149,999')\n",
    "    x1 = x1.replace('Between $150,000 and $199,000','>$150,000')\n",
    "    x1 = x1.replace('More than $200,000','>$150,000')\n",
    "    x1 = x1.replace('high_iii','>$150,000')\n",
    "    x1 = x1.replace('high_ii','$125,000-$149,999')\n",
    "    x1 = x1.replace('high_i','$100,000-$124,999')\n",
    "    x1 = x1.replace('middle_ii','$75,000-$99,999')\n",
    "    x1 = x1.replace('middle_i','$50,000-$74,999')\n",
    "    x1 = x1.replace('lower_ii','$25,000-$49,999')\n",
    "    x1 = x1.replace('lower_i','<$25,000')\n",
    "    print (x1)\n",
    "    incomelist2.append(x1)\n",
    "data['income_group'] = incomelist2\n"
   ]
  },
  {
   "cell_type": "code",
   "execution_count": 121,
   "metadata": {},
   "outputs": [],
   "source": [
    "### Seperate \"last 48 hours\" question and create columns for each possible answer choice,\n",
    "### value = 1 indicates answer choice chosen, value = 0 indicates answer choice not selected\n",
    "\n",
    "last48hrs = re.split(r', (?=[A-Z])',data.iloc[175,9])\n",
    "last48hrs.append('Shook hands with anyone outside of my household')\n",
    "last48hrs.append('Attended in-person gatherings of 50 people')\n",
    "last48hrs.append('Ate at a restaurant')\n",
    "for x in last48hrs:\n",
    "    data[x] = 0\n",
    "for x in enumerate(data.iloc[:,9]):\n",
    "    for y in last48hrs:\n",
    "        if y in x[1]:\n",
    "            data.loc[x[0],y] = 1"
   ]
  },
  {
   "cell_type": "code",
   "execution_count": 122,
   "metadata": {},
   "outputs": [],
   "source": [
    "### Seperate \"loved ones affected\" question and create columns for each possible answer choice,\n",
    "### value = 1 indicates answer choice chosen, value = 0 indicates answer choice not selected\n",
    "\n",
    "loved_ones_aff = ['Yes, due to their age (60+)','Yes, due to existing medical conditions (Diabetes, heart disease, lung disease)','Yes, they live in areas affected by COVID-19 (parts of the USA, China, Italy, Korea, etc)','No',\"I don't know\"]\n",
    "for x in loved_ones_aff:\n",
    "    data[x] = 0\n",
    "for x in enumerate(data.iloc[:,8]):\n",
    "    for y in loved_ones_aff:\n",
    "        if y in x[1]:\n",
    "            data.loc[x[0],y] = 1"
   ]
  },
  {
   "cell_type": "code",
   "execution_count": null,
   "metadata": {},
   "outputs": [],
   "source": [
    "### Rename Columns\n",
    "\n",
    "for x in last48hrs:\n",
    "    data.rename(columns = {x:'In the past 48 hours: '+x}, inplace = True) \n",
    "for x in loved_ones_aff:\n",
    "    data.rename(columns = {x:'Loved ones affected? - '+x}, inplace = True) "
   ]
  },
  {
   "cell_type": "code",
   "execution_count": 123,
   "metadata": {},
   "outputs": [],
   "source": [
    "data.rename(columns = {'Rescheduled or canceled non-critical in-person gatherings and appointments (e.g. birthday parties, concerts, museums, annual checkups, spa, social dinners)':'Rescheduled or canceled non-critical in-person gatherings and appointments'}, inplace = True) "
   ]
  },
  {
   "cell_type": "code",
   "execution_count": null,
   "metadata": {},
   "outputs": [],
   "source": [
    "data.groupby('How are you doing financially today, compared to a year ago?')['Not Employed'].sum()"
   ]
  },
  {
   "cell_type": "markdown",
   "metadata": {},
   "source": [
    "### Plotting"
   ]
  },
  {
   "cell_type": "code",
   "execution_count": 374,
   "metadata": {},
   "outputs": [
    {
     "data": {
      "text/plain": [
       "<matplotlib.axes._subplots.AxesSubplot at 0x12a4082e8>"
      ]
     },
     "execution_count": 374,
     "metadata": {},
     "output_type": "execute_result"
    },
    {
     "data": {
      "image/png": "[encoded data removed]",
      "text/plain": [
       "<Figure size 432x288 with 1 Axes>"
      ]
     },
     "metadata": {
      "needs_background": "light"
     },
     "output_type": "display_data"
    }
   ],
   "source": [
    "import matplotlib.pyplot as plt\n",
    "import matplotlib.cm as cm\n",
    "import numpy as np\n",
    "\n",
    "last48 = data.iloc[:,25:36].mean().sort_values()\n",
    "last48.plot(kind='barh',color='Black')"
   ]
  },
  {
   "cell_type": "code",
   "execution_count": 375,
   "metadata": {},
   "outputs": [],
   "source": [
    "def piechart(series):    \n",
    "    labels = ['Yes','No']\n",
    "    explode = (0, 0.05)  # only \"explode\" the \"No\" slice \n",
    "    fig1, ax1 = plt.subplots()\n",
    "    ax1.pie(series.value_counts(), labels=labels, explode=explode, autopct='%1.1f%%',\n",
    "            shadow=False,startangle=180, colors = ['Silver','Grey'],pctdistance=.5,labeldistance=.68)\n",
    "    ax1.axis('equal')\n",
    "    csfont = {'fontname':'Calibri'}\n",
    "    plt.title(re.sub('^Yes,', 'Loved ones affected -',series.name),**csfont)\n",
    "    direc = 'COVID-19_Images'\n",
    "    plt.savefig(direc+'/'+series.name+'.png')\n"
   ]
  },
  {
   "cell_type": "code",
   "execution_count": null,
   "metadata": {},
   "outputs": [],
   "source": [
    "for cols in data.iloc[:,25:39].columns:\n",
    "    piechart(data[cols])"
   ]
  },
  {
   "cell_type": "code",
   "execution_count": 259,
   "metadata": {},
   "outputs": [
    {
     "data": {
      "text/plain": [
       "[(0, 1),\n",
       " Text(0, 0.5, 'Did not leave my home for non-critical needs'),\n",
       " Text(0.5, 1.0, 'In the Last 48 Hours:')]"
      ]
     },
     "execution_count": 259,
     "metadata": {},
     "output_type": "execute_result"
    },
    {
     "data": {
      "image/png": "[encoded data removed]",
      "text/plain": [
       "<Figure size 432x288 with 1 Axes>"
      ]
     },
     "metadata": {},
     "output_type": "display_data"
    }
   ],
   "source": [
    "### Age Groups x In last 48 hours\n",
    "\n",
    "sns.set(style=\"whitegrid\")\n",
    "\n",
    "ax = sns.barplot(x=\"age_groups\",y=\"No\",ci=None,palette='Reds',data=data,hue='Did not leave my home for non-critical needs')\n",
    "plt.legend(bbox_to_anchor=(1.05, 1), loc=2, borderaxespad=0.,labels=('No','Yes'))\n",
    "ax.set(ylabel='Did not leave my home for non-critical needs',title='In the Last 48 Hours:',ylim=[0,1])\n"
   ]
  },
  {
   "cell_type": "code",
   "execution_count": null,
   "metadata": {},
   "outputs": [],
   "source": []
  },
  {
   "cell_type": "markdown",
   "metadata": {},
   "source": [
    "## Bokeh Interactive Plotting"
   ]
  },
  {
   "cell_type": "code",
   "execution_count": 270,
   "metadata": {},
   "outputs": [],
   "source": [
    "from bokeh.plotting import figure,output_file, show\n",
    "from bokeh.models import ColumnDataSource\n",
    "from bokeh.models.tools import HoverTool"
   ]
  },
  {
   "cell_type": "code",
   "execution_count": null,
   "metadata": {},
   "outputs": [],
   "source": [
    "weeks = data['How many WEEKS do you think it’ll take before your daily life returns to normal?']\n",
    "eth = data['What is your ethnicity?']\n",
    "output_file('index.html')\n",
    "source = ColumnDataSource(data)\n",
    "eths = list(set(source.data['What is your ethnicity?'].tolist()))\n",
    "print (eths)\n",
    "#Add Plot\n",
    "p = figure(y_range=eths,\n",
    "           x_axis_label='Weeks',\n",
    "           y_axis_label='Ethnicity',\n",
    "           plot_width = 800,\n",
    "           plot_height = 600,\n",
    "           title='Weeks before daily life returns by Ethnicity'\n",
    "          )\n",
    "\n",
    "p.hbar(y='What is your ethnicity?',source=source,right='How many WEEKS do you think it’ll take before your daily life returns to normal?',left=0,height=.4,color='green',fill_alpha=.5)\n",
    "\n",
    "\n",
    "#hover = HoverTool()\n",
    "#hover.tooltips=[('',''),('',''),('',''),('',''),]\n",
    "#p.add_tools(hover)\n",
    "\n",
    "show(p)"
   ]
  },
  {
   "cell_type": "markdown",
   "metadata": {},
   "source": [
    "# Plotly Interactive Plotting"
   ]
  },
  {
   "cell_type": "code",
   "execution_count": 1,
   "metadata": {},
   "outputs": [
    {
     "ename": "NameError",
     "evalue": "name 'data' is not defined",
     "output_type": "error",
     "traceback": [
      "\u001b[0;31m---------------------------------------------------------------------------\u001b[0m",
      "\u001b[0;31mNameError\u001b[0m                                 Traceback (most recent call last)",
      "\u001b[0;32m<ipython-input-1-c3d483a1c074>\u001b[0m in \u001b[0;36m<module>\u001b[0;34m\u001b[0m\n\u001b[0;32m----> 1\u001b[0;31m \u001b[0mdata\u001b[0m\u001b[0;34m.\u001b[0m\u001b[0mcolumns\u001b[0m\u001b[0;34m\u001b[0m\u001b[0;34m\u001b[0m\u001b[0m\n\u001b[0m",
      "\u001b[0;31mNameError\u001b[0m: name 'data' is not defined"
     ]
    }
   ],
   "source": [
    "data.columns"
   ]
  },
  {
   "cell_type": "code",
   "execution_count": null,
   "metadata": {},
   "outputs": [],
   "source": [
    "import plotly.plotly as py\n",
    "import plotly.graph_objs as go\n",
    "\n",
    "trace0 = go.Bar(\n",
    "    x=['Product A', 'Product B', 'Product C'],\n",
    "    y=[20, 14, 23],\n",
    "    text=['27% market share', '24% market share', '19% market share'],\n",
    "    marker=dict(\n",
    "        color='rgb(158,202,225)',\n",
    "        line=dict(\n",
    "            color='rgb(8,48,107)',\n",
    "            width=1.5,\n",
    "        )\n",
    "    ),\n",
    "    opacity=0.6\n",
    ")\n",
    "\n",
    "data = [trace0]\n",
    "layout = go.Layout(\n",
    "    title='January 2013 Sales Report',\n",
    ")\n",
    "\n",
    "fig = go.Figure(data=data, layout=layout)\n",
    "py.iplot(fig, filename='text-hover-bar')"
   ]
  }
 ],
 "metadata": {
  "kernelspec": {
   "display_name": "Python 3",
   "language": "python",
   "name": "python3"
  },
  "language_info": {
   "codemirror_mode": {
    "name": "ipython",
    "version": 3
   },
   "file_extension": ".py",
   "mimetype": "text/x-python",
   "name": "python",
   "nbconvert_exporter": "python",
   "pygments_lexer": "ipython3",
   "version": "3.7.3"
  }
 },
 "nbformat": 4,
 "nbformat_minor": 2
}
